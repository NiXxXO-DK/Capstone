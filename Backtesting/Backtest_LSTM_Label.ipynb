{
 "cells": [
  {
   "cell_type": "code",
   "execution_count": 57,
   "metadata": {
    "cell_id": "00000-33176f60-ac26-43c6-aa6a-e73238376a22",
    "deepnote_cell_type": "code",
    "deepnote_to_be_reexecuted": false,
    "execution_millis": 42,
    "execution_start": 1640169240866,
    "source_hash": "c76c7c51",
    "tags": []
   },
   "outputs": [],
   "source": [
    "import pandas as pd\n",
    "import numpy as np"
   ]
  },
  {
   "cell_type": "code",
   "execution_count": 58,
   "metadata": {
    "cell_id": "00001-58172ef3-08e7-4c73-ac1e-c9d0ed58c464",
    "deepnote_cell_type": "code",
    "deepnote_output_heights": [
     155.5625
    ],
    "deepnote_to_be_reexecuted": false,
    "execution_millis": 0,
    "execution_start": 1640169240908,
    "source_hash": "ea23f521",
    "tags": []
   },
   "outputs": [],
   "source": [
    "#import the backtesting dataset\n",
    "pfe = pd.read_csv('I:\\python_file\\save\\M4 (1)\\LSTM Multi\\LSTM_label.csv', index_col=0)\n",
    "pfe = pfe.set_index(pd.DatetimeIndex(pfe.index))"
   ]
  },
  {
   "cell_type": "code",
   "execution_count": 59,
   "metadata": {
    "cell_id": "00002-d9ed5312-4cea-496e-93b8-9cb1bf94bb52",
    "deepnote_cell_type": "code",
    "deepnote_output_heights": [
     174.765625
    ],
    "deepnote_to_be_reexecuted": false,
    "execution_millis": 0,
    "execution_start": 1640169240952,
    "source_hash": "d765f04c",
    "tags": []
   },
   "outputs": [],
   "source": [
    "#import the dataset into a new dataframe \n",
    "signals = pd.DataFrame(index=pfe.index)\n",
    "signals['signal'] = 0.0\n",
    "#signals['return'] = pfe['Daily Return']\n",
    "signals['predict'] = pfe['Predict_close']\n",
    "signals['close'] = pfe['Adj Close']\n",
    "signals['date'] = signals.index\n",
    "signals = signals.reset_index()"
   ]
  },
  {
   "cell_type": "code",
   "execution_count": 60,
   "metadata": {
    "cell_id": "00003-54f8e45b-4f9a-4994-9b5d-69fa2643eba1",
    "deepnote_cell_type": "code",
    "deepnote_output_heights": [
     78.78125
    ],
    "deepnote_to_be_reexecuted": false,
    "execution_millis": 1,
    "execution_start": 1640169602504,
    "source_hash": "aef73a80",
    "tags": []
   },
   "outputs": [],
   "source": [
    "#Create signals when to buy the stock dependet on the predctions \n",
    "\n",
    "# how big should the prediction be before buy position \n",
    "span = 0.001\n",
    "\n",
    "#Create signal if the stock is going up by more then the span\n",
    "predict_list = [0]\n",
    "for x in signals['predict']:     \n",
    "    if x > span:\n",
    "        list = 1\n",
    "        predict_list.append(list)\n",
    "    elif predict_list[-1]==1:\n",
    "        if x<-0.001:\n",
    "            list1 = 1\n",
    "            predict_list.append(list1)\n",
    "        #else:\n",
    "        #    list2 = -1\n",
    "        #    predict_list.append(list2)\n",
    "        else: \n",
    "            list3 = 0\n",
    "            predict_list.append(list3)\n",
    "    else: \n",
    "        list3 = 0\n",
    "        predict_list.append(list3)\n",
    "\n",
    "del predict_list[0]\n",
    "#del predict_list[-1]\n",
    "#predict_list.append(-1)\n",
    "signals['signal'] = predict_list"
   ]
  },
  {
   "cell_type": "code",
   "execution_count": 61,
   "metadata": {
    "cell_id": "00004-9382cc07-fbd6-4bd0-a88b-0ab35fba5e98",
    "deepnote_cell_type": "code",
    "deepnote_to_be_reexecuted": false,
    "execution_millis": 190,
    "execution_start": 1640169602505,
    "source_hash": "8f91a602",
    "tags": []
   },
   "outputs": [],
   "source": [
    "# create a new list depending on the signal \n",
    "#buy and keep aslong as the signal says 1 and change to sell -1 when the buy signal stops \n",
    "signals['positions'] = signals['signal'].diff()\n",
    "\n",
    "#import the dates as index again\n",
    "signals = signals.set_index('Date',drop=True)\n",
    "#del signals['index']"
   ]
  },
  {
   "cell_type": "code",
   "execution_count": 62,
   "metadata": {
    "cell_id": "00005-08b0fe4d-5a06-42e3-b1b1-6beb6eae47f8",
    "deepnote_cell_type": "code",
    "deepnote_to_be_reexecuted": false,
    "execution_millis": 58,
    "execution_start": 1640169606433,
    "source_hash": "d09e1f5b",
    "tags": []
   },
   "outputs": [
    {
     "data": {
      "text/html": [
       "<div>\n",
       "<style scoped>\n",
       "    .dataframe tbody tr th:only-of-type {\n",
       "        vertical-align: middle;\n",
       "    }\n",
       "\n",
       "    .dataframe tbody tr th {\n",
       "        vertical-align: top;\n",
       "    }\n",
       "\n",
       "    .dataframe thead th {\n",
       "        text-align: right;\n",
       "    }\n",
       "</style>\n",
       "<table border=\"1\" class=\"dataframe\">\n",
       "  <thead>\n",
       "    <tr style=\"text-align: right;\">\n",
       "      <th></th>\n",
       "      <th>signal</th>\n",
       "      <th>predict</th>\n",
       "      <th>close</th>\n",
       "      <th>date</th>\n",
       "      <th>positions</th>\n",
       "    </tr>\n",
       "    <tr>\n",
       "      <th>Date</th>\n",
       "      <th></th>\n",
       "      <th></th>\n",
       "      <th></th>\n",
       "      <th></th>\n",
       "      <th></th>\n",
       "    </tr>\n",
       "  </thead>\n",
       "  <tbody>\n",
       "    <tr>\n",
       "      <th>2021-05-27</th>\n",
       "      <td>1</td>\n",
       "      <td>0.002003</td>\n",
       "      <td>37.969791</td>\n",
       "      <td>2021-05-27</td>\n",
       "      <td>NaN</td>\n",
       "    </tr>\n",
       "    <tr>\n",
       "      <th>2021-05-28</th>\n",
       "      <td>1</td>\n",
       "      <td>0.001677</td>\n",
       "      <td>38.048382</td>\n",
       "      <td>2021-05-28</td>\n",
       "      <td>0.0</td>\n",
       "    </tr>\n",
       "    <tr>\n",
       "      <th>2021-06-01</th>\n",
       "      <td>1</td>\n",
       "      <td>0.001559</td>\n",
       "      <td>37.822430</td>\n",
       "      <td>2021-06-01</td>\n",
       "      <td>0.0</td>\n",
       "    </tr>\n",
       "  </tbody>\n",
       "</table>\n",
       "</div>"
      ],
      "text/plain": [
       "            signal   predict      close       date  positions\n",
       "Date                                                         \n",
       "2021-05-27       1  0.002003  37.969791 2021-05-27        NaN\n",
       "2021-05-28       1  0.001677  38.048382 2021-05-28        0.0\n",
       "2021-06-01       1  0.001559  37.822430 2021-06-01        0.0"
      ]
     },
     "execution_count": 62,
     "metadata": {},
     "output_type": "execute_result"
    }
   ],
   "source": [
    "signals.head(3)"
   ]
  },
  {
   "cell_type": "code",
   "execution_count": 63,
   "metadata": {
    "cell_id": "00006-14b412bc-53a3-4229-9a4a-cbfc8854e9b8",
    "deepnote_cell_type": "code",
    "deepnote_to_be_reexecuted": false,
    "execution_millis": 60,
    "execution_start": 1640169607116,
    "source_hash": "50d6afab",
    "tags": []
   },
   "outputs": [
    {
     "name": "stdout",
     "output_type": "stream",
     "text": [
      "1    92\n",
      "0    45\n",
      "Name: signal, dtype: int64\n",
      " 0.0    120\n",
      "-1.0      8\n",
      " 1.0      8\n",
      "Name: positions, dtype: int64\n"
     ]
    }
   ],
   "source": [
    "print(signals.signal.value_counts())\n",
    "print(signals.positions.value_counts())"
   ]
  },
  {
   "cell_type": "code",
   "execution_count": 64,
   "metadata": {
    "cell_id": "00007-2116dd97-52de-4f2d-a30f-dfa5a0cd8ae2",
    "deepnote_cell_type": "code",
    "deepnote_output_heights": [
     262
    ],
    "deepnote_to_be_reexecuted": false,
    "execution_millis": 276,
    "execution_start": 1640169608464,
    "source_hash": "91cb3c58",
    "tags": []
   },
   "outputs": [
    {
     "data": {
      "image/png": "[encoded data removed]",
      "text/plain": [
       "<Figure size 432x288 with 1 Axes>"
      ]
     },
     "metadata": {
      "needs_background": "light"
     },
     "output_type": "display_data"
    }
   ],
   "source": [
    "# Import `pyplot` module as `plt`\n",
    "import matplotlib.pyplot as plt\n",
    "\n",
    "# Initialize the plot figure\n",
    "fig = plt.figure()\n",
    "\n",
    "# Add a subplot and label for y-axis\n",
    "ax1 = fig.add_subplot(111,  ylabel='Price in $')\n",
    "\n",
    "# Plot the closing price\n",
    "pfe['Adj Close'].plot(ax=ax1, color='r', lw=2.)\n",
    "\n",
    "# Plot the short and long moving averages\n",
    "#signals[['short_mavg_return', 'short_mavg_predict']].plot(ax=ax1, lw=2.)\n",
    "\n",
    "# Plot the buy signals\n",
    "ax1.plot(signals.loc[signals.positions == 1.0].index, \n",
    "         signals.close[signals.positions == 1.0],\n",
    "         '^', markersize=10, color='m')\n",
    "         \n",
    "# Plot the sell signals\n",
    "ax1.plot(signals.loc[signals.positions == -1.0].index, \n",
    "         signals.close[signals.positions == -1.0],\n",
    "         'v', markersize=10, color='k')\n",
    "         \n",
    "# Show the plot\n",
    "plt.show()"
   ]
  },
  {
   "cell_type": "code",
   "execution_count": 65,
   "metadata": {
    "cell_id": "00008-513777e4-d69b-4ac6-ae86-a4c56a8110e6",
    "deepnote_cell_type": "code",
    "deepnote_to_be_reexecuted": false,
    "execution_millis": 29,
    "execution_start": 1640169614087,
    "source_hash": "2931678f",
    "tags": []
   },
   "outputs": [
    {
     "name": "stdout",
     "output_type": "stream",
     "text": [
      "                   PFE    holdings         cash        total  returns\n",
      "Date                                                                 \n",
      "2021-12-08    0.000000    0.000000  1578.523216  1578.523216      0.0\n",
      "2021-12-09    0.000000    0.000000  1578.523216  1578.523216      0.0\n",
      "2021-12-10    0.000000    0.000000  1578.523216  1578.523216      0.0\n",
      "2021-12-13    0.000000    0.000000  1578.523216  1578.523216      0.0\n",
      "2021-12-14  555.400009  555.400009  1023.123207  1578.523216      0.0\n"
     ]
    }
   ],
   "source": [
    "# Set the initial capital\n",
    "initial_capital= float(1000.0)\n",
    "\n",
    "# Create a DataFrame `positions`\n",
    "positions = pd.DataFrame(index=signals.index).fillna(0.0)\n",
    "\n",
    "# Buy a 100 shares\n",
    "positions['PFE'] = 10*signals['signal']   \n",
    "  \n",
    "# Initialize the portfolio with value owned   \n",
    "portfolio = positions.multiply(pfe['Adj Close'], axis=0)\n",
    "\n",
    "# Store the difference in shares owned \n",
    "pos_diff = positions.diff()\n",
    "\n",
    "# Add `holdings` to portfolio\n",
    "portfolio['holdings'] = (positions.multiply(pfe['Adj Close'], axis=0)).sum(axis=1)\n",
    "\n",
    "# Add `cash` to portfolio\n",
    "portfolio['cash'] = initial_capital - (pos_diff.multiply(pfe['Adj Close'], axis=0)).sum(axis=1).cumsum()   \n",
    "\n",
    "# Add `total` to portfolio\n",
    "portfolio['total'] = portfolio['cash'] + portfolio['holdings']\n",
    "\n",
    "# Add `returns` to portfolio\n",
    "portfolio['returns'] = portfolio['total'].pct_change()\n",
    "\n",
    "# Print the first lines of `portfolio`\n",
    "print(portfolio.tail())"
   ]
  },
  {
   "cell_type": "code",
   "execution_count": 66,
   "metadata": {
    "cell_id": "00009-4739f355-41eb-4606-a2a6-02535242e995",
    "deepnote_cell_type": "code",
    "deepnote_output_heights": [
     265
    ],
    "deepnote_to_be_reexecuted": false,
    "execution_millis": 388,
    "execution_start": 1640169616440,
    "source_hash": "42bfe354",
    "tags": []
   },
   "outputs": [
    {
     "data": {
      "image/png": "[encoded data removed]",
      "text/plain": [
       "<Figure size 432x288 with 1 Axes>"
      ]
     },
     "metadata": {
      "needs_background": "light"
     },
     "output_type": "display_data"
    }
   ],
   "source": [
    "# Import the `pyplot` module as `plt`\n",
    "import matplotlib.pyplot as plt\n",
    "\n",
    "# Create a figure\n",
    "fig = plt.figure()\n",
    "\n",
    "ax1 = fig.add_subplot(111, ylabel='Portfolio value in $')\n",
    "\n",
    "# Plot the equity curve in dollars\n",
    "portfolio['total'].plot(ax=ax1, lw=2.)\n",
    "\n",
    "ax1.plot(portfolio.loc[signals.positions == 1.0].index, \n",
    "         portfolio.total[signals.positions == 1.0],\n",
    "         '^', markersize=10, color='m')\n",
    "ax1.plot(portfolio.loc[signals.positions == -1.0].index, \n",
    "         portfolio.total[signals.positions == -1.0],\n",
    "         'v', markersize=10, color='k')\n",
    "\n",
    "# Show the plot\n",
    "plt.show()"
   ]
  },
  {
   "cell_type": "code",
   "execution_count": null,
   "metadata": {
    "cell_id": "00010-1e9e0647-039f-4ee5-9c7d-e7b3398b7a28",
    "deepnote_cell_type": "code",
    "tags": []
   },
   "outputs": [],
   "source": []
  },
  {
   "cell_type": "markdown",
   "metadata": {
    "created_in_deepnote_cell": true,
    "deepnote_cell_type": "markdown",
    "tags": []
   },
   "source": [
    "<a style='text-decoration:none;line-height:16px;display:flex;color:#5B5B62;padding:10px;justify-content:end;' href='https://deepnote.com?utm_source=created-in-deepnote-cell&projectId=520f7743-fdb5-41d4-ba65-deb67c6338e8' target=\"_blank\">\n",
    "<img alt='Created in deepnote.com' style='display:inline;max-height:16px;margin:0px;margin-right:7.5px;' src='data:image/svg+xml;base64,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' > </img>\n",
    "Created in <span style='font-weight:600;margin-left:4px;'>Deepnote</span></a>"
   ]
  }
 ],
 "metadata": {
  "deepnote": {
   "is_reactive": false
  },
  "deepnote_execution_queue": [],
  "deepnote_notebook_id": "33f1c3ae-d673-4d68-a19b-2aa3f14234f8",
  "language_info": {
   "name": "python"
  },
  "orig_nbformat": 2
 },
 "nbformat": 4,
 "nbformat_minor": 2
}
