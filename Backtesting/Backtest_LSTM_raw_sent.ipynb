{
 "cells": [
  {
   "cell_type": "code",
   "execution_count": 3,
   "metadata": {
    "cell_id": "00000-4d4687e8-85e6-4177-948b-80d4ea8a1915",
    "deepnote_cell_type": "code",
    "deepnote_to_be_reexecuted": false,
    "execution_millis": 1,
    "execution_start": 1640835685636,
    "source_hash": "c76c7c51",
    "tags": []
   },
   "outputs": [],
   "source": [
    "import pandas as pd\n",
    "import numpy as np"
   ]
  },
  {
   "cell_type": "code",
   "execution_count": 6,
   "metadata": {
    "cell_id": "00001-296d4787-214d-476a-85dd-404842e81e09",
    "deepnote_cell_type": "code",
    "deepnote_output_heights": [
     155.5625
    ],
    "deepnote_to_be_reexecuted": false,
    "execution_millis": 0,
    "execution_start": 1640835685637,
    "source_hash": "648c8c5d",
    "tags": []
   },
   "outputs": [],
   "source": [
    "#import the backtesting dataset\n",
    "pfe = pd.read_csv('I:\\python_file\\save\\M4 (1)\\LSTM Multi\\LSTM_raw_sent.csv', index_col=0)\n",
    "pfe = pfe.set_index(pd.DatetimeIndex(pfe.index))"
   ]
  },
  {
   "cell_type": "code",
   "execution_count": 18,
   "metadata": {},
   "outputs": [
    {
     "data": {
      "text/html": [
       "<div>\n",
       "<style scoped>\n",
       "    .dataframe tbody tr th:only-of-type {\n",
       "        vertical-align: middle;\n",
       "    }\n",
       "\n",
       "    .dataframe tbody tr th {\n",
       "        vertical-align: top;\n",
       "    }\n",
       "\n",
       "    .dataframe thead th {\n",
       "        text-align: right;\n",
       "    }\n",
       "</style>\n",
       "<table border=\"1\" class=\"dataframe\">\n",
       "  <thead>\n",
       "    <tr style=\"text-align: right;\">\n",
       "      <th></th>\n",
       "      <th>Adj Close</th>\n",
       "      <th>Daily Return</th>\n",
       "      <th>neg</th>\n",
       "      <th>neu</th>\n",
       "      <th>pos</th>\n",
       "      <th>Predict_close</th>\n",
       "    </tr>\n",
       "    <tr>\n",
       "      <th>Date</th>\n",
       "      <th></th>\n",
       "      <th></th>\n",
       "      <th></th>\n",
       "      <th></th>\n",
       "      <th></th>\n",
       "      <th></th>\n",
       "    </tr>\n",
       "  </thead>\n",
       "  <tbody>\n",
       "    <tr>\n",
       "      <th>2021-06-02</th>\n",
       "      <td>38.107330</td>\n",
       "      <td>0.007533</td>\n",
       "      <td>0.075364</td>\n",
       "      <td>0.859182</td>\n",
       "      <td>0.065455</td>\n",
       "      <td>0.002848</td>\n",
       "    </tr>\n",
       "    <tr>\n",
       "      <th>2021-06-03</th>\n",
       "      <td>38.284161</td>\n",
       "      <td>0.004640</td>\n",
       "      <td>0.068143</td>\n",
       "      <td>0.833429</td>\n",
       "      <td>0.098429</td>\n",
       "      <td>0.002819</td>\n",
       "    </tr>\n",
       "    <tr>\n",
       "      <th>2021-06-04</th>\n",
       "      <td>38.460995</td>\n",
       "      <td>0.004619</td>\n",
       "      <td>0.053667</td>\n",
       "      <td>0.840000</td>\n",
       "      <td>0.106222</td>\n",
       "      <td>0.002788</td>\n",
       "    </tr>\n",
       "    <tr>\n",
       "      <th>2021-06-07</th>\n",
       "      <td>38.303810</td>\n",
       "      <td>-0.004087</td>\n",
       "      <td>0.046333</td>\n",
       "      <td>0.863000</td>\n",
       "      <td>0.090750</td>\n",
       "      <td>0.002834</td>\n",
       "    </tr>\n",
       "    <tr>\n",
       "      <th>2021-06-08</th>\n",
       "      <td>38.166271</td>\n",
       "      <td>-0.003591</td>\n",
       "      <td>0.071600</td>\n",
       "      <td>0.881600</td>\n",
       "      <td>0.046800</td>\n",
       "      <td>0.002842</td>\n",
       "    </tr>\n",
       "    <tr>\n",
       "      <th>...</th>\n",
       "      <td>...</td>\n",
       "      <td>...</td>\n",
       "      <td>...</td>\n",
       "      <td>...</td>\n",
       "      <td>...</td>\n",
       "      <td>...</td>\n",
       "    </tr>\n",
       "    <tr>\n",
       "      <th>2021-12-08</th>\n",
       "      <td>51.400002</td>\n",
       "      <td>-0.006187</td>\n",
       "      <td>0.057240</td>\n",
       "      <td>0.871200</td>\n",
       "      <td>0.071560</td>\n",
       "      <td>0.001181</td>\n",
       "    </tr>\n",
       "    <tr>\n",
       "      <th>2021-12-09</th>\n",
       "      <td>52.080002</td>\n",
       "      <td>0.013230</td>\n",
       "      <td>0.010294</td>\n",
       "      <td>0.931176</td>\n",
       "      <td>0.058529</td>\n",
       "      <td>0.000763</td>\n",
       "    </tr>\n",
       "    <tr>\n",
       "      <th>2021-12-10</th>\n",
       "      <td>52.779999</td>\n",
       "      <td>0.013441</td>\n",
       "      <td>0.049933</td>\n",
       "      <td>0.785667</td>\n",
       "      <td>0.164333</td>\n",
       "      <td>0.000791</td>\n",
       "    </tr>\n",
       "    <tr>\n",
       "      <th>2021-12-13</th>\n",
       "      <td>55.200001</td>\n",
       "      <td>0.045851</td>\n",
       "      <td>0.095000</td>\n",
       "      <td>0.818400</td>\n",
       "      <td>0.087000</td>\n",
       "      <td>0.000930</td>\n",
       "    </tr>\n",
       "    <tr>\n",
       "      <th>2021-12-14</th>\n",
       "      <td>55.540001</td>\n",
       "      <td>0.006159</td>\n",
       "      <td>0.010375</td>\n",
       "      <td>0.887125</td>\n",
       "      <td>0.102500</td>\n",
       "      <td>0.001238</td>\n",
       "    </tr>\n",
       "  </tbody>\n",
       "</table>\n",
       "<p>137 rows × 6 columns</p>\n",
       "</div>"
      ],
      "text/plain": [
       "            Adj Close  Daily Return       neg       neu       pos  \\\n",
       "Date                                                                \n",
       "2021-06-02  38.107330      0.007533  0.075364  0.859182  0.065455   \n",
       "2021-06-03  38.284161      0.004640  0.068143  0.833429  0.098429   \n",
       "2021-06-04  38.460995      0.004619  0.053667  0.840000  0.106222   \n",
       "2021-06-07  38.303810     -0.004087  0.046333  0.863000  0.090750   \n",
       "2021-06-08  38.166271     -0.003591  0.071600  0.881600  0.046800   \n",
       "...               ...           ...       ...       ...       ...   \n",
       "2021-12-08  51.400002     -0.006187  0.057240  0.871200  0.071560   \n",
       "2021-12-09  52.080002      0.013230  0.010294  0.931176  0.058529   \n",
       "2021-12-10  52.779999      0.013441  0.049933  0.785667  0.164333   \n",
       "2021-12-13  55.200001      0.045851  0.095000  0.818400  0.087000   \n",
       "2021-12-14  55.540001      0.006159  0.010375  0.887125  0.102500   \n",
       "\n",
       "            Predict_close  \n",
       "Date                       \n",
       "2021-06-02       0.002848  \n",
       "2021-06-03       0.002819  \n",
       "2021-06-04       0.002788  \n",
       "2021-06-07       0.002834  \n",
       "2021-06-08       0.002842  \n",
       "...                   ...  \n",
       "2021-12-08       0.001181  \n",
       "2021-12-09       0.000763  \n",
       "2021-12-10       0.000791  \n",
       "2021-12-13       0.000930  \n",
       "2021-12-14       0.001238  \n",
       "\n",
       "[137 rows x 6 columns]"
      ]
     },
     "execution_count": 18,
     "metadata": {},
     "output_type": "execute_result"
    }
   ],
   "source": [
    "pfe"
   ]
  },
  {
   "cell_type": "code",
   "execution_count": 8,
   "metadata": {
    "cell_id": "00002-b20a0435-6fed-465a-896d-00edb7b46a3c",
    "deepnote_cell_type": "code",
    "deepnote_output_heights": [
     174.765625
    ],
    "deepnote_to_be_reexecuted": false,
    "execution_millis": 0,
    "execution_start": 1640835685680,
    "source_hash": "d765f04c",
    "tags": []
   },
   "outputs": [],
   "source": [
    "#import the dataset into a new dataframe \n",
    "signals = pd.DataFrame(index=pfe.index)\n",
    "signals['signal'] = 0.0\n",
    "#signals['return'] = pfe['Daily Return']\n",
    "signals['predict'] = pfe['Predict_close']\n",
    "signals['close'] = pfe['Adj Close']\n",
    "signals['date'] = signals.index\n",
    "signals = signals.reset_index()"
   ]
  },
  {
   "cell_type": "code",
   "execution_count": 9,
   "metadata": {
    "cell_id": "00003-607905ce-75dd-4b4e-9701-c0f501d5e0db",
    "deepnote_cell_type": "code",
    "deepnote_output_heights": [
     78.78125
    ],
    "deepnote_to_be_reexecuted": false,
    "execution_millis": 1,
    "execution_start": 1640835685680,
    "source_hash": "435cb4cd",
    "tags": []
   },
   "outputs": [],
   "source": [
    "#Create signals when to buy the stock dependet on the predctions \n",
    "\n",
    "# how big should the prediction be before buy position \n",
    "#span = 0.0005\n",
    "span = 0.001\n",
    "#Create signal if the stock is going up by more then the span\n",
    "predict_list = [0]\n",
    "for x in signals['predict']:     \n",
    "    if x > span:\n",
    "        list = 1\n",
    "        predict_list.append(list)\n",
    "    elif predict_list[-1]==1:\n",
    "        if x<-0.001:\n",
    "            list1 = 1\n",
    "            predict_list.append(list1)\n",
    "        #else:\n",
    "        #    list2 = -1\n",
    "        #    predict_list.append(list2)\n",
    "        else: \n",
    "            list3 = 0\n",
    "            predict_list.append(list3)\n",
    "    else: \n",
    "        list3 = 0\n",
    "        predict_list.append(list3)\n",
    "\n",
    "del predict_list[0]\n",
    "#del predict_list[-1]\n",
    "#predict_list.append(-1)\n",
    "signals['signal'] = predict_list"
   ]
  },
  {
   "cell_type": "code",
   "execution_count": 10,
   "metadata": {
    "cell_id": "00004-85a7893c-5741-4460-aadc-a92ff4284144",
    "deepnote_cell_type": "code",
    "deepnote_to_be_reexecuted": false,
    "execution_millis": 0,
    "execution_start": 1640835685681,
    "source_hash": "a2d52501",
    "tags": []
   },
   "outputs": [],
   "source": [
    "# create a new list depending on the signal \n",
    "#buy and keep aslong as the signal says 1 and change to sell -1 when the buy signal stops \n",
    "signals['positions'] = signals['signal'].diff()\n",
    "\n",
    "#import the dates as index again\n",
    "signals = signals.set_index('Date',drop=True)\n",
    "#<del signals['index']"
   ]
  },
  {
   "cell_type": "code",
   "execution_count": 11,
   "metadata": {
    "cell_id": "00005-9a93b9e0-cbf1-4786-8e88-d3b7dd7cd392",
    "deepnote_cell_type": "code",
    "deepnote_to_be_reexecuted": false,
    "execution_millis": 369,
    "execution_start": 1640835685731,
    "source_hash": "cce14f",
    "tags": []
   },
   "outputs": [
    {
     "data": {
      "text/html": [
       "<div>\n",
       "<style scoped>\n",
       "    .dataframe tbody tr th:only-of-type {\n",
       "        vertical-align: middle;\n",
       "    }\n",
       "\n",
       "    .dataframe tbody tr th {\n",
       "        vertical-align: top;\n",
       "    }\n",
       "\n",
       "    .dataframe thead th {\n",
       "        text-align: right;\n",
       "    }\n",
       "</style>\n",
       "<table border=\"1\" class=\"dataframe\">\n",
       "  <thead>\n",
       "    <tr style=\"text-align: right;\">\n",
       "      <th></th>\n",
       "      <th>signal</th>\n",
       "      <th>predict</th>\n",
       "      <th>close</th>\n",
       "      <th>date</th>\n",
       "      <th>positions</th>\n",
       "    </tr>\n",
       "    <tr>\n",
       "      <th>Date</th>\n",
       "      <th></th>\n",
       "      <th></th>\n",
       "      <th></th>\n",
       "      <th></th>\n",
       "      <th></th>\n",
       "    </tr>\n",
       "  </thead>\n",
       "  <tbody>\n",
       "    <tr>\n",
       "      <th>2021-04-08</th>\n",
       "      <td>1</td>\n",
       "      <td>0.003861</td>\n",
       "      <td>34.982433</td>\n",
       "      <td>2021-04-08</td>\n",
       "      <td>NaN</td>\n",
       "    </tr>\n",
       "    <tr>\n",
       "      <th>2021-04-09</th>\n",
       "      <td>1</td>\n",
       "      <td>0.003785</td>\n",
       "      <td>35.605034</td>\n",
       "      <td>2021-04-09</td>\n",
       "      <td>0.0</td>\n",
       "    </tr>\n",
       "    <tr>\n",
       "      <th>2021-04-12</th>\n",
       "      <td>1</td>\n",
       "      <td>0.004058</td>\n",
       "      <td>35.964977</td>\n",
       "      <td>2021-04-12</td>\n",
       "      <td>0.0</td>\n",
       "    </tr>\n",
       "    <tr>\n",
       "      <th>2021-04-13</th>\n",
       "      <td>1</td>\n",
       "      <td>0.004271</td>\n",
       "      <td>36.149815</td>\n",
       "      <td>2021-04-13</td>\n",
       "      <td>0.0</td>\n",
       "    </tr>\n",
       "    <tr>\n",
       "      <th>2021-04-14</th>\n",
       "      <td>1</td>\n",
       "      <td>0.004541</td>\n",
       "      <td>36.159538</td>\n",
       "      <td>2021-04-14</td>\n",
       "      <td>0.0</td>\n",
       "    </tr>\n",
       "  </tbody>\n",
       "</table>\n",
       "</div>"
      ],
      "text/plain": [
       "            signal   predict      close       date  positions\n",
       "Date                                                         \n",
       "2021-04-08       1  0.003861  34.982433 2021-04-08        NaN\n",
       "2021-04-09       1  0.003785  35.605034 2021-04-09        0.0\n",
       "2021-04-12       1  0.004058  35.964977 2021-04-12        0.0\n",
       "2021-04-13       1  0.004271  36.149815 2021-04-13        0.0\n",
       "2021-04-14       1  0.004541  36.159538 2021-04-14        0.0"
      ]
     },
     "execution_count": 11,
     "metadata": {},
     "output_type": "execute_result"
    }
   ],
   "source": [
    "signals.head(5)"
   ]
  },
  {
   "cell_type": "code",
   "execution_count": 12,
   "metadata": {
    "cell_id": "00006-44a412a5-ea99-4914-80bc-217b6c800981",
    "deepnote_cell_type": "code",
    "deepnote_to_be_reexecuted": false,
    "execution_millis": 6,
    "execution_start": 1640835685773,
    "source_hash": "cddca0d8",
    "tags": []
   },
   "outputs": [],
   "source": [
    "mask = (signals.index > '2021-6-1')\n",
    "signals = signals.loc[mask]"
   ]
  },
  {
   "cell_type": "code",
   "execution_count": 13,
   "metadata": {
    "cell_id": "00006-230022d9-9045-43f4-b853-5aac33d772ce",
    "deepnote_cell_type": "code",
    "deepnote_to_be_reexecuted": false,
    "execution_millis": 316,
    "execution_start": 1640835685786,
    "source_hash": "50d6afab",
    "tags": []
   },
   "outputs": [
    {
     "name": "stdout",
     "output_type": "stream",
     "text": [
      "1    118\n",
      "0     19\n",
      "Name: signal, dtype: int64\n",
      " 0.0    129\n",
      "-1.0      4\n",
      " 1.0      4\n",
      "Name: positions, dtype: int64\n"
     ]
    }
   ],
   "source": [
    "print(signals.signal.value_counts())\n",
    "print(signals.positions.value_counts())"
   ]
  },
  {
   "cell_type": "code",
   "execution_count": 14,
   "metadata": {
    "cell_id": "00008-6717afad-9351-43f6-b9c9-e2233b131b52",
    "deepnote_cell_type": "code",
    "deepnote_to_be_reexecuted": false,
    "execution_millis": 3,
    "execution_start": 1640835685800,
    "source_hash": "4a77194",
    "tags": []
   },
   "outputs": [],
   "source": [
    "pfe = pfe.loc[mask]"
   ]
  },
  {
   "cell_type": "code",
   "execution_count": 15,
   "metadata": {
    "cell_id": "00007-12de0563-2f94-47e7-adf6-e32b9b8dac44",
    "deepnote_cell_type": "code",
    "deepnote_output_heights": [
     262
    ],
    "deepnote_to_be_reexecuted": false,
    "execution_millis": 745,
    "execution_start": 1640835685808,
    "source_hash": "91cb3c58",
    "tags": []
   },
   "outputs": [
    {
     "data": {
      "image/png": "[encoded data removed]",
      "text/plain": [
       "<Figure size 432x288 with 1 Axes>"
      ]
     },
     "metadata": {
      "needs_background": "light"
     },
     "output_type": "display_data"
    }
   ],
   "source": [
    "# Import `pyplot` module as `plt`\n",
    "import matplotlib.pyplot as plt\n",
    "\n",
    "# Initialize the plot figure\n",
    "fig = plt.figure()\n",
    "\n",
    "# Add a subplot and label for y-axis\n",
    "ax1 = fig.add_subplot(111,  ylabel='Price in $')\n",
    "\n",
    "# Plot the closing price\n",
    "pfe['Adj Close'].plot(ax=ax1, color='r', lw=2.)\n",
    "\n",
    "# Plot the short and long moving averages\n",
    "#signals[['short_mavg_return', 'short_mavg_predict']].plot(ax=ax1, lw=2.)\n",
    "\n",
    "# Plot the buy signals\n",
    "ax1.plot(signals.loc[signals.positions == 1.0].index, \n",
    "         signals.close[signals.positions == 1.0],\n",
    "         '^', markersize=10, color='m')\n",
    "         \n",
    "# Plot the sell signals\n",
    "ax1.plot(signals.loc[signals.positions == -1.0].index, \n",
    "         signals.close[signals.positions == -1.0],\n",
    "         'v', markersize=10, color='k')\n",
    "         \n",
    "# Show the plot\n",
    "plt.show()"
   ]
  },
  {
   "cell_type": "code",
   "execution_count": 16,
   "metadata": {
    "cell_id": "00008-84602f3c-57b6-4c33-a181-db82c37f1e67",
    "deepnote_cell_type": "code",
    "deepnote_to_be_reexecuted": false,
    "execution_millis": 2,
    "execution_start": 1640835686607,
    "source_hash": "2931678f",
    "tags": []
   },
   "outputs": [
    {
     "name": "stdout",
     "output_type": "stream",
     "text": [
      "                   PFE    holdings         cash        total   returns\n",
      "Date                                                                  \n",
      "2021-12-08  514.000015  514.000015  1020.123329  1534.123344 -0.002082\n",
      "2021-12-09    0.000000    0.000000  1540.923347  1540.923347  0.004433\n",
      "2021-12-10    0.000000    0.000000  1540.923347  1540.923347  0.000000\n",
      "2021-12-13    0.000000    0.000000  1540.923347  1540.923347  0.000000\n",
      "2021-12-14  555.400009  555.400009   985.523338  1540.923347  0.000000\n"
     ]
    }
   ],
   "source": [
    "# Set the initial capital\n",
    "initial_capital= float(1000.0)\n",
    "\n",
    "# Create a DataFrame `positions`\n",
    "positions = pd.DataFrame(index=signals.index).fillna(0.0)\n",
    "\n",
    "# Buy a 100 shares\n",
    "positions['PFE'] = 10*signals['signal']   \n",
    "  \n",
    "# Initialize the portfolio with value owned   \n",
    "portfolio = positions.multiply(pfe['Adj Close'], axis=0)\n",
    "\n",
    "# Store the difference in shares owned \n",
    "pos_diff = positions.diff()\n",
    "\n",
    "# Add `holdings` to portfolio\n",
    "portfolio['holdings'] = (positions.multiply(pfe['Adj Close'], axis=0)).sum(axis=1)\n",
    "\n",
    "# Add `cash` to portfolio\n",
    "portfolio['cash'] = initial_capital - (pos_diff.multiply(pfe['Adj Close'], axis=0)).sum(axis=1).cumsum()   \n",
    "\n",
    "# Add `total` to portfolio\n",
    "portfolio['total'] = portfolio['cash'] + portfolio['holdings']\n",
    "\n",
    "# Add `returns` to portfolio\n",
    "portfolio['returns'] = portfolio['total'].pct_change()\n",
    "\n",
    "# Print the first lines of `portfolio`\n",
    "print(portfolio.tail())"
   ]
  },
  {
   "cell_type": "code",
   "execution_count": 17,
   "metadata": {
    "cell_id": "00009-eed0f2d0-544a-43b9-8833-574cd50657a1",
    "deepnote_cell_type": "code",
    "deepnote_output_heights": [
     262
    ],
    "deepnote_to_be_reexecuted": false,
    "execution_millis": 177,
    "execution_start": 1640835686651,
    "source_hash": "42bfe354",
    "tags": []
   },
   "outputs": [
    {
     "data": {
      "image/png": "[encoded data removed]",
      "text/plain": [
       "<Figure size 432x288 with 1 Axes>"
      ]
     },
     "metadata": {
      "needs_background": "light"
     },
     "output_type": "display_data"
    }
   ],
   "source": [
    "# Import the `pyplot` module as `plt`\n",
    "import matplotlib.pyplot as plt\n",
    "\n",
    "# Create a figure\n",
    "fig = plt.figure()\n",
    "\n",
    "ax1 = fig.add_subplot(111, ylabel='Portfolio value in $')\n",
    "\n",
    "# Plot the equity curve in dollars\n",
    "portfolio['total'].plot(ax=ax1, lw=2.)\n",
    "\n",
    "ax1.plot(portfolio.loc[signals.positions == 1.0].index, \n",
    "         portfolio.total[signals.positions == 1.0],\n",
    "         '^', markersize=10, color='m')\n",
    "ax1.plot(portfolio.loc[signals.positions == -1.0].index, \n",
    "         portfolio.total[signals.positions == -1.0],\n",
    "         'v', markersize=10, color='k')\n",
    "\n",
    "# Show the plot\n",
    "plt.show()"
   ]
  },
  {
   "cell_type": "code",
   "execution_count": null,
   "metadata": {
    "cell_id": "00010-105ca991-6e1c-400e-87dc-cdf5e7a94bbb",
    "deepnote_cell_type": "code",
    "deepnote_to_be_reexecuted": false,
    "execution_millis": 1023143,
    "execution_start": 1640835686871,
    "source_hash": "b623e53d",
    "tags": []
   },
   "outputs": [],
   "source": []
  },
  {
   "cell_type": "markdown",
   "metadata": {
    "created_in_deepnote_cell": true,
    "deepnote_cell_type": "markdown",
    "tags": []
   },
   "source": [
    "<a style='text-decoration:none;line-height:16px;display:flex;color:#5B5B62;padding:10px;justify-content:end;' href='https://deepnote.com?utm_source=created-in-deepnote-cell&projectId=520f7743-fdb5-41d4-ba65-deb67c6338e8' target=\"_blank\">\n",
    "<img alt='Created in deepnote.com' style='display:inline;max-height:16px;margin:0px;margin-right:7.5px;' src='data:image/svg+xml;base64,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' > </img>\n",
    "Created in <span style='font-weight:600;margin-left:4px;'>Deepnote</span></a>"
   ]
  }
 ],
 "metadata": {
  "deepnote": {
   "is_reactive": false
  },
  "deepnote_execution_queue": [],
  "deepnote_notebook_id": "0d670869-76dd-44e3-9438-ed58dc992772",
  "interpreter": {
   "hash": "c3e1492943a9aa8fa74e1bfab9844d9d544209e70d6391e857a384485bf72193"
  },
  "kernelspec": {
   "display_name": "Python 3.9.7 64-bit ('base': conda)",
   "language": "python",
   "name": "python3"
  },
  "language_info": {
   "codemirror_mode": {
    "name": "ipython",
    "version": 3
   },
   "file_extension": ".py",
   "mimetype": "text/x-python",
   "name": "python",
   "nbconvert_exporter": "python",
   "pygments_lexer": "ipython3",
   "version": "3.9.7"
  },
  "orig_nbformat": 2
 },
 "nbformat": 4,
 "nbformat_minor": 2
}
