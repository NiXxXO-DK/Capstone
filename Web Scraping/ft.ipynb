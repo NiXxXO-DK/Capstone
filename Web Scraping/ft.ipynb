{
 "cells": [
  {
   "cell_type": "code",
   "metadata": {
    "cell_id": "00000-f306af93-b4db-4672-943b-de40ed806714",
    "deepnote_cell_type": "code"
   },
   "source": "import matplotlib as plt\nimport pandas as pd\nfrom pandas import DatetimeIndex\npd.options.display.max_colwidth = 100\nimport pickle\nimport datetime as dt\n\nfrom selenium import webdriver\nfrom selenium.webdriver.common.keys import Keys\nfrom selenium.webdriver.common.by import By\nfrom selenium.webdriver.common.action_chains import ActionChains\nfrom selenium.common.exceptions import NoSuchElementException\nfrom selenium.common.exceptions import StaleElementReferenceException\nfrom selenium.webdriver.chrome.options import Options\nfrom selenium.webdriver.support import expected_conditions as EC\nfrom selenium.webdriver.support.ui import WebDriverWait\n\nimport time\n\nfrom bs4 import BeautifulSoup as BS\n\nimport requests\nfrom urllib.request import urlopen\n\nimport tensorflow as tf\nimport itertools",
   "execution_count": null,
   "outputs": []
  },
  {
   "cell_type": "code",
   "metadata": {
    "cell_id": "00001-f3f3f5ca-a746-418f-b881-13fccdeffb4e",
    "deepnote_cell_type": "code"
   },
   "source": "#Create a list of the pages we wanna search\npages = list(range(2,11)) #2-10 - page one has uniuqe url\n\n#Create a list of with first and last date of each month to not max the the search results\n#how far back do we want to go\nyear_range = range(2020,2022) #2020-2021\nmonth_range = list(range(1,13)) #all 12 months\ndates_range = list(itertools.product(year_range, month_range)) #combine the two in all posiblilties \n\n#Find the first date of the month\ndates_start = [d.strftime('%Y-%m-%d') for d in pd.date_range(start=\"1/1/2020\", end=\"2021/12/1\", freq='MS')]\n\n#Find the last date of the month\ndates_end = []\nfor year, month in dates_range:\n    date_end = pd.date_range('{}-{}'.format(year, month), periods=1, freq='M').strftime('%Y-%m-%d')\n    dates_end.append(date_end)\n    \n#Create a df with the first and last dates\ndates_start_df = pd.DataFrame(dates_start)\ndates_end_df = pd.DataFrame(dates_end)\ndates_df = pd.concat([dates_start_df, dates_end_df], axis=1)\ndates_df.columns = ['Start','End']\ndates_list = dates_df.values.tolist()\n\n#make them in to two list \nsm_list_start = dates_df['Start'].values.tolist()\nsm_list_end = dates_df['End'].values.tolist()\n\n\n#create a list with page range and date posiblities\ntester = list(itertools.product(pages, dates_list))\n\n#make the new list with all the posibilites in three sperat lists\ntester = pd.DataFrame(tester)\ntester.columns = ['Pages','Dates']\ntester[['Start','End']] = pd.DataFrame(tester['Dates'].tolist(), index=tester.index)\ntester = tester.drop(columns='Dates')\nlist_pages = tester['Pages'].values.tolist()\nlist_start = tester['Start'].values.tolist()\nlist_end = tester['End'].values.tolist()\n",
   "execution_count": null,
   "outputs": []
  },
  {
   "cell_type": "code",
   "metadata": {
    "cell_id": "00002-d06acff9-cfae-44dc-bfb9-697d52d30bd4",
    "deepnote_cell_type": "code"
   },
   "source": "#date posiblites\nprint(len(sm_list_start))\nprint(len(sm_list_end))\n\n#all posiblities\nprint(len(list_pages))\nprint(len(list_start))\nprint(len(list_end))",
   "execution_count": null,
   "outputs": [
    {
     "name": "stdout",
     "output_type": "stream",
     "text": "24\n24\n216\n216\n216\n"
    }
   ]
  },
  {
   "cell_type": "code",
   "metadata": {
    "cell_id": "00003-f749e0a4-27bd-43ad-ad12-f3a33b4e40ac",
    "deepnote_cell_type": "code"
   },
   "source": "timeout = time.time() + 60*50   # 5 minutes from now\nurl=\"https://www.ft.com/search?q=pfizer&dateFrom=2020-01-01&sort=date&expandRefinements=true\"\n\noptions = Options()\noptions.add_argument(\"--window-size=2560,1440\")\noptions.add_argument(\"disable-notifications\")\ndriver = webdriver.Chrome(\"C:\\python_file\\chromedriver.exe\", options=options)\n\ndriver.get(url)\ndriver.set_window_position(-2560, 0)\ndriver.maximize_window()\n\nstories_list=[]\nfor i, j, k in zip(list_pages, list_start, list_end):\n    time.sleep(5)\n    test = 0\n    driver.get(f'https://www.ft.com/search?q=pfizer&page={i}&dateTo={j}&dateFrom={k}&sort=date&expandRefinements=true')\n    \n    page_source = driver.page_source\n    soup = BS(page_source, 'html.parser')\n        \n    stories = soup.find_all('div', {'class':'o-teaser__content'})\n    for story in stories:\n        headline = story.find('a', {'class':\"js-teaser-heading-link\"})\n        date = story.find('time', {'class':\"o-teaser__timestamp-date\"})\n        #des = story.find('p', {'class':\"o-teaser__standfirst\"}).find('span')\n        des = story.find('span')\n        if date:\n        # Build a dict that HAS a summary\n            story_dict = {\n                'Headline': headline.text,\n                'Date': date['datetime'],\n                'Description': des\n            }\n        else:\n                story_dict = {\n                    'Headline': headline.text,\n                    'Description': des\n            }\n               \n        if story_dict not in stories_list:\n            # Add the dict to our list\n            stories_list.append(story_dict) \n            \n    if test == 5 or time.time() > timeout:\n        break\ndf = pd.DataFrame(stories_list)",
   "execution_count": null,
   "outputs": [
    {
     "name": "stderr",
     "output_type": "stream",
     "text": "C:\\Users\\NiXxXO\\AppData\\Local\\Temp/ipykernel_14924/1701963193.py:7: DeprecationWarning: executable_path has been deprecated, please pass in a Service object\n  driver = webdriver.Chrome(\"C:\\python_file\\chromedriver.exe\", options=options)\n"
    }
   ]
  },
  {
   "cell_type": "code",
   "metadata": {
    "cell_id": "00004-73e55d92-aa42-468c-9fb0-58fc29ca191b",
    "deepnote_output_heights": [
     386.515625
    ],
    "deepnote_cell_type": "code"
   },
   "source": "df",
   "execution_count": null,
   "outputs": [
    {
     "data": {
      "text/html": "<div>\n<style scoped>\n    .dataframe tbody tr th:only-of-type {\n        vertical-align: middle;\n    }\n\n    .dataframe tbody tr th {\n        vertical-align: top;\n    }\n\n    .dataframe thead th {\n        text-align: right;\n    }\n</style>\n<table border=\"1\" class=\"dataframe\">\n  <thead>\n    <tr style=\"text-align: right;\">\n      <th></th>\n      <th>Headline</th>\n      <th>Date</th>\n      <th>Description</th>\n    </tr>\n  </thead>\n  <tbody>\n    <tr>\n      <th>0</th>\n      <td>Scientists raise questions over lasting immunity from Covid-19 vaccine</td>\n      <td>2020-07-16T04:01:21+0000</td>\n      <td>[...seemed to induce a better response than the vaccine being developed by , [Pfizer],  with Bio...</td>\n    </tr>\n    <tr>\n      <th>1</th>\n      <td>Markets Now - Wednesday 15th July 2020</td>\n      <td>2020-07-15T10:41:19+0000</td>\n      <td>[...US] election data is possible, but our base case is mid-November: , [Pfizer],  has stated th...</td>\n    </tr>\n    <tr>\n      <th>2</th>\n      <td>Moderna’s Covid-19 vaccine produces antibodies in early trial</td>\n      <td>2020-07-14T21:01:48+0000</td>\n      <td>[...to teach the immune system to detect the invader. Other companies including , [Pfizer],  and...</td>\n    </tr>\n    <tr>\n      <th>3</th>\n      <td>Facebook has caused ‘serious setbacks’ for civil rights, report finds</td>\n      <td>2020-07-08T15:18:02+0000</td>\n      <td>[...on its platform, with about 1,000 brands — including Unilever, Ford and , [Pfizer],  — agree...</td>\n    </tr>\n    <tr>\n      <th>4</th>\n      <td>Spain’s BBVA breaks ground by issuing risky ‘green’ debt</td>\n      <td>2020-07-08T03:00:48+0000</td>\n      <td>[...slapping the label on investments that may not withstand scrutiny.US drugmaker , [Pfizer],  ...</td>\n    </tr>\n    <tr>\n      <th>...</th>\n      <td>...</td>\n      <td>...</td>\n      <td>...</td>\n    </tr>\n    <tr>\n      <th>1380</th>\n      <td>AstraZeneca still suffering growing pains</td>\n      <td>2020-11-05T16:56:22+0000</td>\n      <td>[Lombard]</td>\n    </tr>\n    <tr>\n      <th>1381</th>\n      <td>Covid-19 vaccine market worth $10bn a year, analysts say</td>\n      <td>2020-11-05T05:00:32+0000</td>\n      <td>[...to discuss the potential of the Covid-19 vaccine market. Merck and , [Pfizer],  were not ava...</td>\n    </tr>\n    <tr>\n      <th>1382</th>\n      <td>AstraZeneca misses target for delivery of UK Covid vaccine</td>\n      <td>2020-11-04T17:18:02+0000</td>\n      <td>[...AstraZeneca vaccine will be supplemented by up to 10m doses of the , [Pfizer], /BioNTech vac...</td>\n    </tr>\n    <tr>\n      <th>1383</th>\n      <td>FT Health: The dangers of data</td>\n      <td>2020-11-04T14:21:50+0000</td>\n      <td>[...J&amp;J got the go-ahead to resume vaccine trials, but the , [Pfizer],  chief called for patienc...</td>\n    </tr>\n    <tr>\n      <th>1384</th>\n      <td>Race to discover pandemic vaccine faces hurdles</td>\n      <td>2020-11-03T01:00:30+0000</td>\n      <td>[Special Report]</td>\n    </tr>\n  </tbody>\n</table>\n<p>1385 rows × 3 columns</p>\n</div>",
      "text/plain": "                                                                    Headline  ...                                                                                          Description\n0     Scientists raise questions over lasting immunity from Covid-19 vaccine  ...  [...seemed to induce a better response than the vaccine being developed by , [Pfizer],  with Bio...\n1                                     Markets Now - Wednesday 15th July 2020  ...  [...US] election data is possible, but our base case is mid-November: , [Pfizer],  has stated th...\n2              Moderna’s Covid-19 vaccine produces antibodies in early trial  ...  [...to teach the immune system to detect the invader. Other companies including , [Pfizer],  and...\n3      Facebook has caused ‘serious setbacks’ for civil rights, report finds  ...  [...on its platform, with about 1,000 brands — including Unilever, Ford and , [Pfizer],  — agree...\n4                  Spain’s BBVA breaks ground by issuing risky ‘green’ debt   ...  [...slapping the label on investments that may not withstand scrutiny.US drugmaker , [Pfizer],  ...\n...                                                                      ...  ...                                                                                                  ...\n1380                               AstraZeneca still suffering growing pains  ...                                                                                            [Lombard]\n1381                Covid-19 vaccine market worth $10bn a year, analysts say  ...  [...to discuss the potential of the Covid-19 vaccine market. Merck and , [Pfizer],  were not ava...\n1382              AstraZeneca misses target for delivery of UK Covid vaccine  ...  [...AstraZeneca vaccine will be supplemented by up to 10m doses of the , [Pfizer], /BioNTech vac...\n1383                                          FT Health: The dangers of data  ...  [...J&J got the go-ahead to resume vaccine trials, but the , [Pfizer],  chief called for patienc...\n1384                         Race to discover pandemic vaccine faces hurdles  ...                                                                                     [Special Report]\n\n[1385 rows x 3 columns]"
     },
     "execution_count": 215,
     "metadata": {},
     "output_type": "execute_result"
    }
   ]
  },
  {
   "cell_type": "code",
   "metadata": {
    "cell_id": "00005-baa7d009-e458-4599-9bf4-920abfa4e786",
    "deepnote_cell_type": "code"
   },
   "source": "timeout = time.time() + 60*50   # 5 minutes from now\nurl=\"https://www.ft.com/search?q=pfizer&dateFrom=2020-01-01&sort=date&expandRefinements=true\"\n\noptions = Options()\noptions.add_argument(\"--window-size=2560,1440\")\noptions.add_argument(\"disable-notifications\")\ndriver = webdriver.Chrome(\"C:\\python_file\\chromedriver.exe\", options=options)\n\ndriver.get(url)\ndriver.set_window_position(-2560, 0)\ndriver.maximize_window()\n\nstories_list1=[]\nfor j, k in zip(sm_list_start, sm_list_end):\n    test = 0\n    time.sleep(5)\n    driver.get(f'https://www.ft.com/search?q=pfizer&dateTo={j}&dateFrom={k}&sort=date&expandRefinements=true')\n    \n    page_source = driver.page_source\n    soup = BS(page_source, 'html.parser')\n        \n    stories = soup.find_all('div', {'class':'o-teaser__content'})\n    for story in stories:\n        headline = story.find('a', {'class':\"js-teaser-heading-link\"})\n        date = story.find('time', {'class':\"o-teaser__timestamp-date\"})\n        #des = story.find('p', {'class':\"o-teaser__standfirst\"}).find('span')\n        des = story.find('span')\n        if date:\n        # Build a dict that HAS a summary\n            story_dict = {\n                'Headline': headline.text,\n                'Date': date['datetime'],\n                'Description': des\n            }\n        else:\n                story_dict = {\n                    'Headline': headline.text,\n                    'Description': des\n            }\n               \n        if story_dict not in stories_list1:\n            # Add the dict to our list\n            stories_list1.append(story_dict) \n            \n    if test == 5 or time.time() > timeout:\n        break\ndf1 = pd.DataFrame(stories_list1)",
   "execution_count": null,
   "outputs": [
    {
     "name": "stderr",
     "output_type": "stream",
     "text": "C:\\Users\\NiXxXO\\AppData\\Local\\Temp/ipykernel_14924/3349221578.py:7: DeprecationWarning: executable_path has been deprecated, please pass in a Service object\n  driver = webdriver.Chrome(\"C:\\python_file\\chromedriver.exe\", options=options)\n"
    }
   ]
  },
  {
   "cell_type": "code",
   "metadata": {
    "cell_id": "00006-0bb75e9a-a2ec-401d-8028-20aa72084d3e",
    "deepnote_cell_type": "code"
   },
   "source": "print(len(df))\nprint(len(df1))\ndf2 = pd.concat([df,df1], axis=0)\nprint(df2.isna().sum())",
   "execution_count": null,
   "outputs": [
    {
     "name": "stdout",
     "output_type": "stream",
     "text": "1385\n499\nHeadline        0\nDate           66\nDescription     0\ndtype: int64\n"
    }
   ]
  },
  {
   "cell_type": "code",
   "metadata": {
    "cell_id": "00007-df991150-b075-48c9-8879-36666301c623",
    "deepnote_output_heights": [
     21.1875
    ],
    "deepnote_cell_type": "code"
   },
   "source": "df2['Date'] = pd.to_datetime(df2['Date']).dt.tz_localize(None)\ndf2 = df2.dropna(subset=['Date'])\ndf2 = df2.drop_duplicates(subset =['Headline', 'Date','Description'], keep='first')\ndf2 = df2.sort_values(by=['Date'])\ndf2.shape[0]",
   "execution_count": null,
   "outputs": [
    {
     "data": {
      "text/plain": "1818"
     },
     "execution_count": 312,
     "metadata": {},
     "output_type": "execute_result"
    }
   ]
  },
  {
   "cell_type": "code",
   "metadata": {
    "cell_id": "00008-d568633c-5f44-4ad0-8ec1-f68c61ebb098",
    "deepnote_cell_type": "code"
   },
   "source": "df2.to_csv(r'C:\\python_file\\save\\ft.csv')",
   "execution_count": null,
   "outputs": []
  },
  {
   "cell_type": "code",
   "metadata": {
    "cell_id": "00009-0b283d0f-b7d6-4325-9600-d29d44e5dbaa",
    "deepnote_output_heights": [
     386.515625
    ],
    "deepnote_cell_type": "code"
   },
   "source": "df2",
   "execution_count": null,
   "outputs": [
    {
     "data": {
      "text/html": "<div>\n<style scoped>\n    .dataframe tbody tr th:only-of-type {\n        vertical-align: middle;\n    }\n\n    .dataframe tbody tr th {\n        vertical-align: top;\n    }\n\n    .dataframe thead th {\n        text-align: right;\n    }\n</style>\n<table border=\"1\" class=\"dataframe\">\n  <thead>\n    <tr style=\"text-align: right;\">\n      <th></th>\n      <th>Headline</th>\n      <th>Date</th>\n      <th>Description</th>\n    </tr>\n  </thead>\n  <tbody>\n    <tr>\n      <th>8</th>\n      <td>Pfizer and other drugmakers start 2020 with price rises</td>\n      <td>2020-01-03 18:15:00</td>\n      <td>[[Pfizer],  and other drugmakers start 2020 with price rises]</td>\n    </tr>\n    <tr>\n      <th>7</th>\n      <td>The hedge fund winners and losers of 2019</td>\n      <td>2020-01-10 05:00:34</td>\n      <td>[ , [Premium], [ content]]</td>\n    </tr>\n    <tr>\n      <th>6</th>\n      <td>Hedge fund veteran looks to cash in on biotech boom</td>\n      <td>2020-01-16 04:00:31</td>\n      <td>[...as Array BioPharma, which was bought for $11.4bn last year by , [Pfizer], , have benefited d...</td>\n    </tr>\n    <tr>\n      <th>5</th>\n      <td>Movers and shakers, January 20</td>\n      <td>2020-01-20 03:00:39</td>\n      <td>[...head of strategic platform investment solutions. Ian Read, former chief executive of , [Pfiz...</td>\n    </tr>\n    <tr>\n      <th>4</th>\n      <td>Markets not live, Wednesday 22nd January 2020</td>\n      <td>2020-01-22 12:24:42</td>\n      <td>[...to prove dormant rather than dead, the 2014 Sunday Times scoop of , [Pfizer], 's on-off-on-o...</td>\n    </tr>\n    <tr>\n      <th>...</th>\n      <td>...</td>\n      <td>...</td>\n      <td>...</td>\n    </tr>\n    <tr>\n      <th>478</th>\n      <td>Two Pfizer doses give 70% protection against hospitalisation from Omicron, study shows</td>\n      <td>2021-12-14 13:26:55</td>\n      <td>[Two , [Pfizer],  doses give 70% protection against hospitalisation from Omicron, study shows]</td>\n    </tr>\n    <tr>\n      <th>477</th>\n      <td>Pfizer says Covid drug offers strong protection and should work against Omicron</td>\n      <td>2021-12-14 13:53:43</td>\n      <td>[[Pfizer],  says Covid drug offers strong protection and should work against Omicron]</td>\n    </tr>\n    <tr>\n      <th>476</th>\n      <td>Episode 51</td>\n      <td>2021-12-14 14:32:05</td>\n      <td>[3 min listen]</td>\n    </tr>\n    <tr>\n      <th>475</th>\n      <td>How did the UK reach 200,000 Omicron infections in one day?</td>\n      <td>2021-12-14 19:50:14</td>\n      <td>[...minute observation period after the administration of the mRNA Covid vaccines from , [Pfizer...</td>\n    </tr>\n    <tr>\n      <th>474</th>\n      <td>FirstFT: China reports first Omicron Covid cases</td>\n      <td>2021-12-14 21:38:17</td>\n      <td>[...the country’s 1.4bn people.Meanwhile, two doses of the BioNTech/, [Pfizer],  vaccine provide...</td>\n    </tr>\n  </tbody>\n</table>\n<p>1818 rows × 3 columns</p>\n</div>",
      "text/plain": "                                                                                   Headline  ...                                                                                          Description\n8                                   Pfizer and other drugmakers start 2020 with price rises  ...                                        [[Pfizer],  and other drugmakers start 2020 with price rises]\n7                                                 The hedge fund winners and losers of 2019  ...                                                                           [ , [Premium], [ content]]\n6                                       Hedge fund veteran looks to cash in on biotech boom  ...  [...as Array BioPharma, which was bought for $11.4bn last year by , [Pfizer], , have benefited d...\n5                                                           Movers and shakers, January 20   ...  [...head of strategic platform investment solutions. Ian Read, former chief executive of , [Pfiz...\n4                                             Markets not live, Wednesday 22nd January 2020  ...  [...to prove dormant rather than dead, the 2014 Sunday Times scoop of , [Pfizer], 's on-off-on-o...\n..                                                                                      ...  ...                                                                                                  ...\n478  Two Pfizer doses give 70% protection against hospitalisation from Omicron, study shows  ...       [Two , [Pfizer],  doses give 70% protection against hospitalisation from Omicron, study shows]\n477         Pfizer says Covid drug offers strong protection and should work against Omicron  ...                [[Pfizer],  says Covid drug offers strong protection and should work against Omicron]\n476                                                                              Episode 51  ...                                                                                       [3 min listen]\n475                             How did the UK reach 200,000 Omicron infections in one day?  ...  [...minute observation period after the administration of the mRNA Covid vaccines from , [Pfizer...\n474                                        FirstFT: China reports first Omicron Covid cases  ...  [...the country’s 1.4bn people.Meanwhile, two doses of the BioNTech/, [Pfizer],  vaccine provide...\n\n[1818 rows x 3 columns]"
     },
     "execution_count": 313,
     "metadata": {},
     "output_type": "execute_result"
    }
   ]
  },
  {
   "cell_type": "code",
   "metadata": {
    "cell_id": "00010-fbe3f871-332a-42ac-9918-79687a867135",
    "deepnote_cell_type": "code"
   },
   "source": "",
   "execution_count": null,
   "outputs": []
  },
  {
   "cell_type": "markdown",
   "source": "<a style='text-decoration:none;line-height:16px;display:flex;color:#5B5B62;padding:10px;justify-content:end;' href='https://deepnote.com?utm_source=created-in-deepnote-cell&projectId=520f7743-fdb5-41d4-ba65-deb67c6338e8' target=\"_blank\">\n<img alt='Created in deepnote.com' style='display:inline;max-height:16px;margin:0px;margin-right:7.5px;' src='data:image/svg+xml;base64,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' > </img>\nCreated in <span style='font-weight:600;margin-left:4px;'>Deepnote</span></a>",
   "metadata": {
    "tags": [],
    "created_in_deepnote_cell": true,
    "deepnote_cell_type": "markdown"
   }
  }
 ],
 "nbformat": 4,
 "nbformat_minor": 2,
 "metadata": {
  "interpreter": {
   "hash": "153eff5e2e68dc988fe969ce4a1bee957f32dfb6ff66e6f15ca3bd9570caf4ef"
  },
  "kernelspec": {
   "display_name": "Python 3 (ipykernel)",
   "language": "python",
   "name": "python3"
  },
  "language_info": {
   "codemirror_mode": {
    "name": "ipython",
    "version": 3
   },
   "file_extension": ".py",
   "mimetype": "text/x-python",
   "name": "python",
   "nbconvert_exporter": "python",
   "pygments_lexer": "ipython3",
   "version": "3.9.7"
  },
  "orig_nbformat": 4,
  "deepnote_notebook_id": "8b006495-6044-46ac-9fec-e14f3527108e",
  "deepnote": {},
  "deepnote_execution_queue": []
 }
}