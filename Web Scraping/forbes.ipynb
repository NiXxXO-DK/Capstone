{
 "cells": [
  {
   "cell_type": "code",
   "metadata": {
    "cell_id": "00000-1ecf250c-c55b-4f97-bb24-ef975ad4840d",
    "deepnote_cell_type": "code"
   },
   "source": "import matplotlib as plt\nimport pandas as pd\npd.options.display.max_colwidth = 100\nimport pickle\nimport datetime as dt\n\nfrom selenium import webdriver\nfrom selenium.webdriver.common.keys import Keys\nfrom selenium.webdriver.common.by import By\nfrom selenium.webdriver.common.action_chains import ActionChains\nfrom selenium.common.exceptions import NoSuchElementException\nfrom selenium.common.exceptions import StaleElementReferenceException\nfrom selenium.webdriver.chrome.options import Options\nfrom selenium.webdriver.support import expected_conditions as EC\nfrom selenium.webdriver.support.ui import WebDriverWait\n\nimport time\n\nfrom bs4 import BeautifulSoup as BS\n\nimport requests\nfrom urllib.request import urlopen\n\nimport tensorflow as tf",
   "execution_count": null,
   "outputs": []
  },
  {
   "cell_type": "code",
   "metadata": {
    "cell_id": "00001-2f0f7121-6641-4f79-9126-6b8c13bf2447",
    "deepnote_cell_type": "code"
   },
   "source": "timeout = time.time() + 60*10   # 5 minutes from now\nurl=\"https://www.forbes.com/search/?q=Pfizer&sh=581bd7ff279f\"\n\noptions = Options()\noptions.add_argument(\"--window-size=2560,1440\")\noptions.add_argument(\"disable-notifications\")\n\ndriver = webdriver.Chrome(\"C:\\python_file\\chromedriver.exe\", options=options)\ndriver.get(url)\nactions = ActionChains(driver)\n\ntime.sleep(1)\nbody = driver.find_element_by_tag_name('body')\n#accept cookies\naccecpt = driver.find_element_by_id(\"truste-consent-button\")\nactions.click(accecpt)\nactions.perform()\ntime.sleep(1)\n#most recent results\nrecent = driver.find_element(By.XPATH, (\"//*[@type='recent']\"))\nactions.click(recent)\nactions.perform()\n\n\nstories_list = []\n\nwhile True:\n    test = 0\n\n    time.sleep(1)\n\n    source = driver.page_source\n    soup = BS(source, 'html.parser')\n    \n    stories = soup.find_all('div', {\"class\":\"stream-item__text\"})\n    for story in stories:\n        headline = story.find('h3')\n        date = story.find('div', {'class':\"stream-item__date\"})\n        dec = story.find('div', {'class':\"stream-item__description\"})\n\n        if headline:\n            # Build a dict that HAS a summary\n            story_dict = {\n                'Headline': headline.text,\n                'Date': date.text,\n                'Decsription': dec.text\n            }\n            if story_dict not in stories_list:\n                # Add the dict to our list\n                stories_list.append(story_dict)             # Add the dict to our list\n \n    #body.send_keys(Keys.PAGE_DOWN*5)\n    #more = driver.find_element(By.XPATH(\"/html/body/div[1]/main/div[1]/div[1]/div[5]\")\n    xpath = \"/html/body/div[1]/main/div[1]/div[1]/div[5]\"                     \n    try:\n        driver.find_element_by_xpath(xpath)\n    except NoSuchElementException:\n        break\n    actions.click(driver.find_element_by_xpath(xpath)).perform()\n\n\n    \n            \n    if test == 5 or time.time() > timeout:\n        break",
   "execution_count": null,
   "outputs": [
    {
     "name": "stderr",
     "output_type": "stream",
     "text": "C:\\Users\\NiXxXO\\AppData\\Local\\Temp/ipykernel_21012/1600503520.py:8: DeprecationWarning: executable_path has been deprecated, please pass in a Service object\n  driver = webdriver.Chrome(\"C:\\python_file\\chromedriver.exe\", options=options)\nC:\\Users\\NiXxXO\\AppData\\Local\\Temp/ipykernel_21012/1600503520.py:13: DeprecationWarning: find_element_by_* commands are deprecated. Please use find_element() instead\n  body = driver.find_element_by_tag_name('body')\nC:\\Users\\NiXxXO\\AppData\\Local\\Temp/ipykernel_21012/1600503520.py:15: DeprecationWarning: find_element_by_* commands are deprecated. Please use find_element() instead\n  accecpt = driver.find_element_by_id(\"truste-consent-button\")\nC:\\Users\\NiXxXO\\AppData\\Local\\Temp/ipykernel_21012/1600503520.py:56: DeprecationWarning: find_element_by_* commands are deprecated. Please use find_element() instead\n  driver.find_element_by_xpath(xpath)\nC:\\Users\\NiXxXO\\AppData\\Local\\Temp/ipykernel_21012/1600503520.py:59: DeprecationWarning: find_element_by_* commands are deprecated. Please use find_element() instead\n  actions.click(driver.find_element_by_xpath(xpath)).perform()\n"
    }
   ]
  },
  {
   "cell_type": "code",
   "metadata": {
    "cell_id": "00002-7a4314eb-82d0-4790-9f88-2273da0ee949",
    "deepnote_cell_type": "code"
   },
   "source": "df = pd.DataFrame(stories_list)",
   "execution_count": null,
   "outputs": []
  },
  {
   "cell_type": "code",
   "metadata": {
    "cell_id": "00003-901f968d-e375-4500-8a48-4f331814f3c0",
    "deepnote_cell_type": "code"
   },
   "source": "import datetime\nfrom dateutil.relativedelta import relativedelta",
   "execution_count": null,
   "outputs": []
  },
  {
   "cell_type": "code",
   "metadata": {
    "cell_id": "00004-a221a619-afa7-44ef-84e3-54ae28184d38",
    "deepnote_cell_type": "code"
   },
   "source": "def get_past_date(str_days_ago):\n    TODAY = datetime.date.today()\n    splitted = str_days_ago.split()\n    if len(splitted) == 1 and splitted[0].lower() == 'today':\n        return str(TODAY.isoformat())\n    elif len(splitted) == 1 and splitted[0].lower() == 'yesterday':\n        date = TODAY - relativedelta(days=1)\n        return str(date.isoformat())\n    elif splitted[1].lower() in ['minute', 'minutes', 'min', 'mins', 'm']:\n        date = datetime.datetime.now() - relativedelta(minutes=int(splitted[0]))\n        return str(date.date().isoformat())\n    elif splitted[1].lower() in ['hour', 'hours', 'hr', 'hrs', 'h']:\n        date = datetime.datetime.now() - relativedelta(hours=int(splitted[0]))\n        return str(date.date().isoformat())\n    elif splitted[1].lower() in ['day', 'days', 'd']:\n        date = TODAY - relativedelta(days=int(splitted[0]))\n        return str(date.isoformat())\n    elif splitted[1].lower() in ['wk', 'wks', 'week', 'weeks', 'w']:\n        date = TODAY - relativedelta(weeks=int(splitted[0]))\n        return str(date.isoformat())\n    elif splitted[1].lower() in ['mon', 'mons', 'month', 'months', 'm']:\n        date = TODAY - relativedelta(months=int(splitted[0]))\n        return str(date.isoformat())\n    elif splitted[1].lower() in ['yrs', 'yr', 'years', 'year', 'y']:\n        date = TODAY - relativedelta(years=int(splitted[0]))\n        return str(date.isoformat())\n    else:\n        return str_days_ago",
   "execution_count": null,
   "outputs": []
  },
  {
   "cell_type": "code",
   "metadata": {
    "cell_id": "00005-ff648810-9faa-4b2e-b6e9-a09cbe5fa347",
    "deepnote_output_heights": [
     386.515625
    ],
    "deepnote_cell_type": "code"
   },
   "source": "# convert the 'Date' column to datetime format\ndf1=df.copy()\ndf1['Date'] = df1['Date'].apply(lambda x: get_past_date(x))\ndf1['Date']= pd.to_datetime(df1['Date'])\ndf1['Date']= pd.to_datetime(df1['Date'])\ndf1 = df1.replace(r'\\n',' ', regex=True) \ndf1.columns.str.lstrip()\ndf1['Headline'].str.strip()\ndf1.drop_duplicates()\n",
   "execution_count": null,
   "outputs": [
    {
     "data": {
      "text/html": "<div>\n<style scoped>\n    .dataframe tbody tr th:only-of-type {\n        vertical-align: middle;\n    }\n\n    .dataframe tbody tr th {\n        vertical-align: top;\n    }\n\n    .dataframe thead th {\n        text-align: right;\n    }\n</style>\n<table border=\"1\" class=\"dataframe\">\n  <thead>\n    <tr style=\"text-align: right;\">\n      <th></th>\n      <th>Headline</th>\n      <th>Date</th>\n      <th>Decsription</th>\n    </tr>\n  </thead>\n  <tbody>\n    <tr>\n      <th>0</th>\n      <td>Pfizer Shot Just 33% Effective Against Omicron Infection, But Largely Prevents Severe Disease, S...</td>\n      <td>2021-12-14</td>\n      <td>The preliminary findings suggest a big drop in protection against infection with omicron but str...</td>\n    </tr>\n    <tr>\n      <th>1</th>\n      <td>New Data Confirms Covid Antiviral Drug 89% Effective At Preventing Hospitalizations And Death, P...</td>\n      <td>2021-12-14</td>\n      <td>The pharmaceutical giant says new data from its Phase 2/3 studies a previous analysis of the dru...</td>\n    </tr>\n    <tr>\n      <th>2</th>\n      <td>Dow Drops More Than 300 Points Ahead Of Fed Meeting, Tesla Sinks While Pfizer, Moderna Jump</td>\n      <td>2021-12-13</td>\n      <td>The stock market fell on Monday as investors remained cautious amid mixed headlines about the om...</td>\n    </tr>\n    <tr>\n      <th>3</th>\n      <td>Dow Drops More Than 300 Points Ahead Of Fed Meeting, Tesla Sinks While Pfizer, Moderna Jump</td>\n      <td>2021-12-13</td>\n      <td>The market moved lower ahead of a key central bank meeting later this week.</td>\n    </tr>\n    <tr>\n      <th>4</th>\n      <td>Harley-Davidson And A Grocery Tycoon Headline A $15 Billion Spate Of SPAC Mergers</td>\n      <td>2021-12-13</td>\n      <td>Harley-Davidson is spinning off its electric motorcycle arm through a SPAC deal, Pfizer is putti...</td>\n    </tr>\n    <tr>\n      <th>...</th>\n      <td>...</td>\n      <td>...</td>\n      <td>...</td>\n    </tr>\n    <tr>\n      <th>2482</th>\n      <td>Of Abundance And Scarcity In Venture Capital</td>\n      <td>2017-03-13</td>\n      <td>Although venture capital is viewed as one asset class, different sectors face vastly different d...</td>\n    </tr>\n    <tr>\n      <th>2483</th>\n      <td>What 'Sunday Morning' Didn't Say About How Animals Aid Cancer Research</td>\n      <td>2017-03-12</td>\n      <td>The CBS show 'Sunday Morning' featured dogs and other animals that are contributing to cancer re...</td>\n    </tr>\n    <tr>\n      <th>2484</th>\n      <td>Alzheimer's Staggering $259B Cost Could Break Medicare</td>\n      <td>2017-03-07</td>\n      <td>The cost of providing care for Americans with Alzheimer’s disease has hit $259 billion – more th...</td>\n    </tr>\n    <tr>\n      <th>2485</th>\n      <td>How To Trade The 8 'Dogs Of The Dow'</td>\n      <td>2017-03-02</td>\n      <td>The Dogs of the Dow lag the  average on weakness from Chevron, Verizon and Exxon. Here's have to...</td>\n    </tr>\n    <tr>\n      <th>2486</th>\n      <td>Pharma Heads Write To Congress... And Put Foot In Mouth</td>\n      <td>2017-02-25</td>\n      <td>Our tax system is a mess. High taxes put us at a comparative disadvantage to our international c...</td>\n    </tr>\n  </tbody>\n</table>\n<p>2487 rows × 3 columns</p>\n</div>",
      "text/plain": "                                                                                                 Headline  \\\n0     Pfizer Shot Just 33% Effective Against Omicron Infection, But Largely Prevents Severe Disease, S...   \n1     New Data Confirms Covid Antiviral Drug 89% Effective At Preventing Hospitalizations And Death, P...   \n2             Dow Drops More Than 300 Points Ahead Of Fed Meeting, Tesla Sinks While Pfizer, Moderna Jump   \n3             Dow Drops More Than 300 Points Ahead Of Fed Meeting, Tesla Sinks While Pfizer, Moderna Jump   \n4                       Harley-Davidson And A Grocery Tycoon Headline A $15 Billion Spate Of SPAC Mergers   \n...                                                                                                   ...   \n2482                                                         Of Abundance And Scarcity In Venture Capital   \n2483                               What 'Sunday Morning' Didn't Say About How Animals Aid Cancer Research   \n2484                                               Alzheimer's Staggering $259B Cost Could Break Medicare   \n2485                                                                 How To Trade The 8 'Dogs Of The Dow'   \n2486                                              Pharma Heads Write To Congress... And Put Foot In Mouth   \n\n           Date  \\\n0    2021-12-14   \n1    2021-12-14   \n2    2021-12-13   \n3    2021-12-13   \n4    2021-12-13   \n...         ...   \n2482 2017-03-13   \n2483 2017-03-12   \n2484 2017-03-07   \n2485 2017-03-02   \n2486 2017-02-25   \n\n                                                                                              Decsription  \n0     The preliminary findings suggest a big drop in protection against infection with omicron but str...  \n1     The pharmaceutical giant says new data from its Phase 2/3 studies a previous analysis of the dru...  \n2     The stock market fell on Monday as investors remained cautious amid mixed headlines about the om...  \n3                             The market moved lower ahead of a key central bank meeting later this week.  \n4     Harley-Davidson is spinning off its electric motorcycle arm through a SPAC deal, Pfizer is putti...  \n...                                                                                                   ...  \n2482  Although venture capital is viewed as one asset class, different sectors face vastly different d...  \n2483  The CBS show 'Sunday Morning' featured dogs and other animals that are contributing to cancer re...  \n2484  The cost of providing care for Americans with Alzheimer’s disease has hit $259 billion – more th...  \n2485  The Dogs of the Dow lag the  average on weakness from Chevron, Verizon and Exxon. Here's have to...  \n2486  Our tax system is a mess. High taxes put us at a comparative disadvantage to our international c...  \n\n[2487 rows x 3 columns]"
     },
     "execution_count": 19,
     "metadata": {},
     "output_type": "execute_result"
    }
   ]
  },
  {
   "cell_type": "code",
   "metadata": {
    "cell_id": "00006-f1466efc-cb72-499d-b7e9-5238594e27b1",
    "deepnote_cell_type": "code"
   },
   "source": "#df1.to_csv(r'C:\\python_file\\save\\forbes.csv')",
   "execution_count": null,
   "outputs": [
    {
     "ename": "NameError",
     "evalue": "name 'df1' is not defined",
     "output_type": "error",
     "traceback": [
      "\u001b[1;31m---------------------------------------------------------------------------\u001b[0m",
      "\u001b[1;31mNameError\u001b[0m                                 Traceback (most recent call last)",
      "\u001b[1;32m~\\AppData\\Local\\Temp/ipykernel_21012/3617751209.py\u001b[0m in \u001b[0;36m<module>\u001b[1;34m\u001b[0m\n\u001b[1;32m----> 1\u001b[1;33m \u001b[0mdf1\u001b[0m\u001b[1;33m.\u001b[0m\u001b[0mto_csv\u001b[0m\u001b[1;33m(\u001b[0m\u001b[1;34mr'C:\\python_file\\save\\forbes.csv'\u001b[0m\u001b[1;33m)\u001b[0m\u001b[1;33m\u001b[0m\u001b[1;33m\u001b[0m\u001b[0m\n\u001b[0m",
      "\u001b[1;31mNameError\u001b[0m: name 'df1' is not defined"
     ]
    }
   ]
  },
  {
   "cell_type": "code",
   "metadata": {
    "cell_id": "00007-c4d93c66-7e76-4138-9d43-f0ba478c7739",
    "deepnote_output_heights": [
     21.1875
    ],
    "deepnote_cell_type": "code"
   },
   "source": "df1.Decsription.nunique()",
   "execution_count": null,
   "outputs": [
    {
     "data": {
      "text/plain": "2486"
     },
     "execution_count": 21,
     "metadata": {},
     "output_type": "execute_result"
    }
   ]
  },
  {
   "cell_type": "markdown",
   "source": "<a style='text-decoration:none;line-height:16px;display:flex;color:#5B5B62;padding:10px;justify-content:end;' href='https://deepnote.com?utm_source=created-in-deepnote-cell&projectId=520f7743-fdb5-41d4-ba65-deb67c6338e8' target=\"_blank\">\n<img alt='Created in deepnote.com' style='display:inline;max-height:16px;margin:0px;margin-right:7.5px;' src='data:image/svg+xml;base64,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' > </img>\nCreated in <span style='font-weight:600;margin-left:4px;'>Deepnote</span></a>",
   "metadata": {
    "tags": [],
    "created_in_deepnote_cell": true,
    "deepnote_cell_type": "markdown"
   }
  }
 ],
 "nbformat": 4,
 "nbformat_minor": 2,
 "metadata": {
  "interpreter": {
   "hash": "153eff5e2e68dc988fe969ce4a1bee957f32dfb6ff66e6f15ca3bd9570caf4ef"
  },
  "kernelspec": {
   "display_name": "Python 3 (ipykernel)",
   "language": "python",
   "name": "python3"
  },
  "language_info": {
   "codemirror_mode": {
    "name": "ipython",
    "version": 3
   },
   "file_extension": ".py",
   "mimetype": "text/x-python",
   "name": "python",
   "nbconvert_exporter": "python",
   "pygments_lexer": "ipython3",
   "version": "3.9.7"
  },
  "orig_nbformat": 4,
  "deepnote_notebook_id": "290346ba-a730-439e-88e6-4f08f62e2bbd",
  "deepnote": {},
  "deepnote_execution_queue": []
 }
}