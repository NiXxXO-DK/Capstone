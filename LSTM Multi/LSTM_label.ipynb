{
 "cells": [
  {
   "cell_type": "markdown",
   "metadata": {
    "cell_id": "00000-e10655b7-a928-4379-8691-77e743641d88",
    "deepnote_cell_type": "text-cell-h1",
    "is_collapsed": false,
    "tags": []
   },
   "source": [
    "# Multivariate LSTM"
   ]
  },
  {
   "cell_type": "markdown",
   "metadata": {
    "cell_id": "00001-410ad500-55f5-49d5-8162-f9c994e2204c",
    "deepnote_cell_type": "markdown",
    "tags": []
   },
   "source": [
    "A multivariate LSTM is used to predict the price of the stock in this section. In general stocks are highly affected by external factors and therefore this complexity is ignored when a regular LSTM model, that only takes previously stock-price, into account.\n",
    "Eventhough multivariate doesn't fully grasps the compleksity of this, it does a better job."
   ]
  },
  {
   "cell_type": "markdown",
   "metadata": {
    "cell_id": "00002-a8b93b14-41da-4cfc-bde3-eec7600fda58",
    "deepnote_cell_type": "text-cell-h1",
    "is_collapsed": false,
    "tags": []
   },
   "source": [
    "# Step1 loading and merging the timeseries data"
   ]
  },
  {
   "cell_type": "markdown",
   "metadata": {
    "cell_id": "00003-5cb424de-307d-4910-a7a9-8c2ca1ad965c",
    "deepnote_cell_type": "markdown",
    "tags": []
   },
   "source": [
    "https://www.relataly.com/stock-market-prediction-using-multivariate-time-series-in-python/1815/#h-implementing-a-multivariate-time-series-prediction-model-in-python \n",
    "\n"
   ]
  },
  {
   "cell_type": "code",
   "execution_count": 2,
   "metadata": {
    "cell_id": "00004-b1e23514-7c6e-4c27-b924-bb752431f84c",
    "deepnote_cell_type": "code",
    "deepnote_to_be_reexecuted": false,
    "execution_millis": 3,
    "execution_start": 1640074215789,
    "source_hash": "f8803caa",
    "tags": []
   },
   "outputs": [],
   "source": [
    "#Import stuff\n",
    "import pandas as pd\n",
    "import numpy as np"
   ]
  },
  {
   "cell_type": "code",
   "execution_count": 143,
   "metadata": {
    "cell_id": "00005-6fab1d7c-8b33-4ab2-a5a0-06fe7cbaa0e5",
    "deepnote_cell_type": "code",
    "deepnote_to_be_reexecuted": false,
    "execution_millis": 203,
    "execution_start": 1640074217865,
    "source_hash": "367ec1ef",
    "tags": []
   },
   "outputs": [],
   "source": [
    "#import input data\n",
    "news = pd.read_csv(r\"I:\\python_file\\save\\M4 (1)\\Sentiment Analysis\\News_combined.csv\", index_col=0)\n",
    "stock = pd.read_csv(r\"I:\\python_file\\save\\M4 (1)\\Stock data\\Phizer.csv\", index_col=0)\n",
    "news = news.set_index('Date')\n",
    "#merge the data and drop na rows\n",
    "df_input = stock.merge(news, left_index=True, right_index=True).dropna()\n",
    "\n",
    "#df_input = df_input[(df_input.index > '2019-06-01')]"
   ]
  },
  {
   "cell_type": "code",
   "execution_count": 144,
   "metadata": {
    "cell_id": "00006-503c8b31-eca4-4569-8517-f3e9e219af20",
    "deepnote_cell_type": "code",
    "deepnote_output_heights": [
     209.875
    ],
    "deepnote_to_be_reexecuted": false,
    "execution_millis": 30,
    "execution_start": 1640075062220,
    "source_hash": "111666a6",
    "tags": []
   },
   "outputs": [
    {
     "data": {
      "text/html": [
       "<div>\n",
       "<style scoped>\n",
       "    .dataframe tbody tr th:only-of-type {\n",
       "        vertical-align: middle;\n",
       "    }\n",
       "\n",
       "    .dataframe tbody tr th {\n",
       "        vertical-align: top;\n",
       "    }\n",
       "\n",
       "    .dataframe thead th {\n",
       "        text-align: right;\n",
       "    }\n",
       "</style>\n",
       "<table border=\"1\" class=\"dataframe\">\n",
       "  <thead>\n",
       "    <tr style=\"text-align: right;\">\n",
       "      <th></th>\n",
       "      <th>Open</th>\n",
       "      <th>High</th>\n",
       "      <th>Low</th>\n",
       "      <th>Close</th>\n",
       "      <th>Adj Close</th>\n",
       "      <th>Volume</th>\n",
       "      <th>Daily Return</th>\n",
       "      <th>positiv</th>\n",
       "      <th>neutral</th>\n",
       "      <th>negativ</th>\n",
       "    </tr>\n",
       "    <tr>\n",
       "      <th>Date</th>\n",
       "      <th></th>\n",
       "      <th></th>\n",
       "      <th></th>\n",
       "      <th></th>\n",
       "      <th></th>\n",
       "      <th></th>\n",
       "      <th></th>\n",
       "      <th></th>\n",
       "      <th></th>\n",
       "      <th></th>\n",
       "    </tr>\n",
       "  </thead>\n",
       "  <tbody>\n",
       "    <tr>\n",
       "      <th>2017-03-06</th>\n",
       "      <td>32.571156</td>\n",
       "      <td>32.703983</td>\n",
       "      <td>32.333965</td>\n",
       "      <td>32.590134</td>\n",
       "      <td>27.264444</td>\n",
       "      <td>19174263</td>\n",
       "      <td>-0.004925</td>\n",
       "      <td>1</td>\n",
       "      <td>0.0</td>\n",
       "      <td>0.0</td>\n",
       "    </tr>\n",
       "    <tr>\n",
       "      <th>2017-03-10</th>\n",
       "      <td>32.390892</td>\n",
       "      <td>32.561668</td>\n",
       "      <td>32.258064</td>\n",
       "      <td>32.362431</td>\n",
       "      <td>27.073948</td>\n",
       "      <td>20214666</td>\n",
       "      <td>0.001762</td>\n",
       "      <td>1</td>\n",
       "      <td>0.0</td>\n",
       "      <td>1.0</td>\n",
       "    </tr>\n",
       "    <tr>\n",
       "      <th>2017-03-13</th>\n",
       "      <td>32.390892</td>\n",
       "      <td>32.400379</td>\n",
       "      <td>32.172676</td>\n",
       "      <td>32.362431</td>\n",
       "      <td>27.073948</td>\n",
       "      <td>19988056</td>\n",
       "      <td>0.000000</td>\n",
       "      <td>1</td>\n",
       "      <td>0.0</td>\n",
       "      <td>0.0</td>\n",
       "    </tr>\n",
       "    <tr>\n",
       "      <th>2017-03-14</th>\n",
       "      <td>32.277039</td>\n",
       "      <td>32.571156</td>\n",
       "      <td>32.239090</td>\n",
       "      <td>32.466793</td>\n",
       "      <td>27.161261</td>\n",
       "      <td>15563469</td>\n",
       "      <td>0.003225</td>\n",
       "      <td>1</td>\n",
       "      <td>0.0</td>\n",
       "      <td>1.0</td>\n",
       "    </tr>\n",
       "    <tr>\n",
       "      <th>2017-03-16</th>\n",
       "      <td>32.798862</td>\n",
       "      <td>32.855785</td>\n",
       "      <td>32.495255</td>\n",
       "      <td>32.666035</td>\n",
       "      <td>27.327942</td>\n",
       "      <td>21816219</td>\n",
       "      <td>-0.005775</td>\n",
       "      <td>1</td>\n",
       "      <td>0.0</td>\n",
       "      <td>0.0</td>\n",
       "    </tr>\n",
       "    <tr>\n",
       "      <th>...</th>\n",
       "      <td>...</td>\n",
       "      <td>...</td>\n",
       "      <td>...</td>\n",
       "      <td>...</td>\n",
       "      <td>...</td>\n",
       "      <td>...</td>\n",
       "      <td>...</td>\n",
       "      <td>...</td>\n",
       "      <td>...</td>\n",
       "      <td>...</td>\n",
       "    </tr>\n",
       "    <tr>\n",
       "      <th>2021-12-08</th>\n",
       "      <td>52.750000</td>\n",
       "      <td>53.080002</td>\n",
       "      <td>51.029999</td>\n",
       "      <td>51.400002</td>\n",
       "      <td>51.400002</td>\n",
       "      <td>37429200</td>\n",
       "      <td>-0.006187</td>\n",
       "      <td>7</td>\n",
       "      <td>16.0</td>\n",
       "      <td>2.0</td>\n",
       "    </tr>\n",
       "    <tr>\n",
       "      <th>2021-12-09</th>\n",
       "      <td>51.509998</td>\n",
       "      <td>52.849998</td>\n",
       "      <td>51.509998</td>\n",
       "      <td>52.080002</td>\n",
       "      <td>52.080002</td>\n",
       "      <td>38325700</td>\n",
       "      <td>0.013230</td>\n",
       "      <td>5</td>\n",
       "      <td>12.0</td>\n",
       "      <td>0.0</td>\n",
       "    </tr>\n",
       "    <tr>\n",
       "      <th>2021-12-10</th>\n",
       "      <td>51.200001</td>\n",
       "      <td>52.849998</td>\n",
       "      <td>51.110001</td>\n",
       "      <td>52.779999</td>\n",
       "      <td>52.779999</td>\n",
       "      <td>26043000</td>\n",
       "      <td>0.013441</td>\n",
       "      <td>10</td>\n",
       "      <td>3.0</td>\n",
       "      <td>2.0</td>\n",
       "    </tr>\n",
       "    <tr>\n",
       "      <th>2021-12-13</th>\n",
       "      <td>53.439999</td>\n",
       "      <td>55.730000</td>\n",
       "      <td>53.439999</td>\n",
       "      <td>55.200001</td>\n",
       "      <td>55.200001</td>\n",
       "      <td>54923200</td>\n",
       "      <td>0.045851</td>\n",
       "      <td>2</td>\n",
       "      <td>1.0</td>\n",
       "      <td>2.0</td>\n",
       "    </tr>\n",
       "    <tr>\n",
       "      <th>2021-12-14</th>\n",
       "      <td>54.770000</td>\n",
       "      <td>55.950001</td>\n",
       "      <td>54.320000</td>\n",
       "      <td>55.540001</td>\n",
       "      <td>55.540001</td>\n",
       "      <td>48685700</td>\n",
       "      <td>0.006159</td>\n",
       "      <td>3</td>\n",
       "      <td>4.0</td>\n",
       "      <td>1.0</td>\n",
       "    </tr>\n",
       "  </tbody>\n",
       "</table>\n",
       "<p>686 rows × 10 columns</p>\n",
       "</div>"
      ],
      "text/plain": [
       "                 Open       High        Low      Close  Adj Close    Volume  \\\n",
       "Date                                                                          \n",
       "2017-03-06  32.571156  32.703983  32.333965  32.590134  27.264444  19174263   \n",
       "2017-03-10  32.390892  32.561668  32.258064  32.362431  27.073948  20214666   \n",
       "2017-03-13  32.390892  32.400379  32.172676  32.362431  27.073948  19988056   \n",
       "2017-03-14  32.277039  32.571156  32.239090  32.466793  27.161261  15563469   \n",
       "2017-03-16  32.798862  32.855785  32.495255  32.666035  27.327942  21816219   \n",
       "...               ...        ...        ...        ...        ...       ...   \n",
       "2021-12-08  52.750000  53.080002  51.029999  51.400002  51.400002  37429200   \n",
       "2021-12-09  51.509998  52.849998  51.509998  52.080002  52.080002  38325700   \n",
       "2021-12-10  51.200001  52.849998  51.110001  52.779999  52.779999  26043000   \n",
       "2021-12-13  53.439999  55.730000  53.439999  55.200001  55.200001  54923200   \n",
       "2021-12-14  54.770000  55.950001  54.320000  55.540001  55.540001  48685700   \n",
       "\n",
       "            Daily Return  positiv  neutral  negativ  \n",
       "Date                                                 \n",
       "2017-03-06     -0.004925        1      0.0      0.0  \n",
       "2017-03-10      0.001762        1      0.0      1.0  \n",
       "2017-03-13      0.000000        1      0.0      0.0  \n",
       "2017-03-14      0.003225        1      0.0      1.0  \n",
       "2017-03-16     -0.005775        1      0.0      0.0  \n",
       "...                  ...      ...      ...      ...  \n",
       "2021-12-08     -0.006187        7     16.0      2.0  \n",
       "2021-12-09      0.013230        5     12.0      0.0  \n",
       "2021-12-10      0.013441       10      3.0      2.0  \n",
       "2021-12-13      0.045851        2      1.0      2.0  \n",
       "2021-12-14      0.006159        3      4.0      1.0  \n",
       "\n",
       "[686 rows x 10 columns]"
      ]
     },
     "execution_count": 144,
     "metadata": {},
     "output_type": "execute_result"
    }
   ],
   "source": [
    "df_input"
   ]
  },
  {
   "cell_type": "markdown",
   "metadata": {
    "cell_id": "00007-7e85f858-7172-448c-82f3-ffcb4c80fc3f",
    "deepnote_cell_type": "markdown",
    "tags": []
   },
   "source": [
    "Here the news data and the stock data are merged, together in the same dataframe based on the dates."
   ]
  },
  {
   "cell_type": "markdown",
   "metadata": {
    "cell_id": "00008-5aa7c5bd-72b9-426d-81c2-1bdf1da38b6d",
    "deepnote_cell_type": "text-cell-h1",
    "is_collapsed": false,
    "tags": []
   },
   "source": [
    "# Step 2 explore the data (kan slettes??)"
   ]
  },
  {
   "cell_type": "markdown",
   "metadata": {
    "cell_id": "00009-c1aeb8a6-835f-4950-a34e-be41fc6b57ce",
    "deepnote_cell_type": "text-cell-h1",
    "is_collapsed": false,
    "tags": []
   },
   "source": [
    "# Step 3 Scaling and Feature Selection"
   ]
  },
  {
   "cell_type": "markdown",
   "metadata": {
    "cell_id": "00010-01387b56-974e-422e-8c7d-c923f0362f29",
    "deepnote_cell_type": "markdown",
    "tags": []
   },
   "source": [
    "Next the data is transformed into wht is needed for the model.\n",
    "\n",
    "* The predict variable is the daily return and looks on the pct change from day to day.\n",
    "* the timeseries is 50, which means that it looks on the previous 50 days to predict the price on the next.\n",
    "* the feature list are those variables that are used to predict the stock price in the multivariate model."
   ]
  },
  {
   "cell_type": "code",
   "execution_count": 145,
   "metadata": {
    "cell_id": "00011-b13b57f7-9378-42a5-ba43-f2d6779e8b85",
    "deepnote_cell_type": "code",
    "deepnote_to_be_reexecuted": false,
    "execution_millis": 4807695,
    "execution_start": 1640010997649,
    "source_hash": "ebb7b47c",
    "tags": []
   },
   "outputs": [],
   "source": [
    "Predict_variable = 'Daily Return'\n",
    "LSTM_df = df_input.drop(['Open','High','Low','Close','Volume'], axis=1)\n",
    "#LSTM_df = df_input.filter(['Close','Volume'], axis=1)\n",
    "timeseries = 30\n",
    "Feature = LSTM_df.columns\n",
    "#Feature = ['Adj Close','Daily Return','positiv','neutral', 'negativ']\n",
    "stockname = \"Pfizer\"\n",
    "#LSTM_df = LSTM_df.filter(Feature)"
   ]
  },
  {
   "cell_type": "code",
   "execution_count": 146,
   "metadata": {
    "cell_id": "00012-913f2b69-3fad-4cb8-85c6-7e68948afe06",
    "deepnote_cell_type": "code",
    "deepnote_to_be_reexecuted": false,
    "execution_millis": 13,
    "execution_start": 1640010997655,
    "source_hash": "ef9e22c5",
    "tags": []
   },
   "outputs": [],
   "source": [
    "#Importing relevant tenserflow libaries and packages\n",
    "import matplotlib.pyplot as plt\n",
    "import datetime as dt\n",
    "from tensorflow import keras\n",
    "from tensorflow.keras.models import Sequential\n",
    "from tensorflow.keras.layers import Dense\n",
    "from tensorflow.keras.layers import SimpleRNN\n",
    "from tensorflow.keras.layers import Dropout\n",
    "from tensorflow.keras.layers import Dense, LSTM\n",
    "from tensorflow.keras.callbacks import EarlyStopping\n",
    "from sklearn.metrics import mean_squared_error, r2_score, mean_absolute_error\n",
    "import math\n",
    "from math import sqrt\n",
    "plt.style.use('ggplot')\n",
    "from datetime import date, timedelta\n",
    "from sklearn.preprocessing import MinMaxScaler"
   ]
  },
  {
   "cell_type": "code",
   "execution_count": 147,
   "metadata": {
    "cell_id": "00013-b6bbad71-3852-488b-a13e-88bb43263660",
    "deepnote_cell_type": "code",
    "deepnote_to_be_reexecuted": false,
    "execution_millis": 5,
    "execution_start": 1640010997678,
    "source_hash": "6b0676b7",
    "tags": []
   },
   "outputs": [],
   "source": [
    "#LSTM_df['Date'] = LSTM_df.index"
   ]
  },
  {
   "cell_type": "code",
   "execution_count": 148,
   "metadata": {
    "cell_id": "00014-220237b4-42bd-4380-8961-e1511ec6e0fd",
    "deepnote_cell_type": "code",
    "deepnote_output_heights": [
     417.96875
    ]
   },
   "outputs": [
    {
     "data": {
      "text/html": [
       "<div>\n",
       "<style scoped>\n",
       "    .dataframe tbody tr th:only-of-type {\n",
       "        vertical-align: middle;\n",
       "    }\n",
       "\n",
       "    .dataframe tbody tr th {\n",
       "        vertical-align: top;\n",
       "    }\n",
       "\n",
       "    .dataframe thead th {\n",
       "        text-align: right;\n",
       "    }\n",
       "</style>\n",
       "<table border=\"1\" class=\"dataframe\">\n",
       "  <thead>\n",
       "    <tr style=\"text-align: right;\">\n",
       "      <th></th>\n",
       "      <th>Adj Close</th>\n",
       "      <th>Daily Return</th>\n",
       "      <th>positiv</th>\n",
       "      <th>neutral</th>\n",
       "      <th>negativ</th>\n",
       "    </tr>\n",
       "    <tr>\n",
       "      <th>Date</th>\n",
       "      <th></th>\n",
       "      <th></th>\n",
       "      <th></th>\n",
       "      <th></th>\n",
       "      <th></th>\n",
       "    </tr>\n",
       "  </thead>\n",
       "  <tbody>\n",
       "    <tr>\n",
       "      <th>2017-03-06</th>\n",
       "      <td>27.264444</td>\n",
       "      <td>-0.004925</td>\n",
       "      <td>1</td>\n",
       "      <td>0.0</td>\n",
       "      <td>0.0</td>\n",
       "    </tr>\n",
       "    <tr>\n",
       "      <th>2017-03-10</th>\n",
       "      <td>27.073948</td>\n",
       "      <td>0.001762</td>\n",
       "      <td>1</td>\n",
       "      <td>0.0</td>\n",
       "      <td>1.0</td>\n",
       "    </tr>\n",
       "    <tr>\n",
       "      <th>2017-03-13</th>\n",
       "      <td>27.073948</td>\n",
       "      <td>0.000000</td>\n",
       "      <td>1</td>\n",
       "      <td>0.0</td>\n",
       "      <td>0.0</td>\n",
       "    </tr>\n",
       "    <tr>\n",
       "      <th>2017-03-14</th>\n",
       "      <td>27.161261</td>\n",
       "      <td>0.003225</td>\n",
       "      <td>1</td>\n",
       "      <td>0.0</td>\n",
       "      <td>1.0</td>\n",
       "    </tr>\n",
       "    <tr>\n",
       "      <th>2017-03-16</th>\n",
       "      <td>27.327942</td>\n",
       "      <td>-0.005775</td>\n",
       "      <td>1</td>\n",
       "      <td>0.0</td>\n",
       "      <td>0.0</td>\n",
       "    </tr>\n",
       "    <tr>\n",
       "      <th>...</th>\n",
       "      <td>...</td>\n",
       "      <td>...</td>\n",
       "      <td>...</td>\n",
       "      <td>...</td>\n",
       "      <td>...</td>\n",
       "    </tr>\n",
       "    <tr>\n",
       "      <th>2021-12-08</th>\n",
       "      <td>51.400002</td>\n",
       "      <td>-0.006187</td>\n",
       "      <td>7</td>\n",
       "      <td>16.0</td>\n",
       "      <td>2.0</td>\n",
       "    </tr>\n",
       "    <tr>\n",
       "      <th>2021-12-09</th>\n",
       "      <td>52.080002</td>\n",
       "      <td>0.013230</td>\n",
       "      <td>5</td>\n",
       "      <td>12.0</td>\n",
       "      <td>0.0</td>\n",
       "    </tr>\n",
       "    <tr>\n",
       "      <th>2021-12-10</th>\n",
       "      <td>52.779999</td>\n",
       "      <td>0.013441</td>\n",
       "      <td>10</td>\n",
       "      <td>3.0</td>\n",
       "      <td>2.0</td>\n",
       "    </tr>\n",
       "    <tr>\n",
       "      <th>2021-12-13</th>\n",
       "      <td>55.200001</td>\n",
       "      <td>0.045851</td>\n",
       "      <td>2</td>\n",
       "      <td>1.0</td>\n",
       "      <td>2.0</td>\n",
       "    </tr>\n",
       "    <tr>\n",
       "      <th>2021-12-14</th>\n",
       "      <td>55.540001</td>\n",
       "      <td>0.006159</td>\n",
       "      <td>3</td>\n",
       "      <td>4.0</td>\n",
       "      <td>1.0</td>\n",
       "    </tr>\n",
       "  </tbody>\n",
       "</table>\n",
       "<p>686 rows × 5 columns</p>\n",
       "</div>"
      ],
      "text/plain": [
       "            Adj Close  Daily Return  positiv  neutral  negativ\n",
       "Date                                                          \n",
       "2017-03-06  27.264444     -0.004925        1      0.0      0.0\n",
       "2017-03-10  27.073948      0.001762        1      0.0      1.0\n",
       "2017-03-13  27.073948      0.000000        1      0.0      0.0\n",
       "2017-03-14  27.161261      0.003225        1      0.0      1.0\n",
       "2017-03-16  27.327942     -0.005775        1      0.0      0.0\n",
       "...               ...           ...      ...      ...      ...\n",
       "2021-12-08  51.400002     -0.006187        7     16.0      2.0\n",
       "2021-12-09  52.080002      0.013230        5     12.0      0.0\n",
       "2021-12-10  52.779999      0.013441       10      3.0      2.0\n",
       "2021-12-13  55.200001      0.045851        2      1.0      2.0\n",
       "2021-12-14  55.540001      0.006159        3      4.0      1.0\n",
       "\n",
       "[686 rows x 5 columns]"
      ]
     },
     "execution_count": 148,
     "metadata": {},
     "output_type": "execute_result"
    }
   ],
   "source": [
    "LSTM_df"
   ]
  },
  {
   "cell_type": "code",
   "execution_count": 149,
   "metadata": {
    "cell_id": "00015-498ccf0d-12bf-487d-a863-36a03720434b",
    "deepnote_cell_type": "code",
    "deepnote_to_be_reexecuted": false,
    "execution_millis": 4,
    "execution_start": 1640010997696,
    "source_hash": "542d4372",
    "tags": []
   },
   "outputs": [],
   "source": [
    "# Indexing Batches\n",
    "train_df = LSTM_df.sort_values(by=['Date']).copy()\n",
    "\n",
    "# We safe a copy of the dates index, before we need to reset it to numbers\n",
    "date_index = train_df.index\n",
    "\n",
    "# We reset the index, so we can convert the date-index to a number-index\n",
    "train_df = train_df.reset_index(drop=True).copy()"
   ]
  },
  {
   "cell_type": "markdown",
   "metadata": {
    "cell_id": "00016-59f626ce-6808-4fa5-bf02-d60dd58c9ae9",
    "deepnote_cell_type": "markdown",
    "tags": []
   },
   "source": [
    "In the following the features are selected, that are used in the model."
   ]
  },
  {
   "cell_type": "code",
   "execution_count": 150,
   "metadata": {
    "cell_id": "00017-cbe0d6be-7a41-40d9-beac-a6e734b7adc0",
    "deepnote_cell_type": "code",
    "deepnote_output_heights": [
     388.484375
    ]
   },
   "outputs": [
    {
     "data": {
      "text/html": [
       "<div>\n",
       "<style scoped>\n",
       "    .dataframe tbody tr th:only-of-type {\n",
       "        vertical-align: middle;\n",
       "    }\n",
       "\n",
       "    .dataframe tbody tr th {\n",
       "        vertical-align: top;\n",
       "    }\n",
       "\n",
       "    .dataframe thead th {\n",
       "        text-align: right;\n",
       "    }\n",
       "</style>\n",
       "<table border=\"1\" class=\"dataframe\">\n",
       "  <thead>\n",
       "    <tr style=\"text-align: right;\">\n",
       "      <th></th>\n",
       "      <th>Adj Close</th>\n",
       "      <th>Daily Return</th>\n",
       "      <th>positiv</th>\n",
       "      <th>neutral</th>\n",
       "      <th>negativ</th>\n",
       "    </tr>\n",
       "  </thead>\n",
       "  <tbody>\n",
       "    <tr>\n",
       "      <th>0</th>\n",
       "      <td>27.264444</td>\n",
       "      <td>-0.004925</td>\n",
       "      <td>1</td>\n",
       "      <td>0.0</td>\n",
       "      <td>0.0</td>\n",
       "    </tr>\n",
       "    <tr>\n",
       "      <th>1</th>\n",
       "      <td>27.073948</td>\n",
       "      <td>0.001762</td>\n",
       "      <td>1</td>\n",
       "      <td>0.0</td>\n",
       "      <td>1.0</td>\n",
       "    </tr>\n",
       "    <tr>\n",
       "      <th>2</th>\n",
       "      <td>27.073948</td>\n",
       "      <td>0.000000</td>\n",
       "      <td>1</td>\n",
       "      <td>0.0</td>\n",
       "      <td>0.0</td>\n",
       "    </tr>\n",
       "    <tr>\n",
       "      <th>3</th>\n",
       "      <td>27.161261</td>\n",
       "      <td>0.003225</td>\n",
       "      <td>1</td>\n",
       "      <td>0.0</td>\n",
       "      <td>1.0</td>\n",
       "    </tr>\n",
       "    <tr>\n",
       "      <th>4</th>\n",
       "      <td>27.327942</td>\n",
       "      <td>-0.005775</td>\n",
       "      <td>1</td>\n",
       "      <td>0.0</td>\n",
       "      <td>0.0</td>\n",
       "    </tr>\n",
       "    <tr>\n",
       "      <th>...</th>\n",
       "      <td>...</td>\n",
       "      <td>...</td>\n",
       "      <td>...</td>\n",
       "      <td>...</td>\n",
       "      <td>...</td>\n",
       "    </tr>\n",
       "    <tr>\n",
       "      <th>681</th>\n",
       "      <td>51.400002</td>\n",
       "      <td>-0.006187</td>\n",
       "      <td>7</td>\n",
       "      <td>16.0</td>\n",
       "      <td>2.0</td>\n",
       "    </tr>\n",
       "    <tr>\n",
       "      <th>682</th>\n",
       "      <td>52.080002</td>\n",
       "      <td>0.013230</td>\n",
       "      <td>5</td>\n",
       "      <td>12.0</td>\n",
       "      <td>0.0</td>\n",
       "    </tr>\n",
       "    <tr>\n",
       "      <th>683</th>\n",
       "      <td>52.779999</td>\n",
       "      <td>0.013441</td>\n",
       "      <td>10</td>\n",
       "      <td>3.0</td>\n",
       "      <td>2.0</td>\n",
       "    </tr>\n",
       "    <tr>\n",
       "      <th>684</th>\n",
       "      <td>55.200001</td>\n",
       "      <td>0.045851</td>\n",
       "      <td>2</td>\n",
       "      <td>1.0</td>\n",
       "      <td>2.0</td>\n",
       "    </tr>\n",
       "    <tr>\n",
       "      <th>685</th>\n",
       "      <td>55.540001</td>\n",
       "      <td>0.006159</td>\n",
       "      <td>3</td>\n",
       "      <td>4.0</td>\n",
       "      <td>1.0</td>\n",
       "    </tr>\n",
       "  </tbody>\n",
       "</table>\n",
       "<p>686 rows × 5 columns</p>\n",
       "</div>"
      ],
      "text/plain": [
       "     Adj Close  Daily Return  positiv  neutral  negativ\n",
       "0    27.264444     -0.004925        1      0.0      0.0\n",
       "1    27.073948      0.001762        1      0.0      1.0\n",
       "2    27.073948      0.000000        1      0.0      0.0\n",
       "3    27.161261      0.003225        1      0.0      1.0\n",
       "4    27.327942     -0.005775        1      0.0      0.0\n",
       "..         ...           ...      ...      ...      ...\n",
       "681  51.400002     -0.006187        7     16.0      2.0\n",
       "682  52.080002      0.013230        5     12.0      0.0\n",
       "683  52.779999      0.013441       10      3.0      2.0\n",
       "684  55.200001      0.045851        2      1.0      2.0\n",
       "685  55.540001      0.006159        3      4.0      1.0\n",
       "\n",
       "[686 rows x 5 columns]"
      ]
     },
     "execution_count": 150,
     "metadata": {},
     "output_type": "execute_result"
    }
   ],
   "source": [
    "train_df"
   ]
  },
  {
   "cell_type": "code",
   "execution_count": 151,
   "metadata": {
    "cell_id": "00018-6d2d7d22-6337-40d4-bd31-876564c74f01",
    "deepnote_cell_type": "code",
    "deepnote_to_be_reexecuted": false,
    "execution_millis": 17,
    "execution_start": 1640010997709,
    "source_hash": "4dcfbc94",
    "tags": []
   },
   "outputs": [
    {
     "name": "stdout",
     "output_type": "stream",
     "text": [
      "FEATURE LIST\n",
      "['Adj Close', 'Daily Return', 'positiv', 'neutral', 'negativ']\n"
     ]
    }
   ],
   "source": [
    "# List of considered Features\n",
    "FEATURES = Feature\n",
    "print('FEATURE LIST')\n",
    "print([f for f in FEATURES])\n",
    "\n",
    "# Create the dataset with features and filter the data to the list of FEATURES\n",
    "data = pd.DataFrame(train_df)\n",
    "data_filtered = data[FEATURES]\n",
    "\n",
    "# We add a prediction column and set dummy values to prepare the data for scaling\n",
    "data_filtered_ext = data_filtered.copy()\n",
    "data_filtered_ext['Prediction'] = data_filtered_ext[Predict_variable]"
   ]
  },
  {
   "cell_type": "markdown",
   "metadata": {
    "cell_id": "00019-5c5f1ae7-cb66-49fa-beeb-1c27aca1097f",
    "deepnote_cell_type": "markdown",
    "tags": []
   },
   "source": [
    "next the data is scaled meaning variables on different scales are transformed into the same - making it easier for the model. MinMaxScaler is used to scale between 0 and 1."
   ]
  },
  {
   "cell_type": "code",
   "execution_count": 152,
   "metadata": {
    "cell_id": "00020-b1ddbe75-4f8e-4965-bbde-06bf3c347c6a",
    "deepnote_cell_type": "code",
    "deepnote_to_be_reexecuted": false,
    "execution_millis": 47,
    "execution_start": 1640010997758,
    "source_hash": "ed833b77",
    "tags": []
   },
   "outputs": [
    {
     "name": "stdout",
     "output_type": "stream",
     "text": [
      "(686, 5)\n"
     ]
    }
   ],
   "source": [
    "# Get the number of rows in the data\n",
    "nrows = data_filtered.shape[0]\n",
    "\n",
    "# Convert the data to numpy values\n",
    "np_data_unscaled = np.array(data_filtered)\n",
    "np_data = np.reshape(np_data_unscaled, (nrows, -1))\n",
    "print(np_data.shape)\n",
    "\n",
    "# Transform the data by scaling each feature to a range between 0 and 1\n",
    "scaler = MinMaxScaler()\n",
    "np_data_scaled = scaler.fit_transform(np_data_unscaled)\n",
    "\n",
    "# Creating a separate scaler that works on a single column for scaling predictions\n",
    "scaler_pred = MinMaxScaler()\n",
    "df_Close = pd.DataFrame(data_filtered_ext[Predict_variable])\n",
    "np_Close_scaled = scaler_pred.fit_transform(df_Close)"
   ]
  },
  {
   "cell_type": "markdown",
   "metadata": {
    "cell_id": "00021-c6fc6cf1-71cb-40d2-a16a-2587e7bfd34e",
    "deepnote_cell_type": "text-cell-h1",
    "is_collapsed": false,
    "tags": []
   },
   "source": [
    "# Step 4 Transforming the Data"
   ]
  },
  {
   "cell_type": "markdown",
   "metadata": {
    "cell_id": "00022-ad62ae9f-c8c9-4e1d-9c18-07fd6d4a252a",
    "deepnote_cell_type": "markdown",
    "tags": []
   },
   "source": [
    "The data needs to be transformed because the model ues three-dimensional datastructure: sequences, time steps and number of features. \n",
    "The data has also been split into a 80% train-set and 20%-test-set. "
   ]
  },
  {
   "cell_type": "code",
   "execution_count": 153,
   "metadata": {
    "cell_id": "00023-6a6d466d-f844-4477-a6cc-5cc843eda1a3",
    "deepnote_cell_type": "code",
    "deepnote_output_heights": [
     328.328125
    ],
    "deepnote_to_be_reexecuted": false,
    "execution_millis": 53,
    "execution_start": 1640010997803,
    "source_hash": "fd17a703",
    "tags": []
   },
   "outputs": [
    {
     "name": "stdout",
     "output_type": "stream",
     "text": [
      "(519, 30, 5) (519,)\n",
      "(137, 30, 5) (137,)\n",
      "0.38743735266299395\n",
      "0.38743735266299395\n"
     ]
    }
   ],
   "source": [
    "# Set the sequence length - this is the timeframe used to make a single prediction\n",
    "sequence_length = timeseries\n",
    "\n",
    "# Prediction Index\n",
    "index_Close = data.columns.get_loc(Predict_variable)\n",
    "\n",
    "# Split the training data into train and train data sets\n",
    "# As a first step, we get the number of rows to train the model on 80% of the data \n",
    "train_data_len = math.ceil(np_data_scaled.shape[0] * 0.8)\n",
    "\n",
    "# Create the training and test data\n",
    "train_data = np_data_scaled[0:train_data_len, :]\n",
    "test_data = np_data_scaled[train_data_len - sequence_length:, :]\n",
    "\n",
    "# The RNN needs data with the format of [samples, time steps, features]\n",
    "# Here, we create N samples, sequence_length time steps per sample, and 6 features\n",
    "def partition_dataset(sequence_length, data):\n",
    "    x, y = [], []\n",
    "    data_len = data.shape[0]\n",
    "    for i in range(sequence_length, data_len):\n",
    "        x.append(data[i-sequence_length:i,:]) #contains sequence_length values 0-sequence_length * columsn\n",
    "        y.append(data[i, index_Close]) #contains the prediction values for validation,  for single-step prediction\n",
    "    \n",
    "    # Convert the x and y to numpy arrays\n",
    "    x = np.array(x)\n",
    "    y = np.array(y)\n",
    "    return x, y\n",
    "# Generate training data and test data\n",
    "x_train, y_train = partition_dataset(sequence_length, train_data)\n",
    "x_test, y_test = partition_dataset(sequence_length, test_data)\n",
    "\n",
    "# Print the shapes: the result is: (rows, training_sequence, features) (prediction value, )\n",
    "print(x_train.shape, y_train.shape)\n",
    "print(x_test.shape, y_test.shape)\n",
    "\n",
    "# Validate that the prediction value and the input match up\n",
    "# The last close price of the second input sample should equal the first prediction value\n",
    "print(x_train[1][sequence_length-1][index_Close])\n",
    "print(y_train[0])"
   ]
  },
  {
   "cell_type": "markdown",
   "metadata": {
    "cell_id": "00024-192d14e8-8416-4a41-bd8e-495dda95041a",
    "deepnote_cell_type": "text-cell-h1",
    "is_collapsed": false,
    "tags": []
   },
   "source": [
    "# Step 5 Train the Multivariate Prediction Model"
   ]
  },
  {
   "cell_type": "markdown",
   "metadata": {
    "cell_id": "00025-bd07f0fe-70c7-457c-8bc5-78e60110ca87",
    "deepnote_cell_type": "markdown",
    "tags": []
   },
   "source": [
    "Next step is to prepare and train the model. \n",
    "first we initialize a sequential model, which is a stack of layers model, that uses 50 observations to predict the 51th observation.\n"
   ]
  },
  {
   "cell_type": "markdown",
   "metadata": {
    "cell_id": "00026-dcf26033-7966-41c8-8d41-fac60b4c2fad",
    "deepnote_cell_type": "markdown",
    "tags": []
   },
   "source": [
    "Next "
   ]
  },
  {
   "cell_type": "code",
   "execution_count": 154,
   "metadata": {
    "cell_id": "00027-3149a174-cc7b-4f22-861a-0fd3179628e9",
    "deepnote_cell_type": "code",
    "deepnote_to_be_reexecuted": false,
    "execution_millis": 1281,
    "execution_start": 1640010997881,
    "source_hash": "c5972b97",
    "tags": []
   },
   "outputs": [
    {
     "name": "stdout",
     "output_type": "stream",
     "text": [
      "150 30 5\n"
     ]
    }
   ],
   "source": [
    "# Configure the neural network model\n",
    "model = Sequential()\n",
    "\n",
    "# Model with n_neurons = inputshape Timestamps, each with x_train.shape[2] variables\n",
    "n_neurons = x_train.shape[1] * x_train.shape[2]\n",
    "print(n_neurons, x_train.shape[1], x_train.shape[2])\n",
    "model.add(LSTM(n_neurons, return_sequences=True, input_shape=(x_train.shape[1], x_train.shape[2]))) \n",
    "model.add(Dropout(0.2))\n",
    "model.add(LSTM(n_neurons, return_sequences=False))\n",
    "model.add(Dense(50))\n",
    "model.add(Dropout(0.2))\n",
    "model.add(Dense(1))\n",
    "\n",
    "# Compile the model\n",
    "model.compile(optimizer='adam', loss='mse')"
   ]
  },
  {
   "cell_type": "code",
   "execution_count": 155,
   "metadata": {
    "cell_id": "00028-5cb9fed4-2aa4-4c1d-826d-7d6395f54b58",
    "deepnote_cell_type": "code",
    "deepnote_to_be_reexecuted": false,
    "execution_millis": 11,
    "execution_start": 1640010999178,
    "source_hash": "4e6a3b95",
    "tags": []
   },
   "outputs": [
    {
     "name": "stdout",
     "output_type": "stream",
     "text": [
      "Model: \"sequential_6\"\n",
      "_________________________________________________________________\n",
      " Layer (type)                Output Shape              Param #   \n",
      "=================================================================\n",
      " lstm_12 (LSTM)              (None, 30, 150)           93600     \n",
      "                                                                 \n",
      " dropout_12 (Dropout)        (None, 30, 150)           0         \n",
      "                                                                 \n",
      " lstm_13 (LSTM)              (None, 150)               180600    \n",
      "                                                                 \n",
      " dense_12 (Dense)            (None, 50)                7550      \n",
      "                                                                 \n",
      " dropout_13 (Dropout)        (None, 50)                0         \n",
      "                                                                 \n",
      " dense_13 (Dense)            (None, 1)                 51        \n",
      "                                                                 \n",
      "=================================================================\n",
      "Total params: 281,801\n",
      "Trainable params: 281,801\n",
      "Non-trainable params: 0\n",
      "_________________________________________________________________\n"
     ]
    }
   ],
   "source": [
    "model.summary()"
   ]
  },
  {
   "cell_type": "markdown",
   "metadata": {
    "cell_id": "00029-c0cb658f-9f1c-4c8b-9d16-fd37d2da5d15",
    "deepnote_cell_type": "markdown",
    "tags": []
   },
   "source": [
    "Next the model is trained, by running a number of epochs:"
   ]
  },
  {
   "cell_type": "code",
   "execution_count": 156,
   "metadata": {
    "cell_id": "00030-7c317f6d-77a5-4ff4-9f47-98cf19068150",
    "deepnote_cell_type": "code",
    "deepnote_to_be_reexecuted": false,
    "execution_millis": 156831,
    "execution_start": 1640010999200,
    "source_hash": "d2034093",
    "tags": []
   },
   "outputs": [
    {
     "name": "stdout",
     "output_type": "stream",
     "text": [
      "Epoch 1/1000\n",
      "9/9 [==============================] - 3s 78ms/step - loss: 0.0542 - val_loss: 0.0177\n",
      "Epoch 2/1000\n",
      "9/9 [==============================] - 0s 12ms/step - loss: 0.0157 - val_loss: 0.0132\n",
      "Epoch 3/1000\n",
      "9/9 [==============================] - 0s 13ms/step - loss: 0.0106 - val_loss: 0.0106\n",
      "Epoch 4/1000\n",
      "9/9 [==============================] - 0s 13ms/step - loss: 0.0106 - val_loss: 0.0109\n",
      "Epoch 5/1000\n",
      "9/9 [==============================] - 0s 11ms/step - loss: 0.0097 - val_loss: 0.0109\n",
      "Epoch 6/1000\n",
      "9/9 [==============================] - 0s 12ms/step - loss: 0.0089 - val_loss: 0.0114\n",
      "Epoch 7/1000\n",
      "9/9 [==============================] - 0s 12ms/step - loss: 0.0098 - val_loss: 0.0112\n",
      "Epoch 8/1000\n",
      "9/9 [==============================] - 0s 13ms/step - loss: 0.0099 - val_loss: 0.0102\n",
      "Epoch 9/1000\n",
      "9/9 [==============================] - 0s 12ms/step - loss: 0.0093 - val_loss: 0.0110\n",
      "Epoch 10/1000\n",
      "9/9 [==============================] - 0s 12ms/step - loss: 0.0089 - val_loss: 0.0103\n",
      "Epoch 11/1000\n",
      "9/9 [==============================] - 0s 13ms/step - loss: 0.0090 - val_loss: 0.0102\n",
      "Epoch 12/1000\n",
      "9/9 [==============================] - 0s 13ms/step - loss: 0.0079 - val_loss: 0.0101\n",
      "Epoch 13/1000\n",
      "9/9 [==============================] - 0s 14ms/step - loss: 0.0088 - val_loss: 0.0101\n",
      "Epoch 14/1000\n",
      "9/9 [==============================] - 0s 12ms/step - loss: 0.0088 - val_loss: 0.0112\n",
      "Epoch 15/1000\n",
      "9/9 [==============================] - 0s 13ms/step - loss: 0.0090 - val_loss: 0.0101\n",
      "Epoch 16/1000\n",
      "9/9 [==============================] - 0s 11ms/step - loss: 0.0088 - val_loss: 0.0106\n",
      "Epoch 17/1000\n",
      "9/9 [==============================] - 0s 12ms/step - loss: 0.0101 - val_loss: 0.0117\n",
      "Epoch 18/1000\n",
      "9/9 [==============================] - 0s 12ms/step - loss: 0.0087 - val_loss: 0.0112\n",
      "Epoch 19/1000\n",
      "9/9 [==============================] - 0s 12ms/step - loss: 0.0093 - val_loss: 0.0107\n",
      "Epoch 20/1000\n",
      "9/9 [==============================] - 0s 12ms/step - loss: 0.0088 - val_loss: 0.0110\n",
      "Epoch 21/1000\n",
      "9/9 [==============================] - 0s 13ms/step - loss: 0.0091 - val_loss: 0.0113\n",
      "Epoch 22/1000\n",
      "9/9 [==============================] - 0s 16ms/step - loss: 0.0093 - val_loss: 0.0101\n",
      "Epoch 23/1000\n",
      "9/9 [==============================] - 0s 14ms/step - loss: 0.0083 - val_loss: 0.0110\n",
      "Epoch 24/1000\n",
      "9/9 [==============================] - 0s 14ms/step - loss: 0.0082 - val_loss: 0.0113\n",
      "Epoch 25/1000\n",
      "9/9 [==============================] - 0s 13ms/step - loss: 0.0088 - val_loss: 0.0100\n",
      "Epoch 26/1000\n",
      "9/9 [==============================] - 0s 12ms/step - loss: 0.0086 - val_loss: 0.0108\n",
      "Epoch 27/1000\n",
      "9/9 [==============================] - 0s 12ms/step - loss: 0.0083 - val_loss: 0.0104\n",
      "Epoch 28/1000\n",
      "9/9 [==============================] - 0s 13ms/step - loss: 0.0081 - val_loss: 0.0111\n",
      "Epoch 29/1000\n",
      "9/9 [==============================] - 0s 13ms/step - loss: 0.0088 - val_loss: 0.0106\n",
      "Epoch 30/1000\n",
      "9/9 [==============================] - 0s 13ms/step - loss: 0.0086 - val_loss: 0.0104\n",
      "Epoch 31/1000\n",
      "9/9 [==============================] - 0s 14ms/step - loss: 0.0084 - val_loss: 0.0114\n",
      "Epoch 32/1000\n",
      "9/9 [==============================] - 0s 12ms/step - loss: 0.0081 - val_loss: 0.0110\n",
      "Epoch 33/1000\n",
      "9/9 [==============================] - 0s 12ms/step - loss: 0.0086 - val_loss: 0.0121\n",
      "Epoch 34/1000\n",
      "9/9 [==============================] - 0s 12ms/step - loss: 0.0086 - val_loss: 0.0118\n",
      "Epoch 35/1000\n",
      "9/9 [==============================] - 0s 13ms/step - loss: 0.0099 - val_loss: 0.0116\n",
      "Epoch 36/1000\n",
      "9/9 [==============================] - 0s 13ms/step - loss: 0.0087 - val_loss: 0.0105\n",
      "Epoch 37/1000\n",
      "9/9 [==============================] - 0s 13ms/step - loss: 0.0083 - val_loss: 0.0102\n",
      "Epoch 38/1000\n",
      "9/9 [==============================] - 0s 13ms/step - loss: 0.0083 - val_loss: 0.0102\n",
      "Epoch 39/1000\n",
      "9/9 [==============================] - 0s 15ms/step - loss: 0.0081 - val_loss: 0.0108\n",
      "Epoch 40/1000\n",
      "9/9 [==============================] - 0s 15ms/step - loss: 0.0079 - val_loss: 0.0101\n",
      "Epoch 41/1000\n",
      "9/9 [==============================] - 0s 13ms/step - loss: 0.0083 - val_loss: 0.0125\n",
      "Epoch 42/1000\n",
      "9/9 [==============================] - 0s 15ms/step - loss: 0.0087 - val_loss: 0.0101\n",
      "Epoch 43/1000\n",
      "9/9 [==============================] - 0s 14ms/step - loss: 0.0078 - val_loss: 0.0109\n",
      "Epoch 44/1000\n",
      "9/9 [==============================] - 0s 13ms/step - loss: 0.0084 - val_loss: 0.0103\n",
      "Epoch 45/1000\n",
      "9/9 [==============================] - 0s 12ms/step - loss: 0.0081 - val_loss: 0.0114\n",
      "Epoch 46/1000\n",
      "9/9 [==============================] - 0s 12ms/step - loss: 0.0082 - val_loss: 0.0115\n",
      "Epoch 47/1000\n",
      "9/9 [==============================] - 0s 12ms/step - loss: 0.0080 - val_loss: 0.0112\n",
      "Epoch 48/1000\n",
      "9/9 [==============================] - 0s 14ms/step - loss: 0.0079 - val_loss: 0.0101\n",
      "Epoch 49/1000\n",
      "9/9 [==============================] - 0s 16ms/step - loss: 0.0081 - val_loss: 0.0146\n",
      "Epoch 50/1000\n",
      "9/9 [==============================] - 0s 13ms/step - loss: 0.0086 - val_loss: 0.0107\n",
      "Epoch 51/1000\n",
      "9/9 [==============================] - 0s 13ms/step - loss: 0.0081 - val_loss: 0.0117\n",
      "Epoch 52/1000\n",
      "9/9 [==============================] - 0s 13ms/step - loss: 0.0077 - val_loss: 0.0109\n",
      "Epoch 53/1000\n",
      "9/9 [==============================] - 0s 13ms/step - loss: 0.0080 - val_loss: 0.0127\n",
      "Epoch 54/1000\n",
      "9/9 [==============================] - 0s 13ms/step - loss: 0.0079 - val_loss: 0.0107\n",
      "Epoch 55/1000\n",
      "9/9 [==============================] - 0s 12ms/step - loss: 0.0080 - val_loss: 0.0109\n",
      "Epoch 56/1000\n",
      "9/9 [==============================] - 0s 14ms/step - loss: 0.0077 - val_loss: 0.0101\n",
      "Epoch 57/1000\n",
      "9/9 [==============================] - 0s 15ms/step - loss: 0.0082 - val_loss: 0.0107\n",
      "Epoch 58/1000\n",
      "9/9 [==============================] - 0s 13ms/step - loss: 0.0080 - val_loss: 0.0139\n",
      "Epoch 59/1000\n",
      "9/9 [==============================] - 0s 13ms/step - loss: 0.0084 - val_loss: 0.0103\n",
      "Epoch 60/1000\n",
      "9/9 [==============================] - 0s 13ms/step - loss: 0.0084 - val_loss: 0.0131\n",
      "Epoch 61/1000\n",
      "9/9 [==============================] - 0s 14ms/step - loss: 0.0077 - val_loss: 0.0100\n",
      "Epoch 62/1000\n",
      "9/9 [==============================] - 0s 13ms/step - loss: 0.0085 - val_loss: 0.0128\n",
      "Epoch 63/1000\n",
      "9/9 [==============================] - 0s 13ms/step - loss: 0.0079 - val_loss: 0.0105\n",
      "Epoch 64/1000\n",
      "9/9 [==============================] - 0s 13ms/step - loss: 0.0076 - val_loss: 0.0107\n",
      "Epoch 65/1000\n",
      "9/9 [==============================] - 0s 14ms/step - loss: 0.0077 - val_loss: 0.0102\n",
      "Epoch 66/1000\n",
      "9/9 [==============================] - 0s 15ms/step - loss: 0.0085 - val_loss: 0.0112\n",
      "Epoch 67/1000\n",
      "9/9 [==============================] - 0s 13ms/step - loss: 0.0079 - val_loss: 0.0103\n",
      "Epoch 68/1000\n",
      "9/9 [==============================] - 0s 13ms/step - loss: 0.0082 - val_loss: 0.0111\n",
      "Epoch 69/1000\n",
      "9/9 [==============================] - 0s 13ms/step - loss: 0.0080 - val_loss: 0.0105\n",
      "Epoch 70/1000\n",
      "9/9 [==============================] - 0s 15ms/step - loss: 0.0081 - val_loss: 0.0107\n",
      "Epoch 71/1000\n",
      "9/9 [==============================] - 0s 15ms/step - loss: 0.0079 - val_loss: 0.0105\n",
      "Epoch 72/1000\n",
      "9/9 [==============================] - 0s 12ms/step - loss: 0.0080 - val_loss: 0.0111\n",
      "Epoch 73/1000\n",
      "9/9 [==============================] - 0s 14ms/step - loss: 0.0078 - val_loss: 0.0117\n",
      "Epoch 74/1000\n",
      "9/9 [==============================] - 0s 14ms/step - loss: 0.0080 - val_loss: 0.0111\n",
      "Epoch 75/1000\n",
      "9/9 [==============================] - 0s 19ms/step - loss: 0.0080 - val_loss: 0.0107\n",
      "Epoch 76/1000\n",
      "9/9 [==============================] - 0s 14ms/step - loss: 0.0076 - val_loss: 0.0113\n",
      "Epoch 77/1000\n",
      "9/9 [==============================] - 0s 15ms/step - loss: 0.0075 - val_loss: 0.0111\n",
      "Epoch 78/1000\n",
      "9/9 [==============================] - 0s 12ms/step - loss: 0.0076 - val_loss: 0.0104\n",
      "Epoch 79/1000\n",
      "9/9 [==============================] - 0s 13ms/step - loss: 0.0076 - val_loss: 0.0112\n",
      "Epoch 80/1000\n",
      "9/9 [==============================] - 0s 13ms/step - loss: 0.0076 - val_loss: 0.0111\n",
      "Epoch 81/1000\n",
      "9/9 [==============================] - 0s 13ms/step - loss: 0.0076 - val_loss: 0.0116\n",
      "Epoch 82/1000\n",
      "9/9 [==============================] - 0s 15ms/step - loss: 0.0073 - val_loss: 0.0109\n",
      "Epoch 83/1000\n",
      "9/9 [==============================] - 0s 14ms/step - loss: 0.0076 - val_loss: 0.0122\n",
      "Epoch 84/1000\n",
      "9/9 [==============================] - 0s 15ms/step - loss: 0.0076 - val_loss: 0.0109\n",
      "Epoch 85/1000\n",
      "9/9 [==============================] - 0s 13ms/step - loss: 0.0080 - val_loss: 0.0112\n",
      "Epoch 86/1000\n",
      "9/9 [==============================] - 0s 13ms/step - loss: 0.0080 - val_loss: 0.0108\n",
      "Epoch 87/1000\n",
      "9/9 [==============================] - 0s 14ms/step - loss: 0.0078 - val_loss: 0.0104\n",
      "Epoch 88/1000\n",
      "9/9 [==============================] - 0s 13ms/step - loss: 0.0074 - val_loss: 0.0116\n",
      "Epoch 89/1000\n",
      "9/9 [==============================] - 0s 13ms/step - loss: 0.0075 - val_loss: 0.0106\n",
      "Epoch 90/1000\n",
      "9/9 [==============================] - 0s 14ms/step - loss: 0.0076 - val_loss: 0.0107\n",
      "Epoch 91/1000\n",
      "9/9 [==============================] - 0s 15ms/step - loss: 0.0073 - val_loss: 0.0110\n",
      "Epoch 92/1000\n",
      "9/9 [==============================] - 0s 14ms/step - loss: 0.0077 - val_loss: 0.0107\n",
      "Epoch 93/1000\n",
      "9/9 [==============================] - 0s 13ms/step - loss: 0.0077 - val_loss: 0.0115\n",
      "Epoch 94/1000\n",
      "9/9 [==============================] - 0s 13ms/step - loss: 0.0079 - val_loss: 0.0101\n",
      "Epoch 95/1000\n",
      "9/9 [==============================] - 0s 12ms/step - loss: 0.0075 - val_loss: 0.0113\n",
      "Epoch 96/1000\n",
      "9/9 [==============================] - 0s 13ms/step - loss: 0.0076 - val_loss: 0.0103\n",
      "Epoch 97/1000\n",
      "9/9 [==============================] - 0s 13ms/step - loss: 0.0077 - val_loss: 0.0132\n",
      "Epoch 98/1000\n",
      "9/9 [==============================] - 0s 13ms/step - loss: 0.0081 - val_loss: 0.0101\n",
      "Epoch 99/1000\n",
      "9/9 [==============================] - 0s 15ms/step - loss: 0.0075 - val_loss: 0.0122\n",
      "Epoch 100/1000\n",
      "9/9 [==============================] - 0s 14ms/step - loss: 0.0073 - val_loss: 0.0110\n",
      "Epoch 101/1000\n",
      "9/9 [==============================] - 0s 14ms/step - loss: 0.0075 - val_loss: 0.0103\n",
      "Epoch 102/1000\n",
      "9/9 [==============================] - 0s 14ms/step - loss: 0.0071 - val_loss: 0.0117\n",
      "Epoch 103/1000\n",
      "9/9 [==============================] - 0s 13ms/step - loss: 0.0076 - val_loss: 0.0110\n",
      "Epoch 104/1000\n",
      "9/9 [==============================] - 0s 13ms/step - loss: 0.0074 - val_loss: 0.0109\n",
      "Epoch 105/1000\n",
      "9/9 [==============================] - 0s 13ms/step - loss: 0.0074 - val_loss: 0.0129\n",
      "Epoch 106/1000\n",
      "9/9 [==============================] - 0s 13ms/step - loss: 0.0071 - val_loss: 0.0105\n",
      "Epoch 107/1000\n",
      "9/9 [==============================] - 0s 14ms/step - loss: 0.0073 - val_loss: 0.0130\n",
      "Epoch 108/1000\n",
      "9/9 [==============================] - 0s 14ms/step - loss: 0.0075 - val_loss: 0.0108\n",
      "Epoch 109/1000\n",
      "9/9 [==============================] - 0s 14ms/step - loss: 0.0075 - val_loss: 0.0113\n",
      "Epoch 110/1000\n",
      "9/9 [==============================] - 0s 13ms/step - loss: 0.0071 - val_loss: 0.0109\n",
      "Epoch 111/1000\n",
      "9/9 [==============================] - 0s 15ms/step - loss: 0.0074 - val_loss: 0.0111\n",
      "Epoch 112/1000\n",
      "9/9 [==============================] - 0s 14ms/step - loss: 0.0076 - val_loss: 0.0122\n",
      "Epoch 113/1000\n",
      "9/9 [==============================] - 0s 14ms/step - loss: 0.0073 - val_loss: 0.0106\n",
      "Epoch 114/1000\n",
      "9/9 [==============================] - 0s 13ms/step - loss: 0.0075 - val_loss: 0.0106\n",
      "Epoch 115/1000\n",
      "9/9 [==============================] - 0s 14ms/step - loss: 0.0072 - val_loss: 0.0104\n",
      "Epoch 116/1000\n",
      "9/9 [==============================] - 0s 14ms/step - loss: 0.0075 - val_loss: 0.0105\n",
      "Epoch 117/1000\n",
      "9/9 [==============================] - 0s 15ms/step - loss: 0.0073 - val_loss: 0.0122\n",
      "Epoch 118/1000\n",
      "9/9 [==============================] - 0s 14ms/step - loss: 0.0076 - val_loss: 0.0105\n",
      "Epoch 119/1000\n",
      "9/9 [==============================] - 0s 13ms/step - loss: 0.0073 - val_loss: 0.0108\n",
      "Epoch 120/1000\n",
      "9/9 [==============================] - 0s 13ms/step - loss: 0.0072 - val_loss: 0.0125\n",
      "Epoch 121/1000\n",
      "9/9 [==============================] - 0s 13ms/step - loss: 0.0075 - val_loss: 0.0102\n",
      "Epoch 122/1000\n",
      "9/9 [==============================] - 0s 12ms/step - loss: 0.0075 - val_loss: 0.0126\n",
      "Epoch 123/1000\n",
      "9/9 [==============================] - 0s 13ms/step - loss: 0.0071 - val_loss: 0.0104\n",
      "Epoch 124/1000\n",
      "9/9 [==============================] - 0s 14ms/step - loss: 0.0076 - val_loss: 0.0101\n",
      "Epoch 125/1000\n",
      "7/9 [======================>.......] - ETA: 0s - loss: 0.0069Restoring model weights from the end of the best epoch: 25.\n",
      "9/9 [==============================] - 0s 14ms/step - loss: 0.0075 - val_loss: 0.0105\n",
      "Epoch 00125: early stopping\n"
     ]
    }
   ],
   "source": [
    "# Training the model\n",
    "epochs = 1000\n",
    "batch_size = 64\n",
    "early_stop = EarlyStopping(monitor='val_loss', min_delta=1e-6, patience=100, \n",
    "        verbose=1, mode='auto', restore_best_weights=True)\n",
    "history = model.fit(x_train, y_train, \n",
    "                    batch_size=batch_size, \n",
    "                    epochs=epochs,\n",
    "                    validation_data=(x_test, y_test), \n",
    "                    callbacks=[early_stop])"
   ]
  },
  {
   "cell_type": "code",
   "execution_count": 157,
   "metadata": {
    "cell_id": "00031-2a226469-9dec-4ab1-9217-6995b7b05124",
    "deepnote_cell_type": "code",
    "deepnote_output_heights": [
     447
    ],
    "deepnote_to_be_reexecuted": false,
    "execution_millis": 523,
    "execution_start": 1640011156065,
    "source_hash": "39ad2392",
    "tags": []
   },
   "outputs": [
    {
     "data": {
      "image/png": "[encoded data removed]",
      "text/plain": [
       "<Figure size 720x504 with 1 Axes>"
      ]
     },
     "metadata": {},
     "output_type": "display_data"
    }
   ],
   "source": [
    "epoch = len(history.history['loss'])\n",
    "#Plotting the results\n",
    "loss_train = history.history['loss']\n",
    "loss_val = history.history['val_loss']\n",
    "epochs = range(0,epoch)\n",
    "plt.figure(figsize = (10,7))\n",
    "plt.plot(epochs, loss_train, color=\"black\", label='Training loss')\n",
    "plt.plot(epochs, loss_val, color=\"red\", label='validation loss')\n",
    "plt.title('Training and Validation loss')\n",
    "plt.xlabel('Epochs')\n",
    "plt.ylabel('Loss')\n",
    "plt.legend()\n",
    "plt.show()"
   ]
  },
  {
   "cell_type": "markdown",
   "metadata": {
    "cell_id": "00032-bd46b068-c36a-4fd1-be7f-69902351c9cf",
    "deepnote_cell_type": "markdown",
    "tags": []
   },
   "source": [
    "We see that the loss curves drop and keep on dropping which means the model improves the more it is trained. "
   ]
  },
  {
   "cell_type": "markdown",
   "metadata": {
    "cell_id": "00033-9c03e259-40ff-44d0-a9a8-7569e29c0a8e",
    "deepnote_cell_type": "text-cell-h1",
    "is_collapsed": false,
    "tags": []
   },
   "source": [
    "# Step 6 Evaluate Model Performance"
   ]
  },
  {
   "cell_type": "markdown",
   "metadata": {
    "cell_id": "00034-ec5b2f99-eb0f-448b-9c78-18eb69e2ca9e",
    "deepnote_cell_type": "markdown",
    "tags": []
   },
   "source": [
    "Next the model performance can be assesed after the predictions have been reversed-scaled to get it back to the original scale. "
   ]
  },
  {
   "cell_type": "code",
   "execution_count": 158,
   "metadata": {
    "cell_id": "00035-3a0ab92d-e0cf-4076-9a07-b1240d538957",
    "deepnote_cell_type": "code",
    "deepnote_to_be_reexecuted": false,
    "execution_millis": 2705,
    "execution_start": 1640011156591,
    "source_hash": "9b48224e",
    "tags": []
   },
   "outputs": [
    {
     "name": "stdout",
     "output_type": "stream",
     "text": [
      "Mean Squared Error (MSE): 0.0\n",
      "Root Mean Absolute Error (RMSE): 0.1\n",
      "Mean Absolute Error (MAE): 0.01\n",
      "Mean Absolute Percentage Error (MAPE): inf %\n",
      "Median Absolute Percentage Error (MDAPE): 97.09 %\n",
      "R Squared (R2): 0.01\n"
     ]
    },
    {
     "name": "stderr",
     "output_type": "stream",
     "text": [
      "C:\\Users\\nixo_\\AppData\\Local\\Temp/ipykernel_6772/2825798527.py:22: RuntimeWarning: divide by zero encountered in true_divide\n",
      "  MAPE = np.mean((np.abs(np.subtract(y_test_unscaled, y_pred)/ y_test_unscaled))) * 100\n",
      "C:\\Users\\nixo_\\AppData\\Local\\Temp/ipykernel_6772/2825798527.py:26: RuntimeWarning: divide by zero encountered in true_divide\n",
      "  MDAPE = np.median((np.abs(np.subtract(y_test_unscaled, y_pred)/ y_test_unscaled)) ) * 100\n"
     ]
    }
   ],
   "source": [
    "# Get the predicted values\n",
    "y_pred_scaled = model.predict(x_test)\n",
    "\n",
    "# Unscale the predicted values\n",
    "y_pred = scaler_pred.inverse_transform(y_pred_scaled)\n",
    "y_test_unscaled = scaler_pred.inverse_transform(y_test.reshape(-1, 1))\n",
    "\n",
    "\n",
    "# Mean Squared Error (MSE)\n",
    "MSE = mean_squared_error(y_test_unscaled, y_pred)\n",
    "print(f'Mean Squared Error (MSE): {np.round(MSE, 2)}')\n",
    "\n",
    "#Root Mean Squared Error (RMSE)\n",
    "rmse = np.sqrt(np.mean(((y_pred_scaled - y_test)**2)))\n",
    "print(f'Root Mean Absolute Error (RMSE): {np.round(rmse, 2)}')\n",
    "\n",
    "# Mean Absolute Error (MAE)\n",
    "MAE = mean_absolute_error(y_test_unscaled, y_pred)\n",
    "print(f'Mean Absolute Error (MAE): {np.round(MAE, 2)}')\n",
    "\n",
    "# Mean Absolute Percentage Error (MAPE)\n",
    "MAPE = np.mean((np.abs(np.subtract(y_test_unscaled, y_pred)/ y_test_unscaled))) * 100\n",
    "print(f'Mean Absolute Percentage Error (MAPE): {np.round(MAPE, 2)} %')\n",
    "\n",
    "# Median Absolute Percentage Error (MDAPE)\n",
    "MDAPE = np.median((np.abs(np.subtract(y_test_unscaled, y_pred)/ y_test_unscaled)) ) * 100\n",
    "print(f'Median Absolute Percentage Error (MDAPE): {np.round(MDAPE, 2)} %')\n",
    "\n",
    "# R Squared (R2)\n",
    "R2 = r2_score(y_test_unscaled, y_pred)\n",
    "print(f'R Squared (R2): {np.round(R2, 2)}')"
   ]
  },
  {
   "cell_type": "markdown",
   "metadata": {
    "cell_id": "00036-7375286c-21ca-43c0-b64b-a48c8c359741",
    "deepnote_cell_type": "markdown",
    "tags": []
   },
   "source": [
    "Mean absolute error shows how much our prediction on avarage differ from the actual values.\n",
    "\n",
    "* theese dont give much sense when working with %:\n",
    ">* MAPE is how much the mean of our predictions deviate from the actual value. \n",
    ">* MDAPE is how much the medium of our predictions eviate from the actural value. thereby 50% of the predictions deviate more than 49% from the actual and 50% deviate less than 49% from the acutals"
   ]
  },
  {
   "cell_type": "markdown",
   "metadata": {
    "cell_id": "00037-53a05b12-3a52-4a60-a65b-382a99c046f4",
    "deepnote_cell_type": "markdown",
    "tags": []
   },
   "source": [
    "Next we plot the predicted vs. actual values and also the test values:"
   ]
  },
  {
   "cell_type": "code",
   "execution_count": 159,
   "metadata": {
    "cell_id": "00038-b31dbe85-2e31-43ee-a1d7-fbc73f3a5d4e",
    "deepnote_cell_type": "code",
    "deepnote_output_heights": [
     null,
     500.75
    ],
    "deepnote_to_be_reexecuted": false,
    "execution_millis": 901,
    "execution_start": 1640011159321,
    "source_hash": "e5c6544f",
    "tags": []
   },
   "outputs": [
    {
     "name": "stderr",
     "output_type": "stream",
     "text": [
      "C:\\Users\\nixo_\\AppData\\Local\\Temp/ipykernel_6772/211775460.py:15: SettingWithCopyWarning: \n",
      "A value is trying to be set on a copy of a slice from a DataFrame.\n",
      "Try using .loc[row_indexer,col_indexer] = value instead\n",
      "\n",
      "See the caveats in the documentation: https://pandas.pydata.org/pandas-docs/stable/user_guide/indexing.html#returning-a-view-versus-a-copy\n",
      "  valid['Date'] = pd.to_datetime(valid['Date'])\n",
      "C:\\Users\\nixo_\\AppData\\Local\\Temp/ipykernel_6772/211775460.py:16: SettingWithCopyWarning: \n",
      "A value is trying to be set on a copy of a slice from a DataFrame.\n",
      "Try using .loc[row_indexer,col_indexer] = value instead\n",
      "\n",
      "See the caveats in the documentation: https://pandas.pydata.org/pandas-docs/stable/user_guide/indexing.html#returning-a-view-versus-a-copy\n",
      "  train['Date'] = pd.to_datetime(train['Date'])\n"
     ]
    },
    {
     "data": {
      "image/png": "[encoded data removed]",
      "text/plain": [
       "<Figure size 1584x720 with 1 Axes>"
      ]
     },
     "metadata": {},
     "output_type": "display_data"
    }
   ],
   "source": [
    "# The date from which on the date is displayed\n",
    "display_start_date = pd.Timestamp('today') - timedelta(days=400)\n",
    "\n",
    "# Add the date column\n",
    "data_filtered_sub = data_filtered.copy()\n",
    "data_filtered_sub['Date'] = date_index\n",
    "\n",
    "# Add the difference between the valid and predicted prices\n",
    "train = data_filtered_sub[:train_data_len + 1]\n",
    "valid = data_filtered_sub[train_data_len:]\n",
    "valid.insert(1, \"Prediction\", y_pred.ravel(), True)\n",
    "valid.insert(1, \"Difference\", valid[\"Prediction\"] - valid[Predict_variable], True)\n",
    "\n",
    "#Remove timezone\n",
    "valid['Date'] = pd.to_datetime(valid['Date'])\n",
    "train['Date'] = pd.to_datetime(train['Date'])\n",
    "\n",
    "\n",
    "# Zoom in to a closer timeframe\n",
    "valid = valid[valid['Date'] > display_start_date]\n",
    "train = train[train['Date'] > display_start_date]\n",
    "\n",
    "# Visualize the data\n",
    "fig, ax1 = plt.subplots(figsize=(22, 10), sharex=True)\n",
    "xt = train['Date']; yt = train[[Predict_variable]]\n",
    "xv = valid['Date']; yv = valid[[Predict_variable, \"Prediction\"]]\n",
    "plt.title(\"Predictions vs Actual Values\", fontsize=20)\n",
    "plt.ylabel(stockname, fontsize=18)\n",
    "plt.plot(xt, yt, color=\"#039dfc\", linewidth=2.0)\n",
    "plt.plot(xv, yv[\"Prediction\"], color=\"#E91D9E\", linewidth=2.0)\n",
    "plt.plot(xv, yv[Predict_variable], color=\"black\", linewidth=2.0)\n",
    "plt.legend([\"Train\", \"Test Predictions\", \"Actual Values\"], loc=\"upper left\")\n",
    "\n",
    "# # Create the bar plot with the differences\n",
    "x = valid['Date']\n",
    "y = valid[\"Difference\"]\n",
    "\n",
    "# Create custom color range for positive and negative differences\n",
    "valid.loc[y >= 0, 'diff_color'] = \"#2BC97A\"\n",
    "valid.loc[y < 0, 'diff_color'] = \"#C92B2B\"\n",
    "\n",
    "#Plotting the results\n",
    "#plt.bar(x, y, width=0.8, color=valid['diff_color'])\n",
    "plt.grid()\n",
    "plt.show()"
   ]
  },
  {
   "cell_type": "markdown",
   "metadata": {
    "cell_id": "00039-6c62ba6c-2cdf-49f6-8b18-2b24e871fe02",
    "deepnote_cell_type": "markdown",
    "tags": []
   },
   "source": [
    "We see that the test prediction and the actual values follow eachother quite nice, indicating that the model does a ok job at predicting the stock price. \n",
    "In the next section a barplot is made, that shows the difference between predicted and actual stock prices."
   ]
  },
  {
   "cell_type": "code",
   "execution_count": 160,
   "metadata": {
    "cell_id": "00040-b0c4967a-50b4-4673-bf9c-def63ea83414",
    "deepnote_cell_type": "code",
    "deepnote_output_heights": [
     596.96875
    ],
    "deepnote_to_be_reexecuted": false,
    "execution_millis": 1140,
    "execution_start": 1640011160057,
    "source_hash": "13a52dc6",
    "tags": []
   },
   "outputs": [
    {
     "data": {
      "image/png": "[encoded data removed]",
      "text/plain": [
       "<Figure size 1584x720 with 1 Axes>"
      ]
     },
     "metadata": {},
     "output_type": "display_data"
    }
   ],
   "source": [
    "# Visualize the data\n",
    "fig, ax1 = plt.subplots(figsize=(22, 10), sharex=True)\n",
    "#xt = train['Date']; yt = train[[Predict_variable]]\n",
    "#xv = valid['Date']; yv = valid[[Predict_variable, \"Prediction\"]]\n",
    "plt.title(\"Predictions vs Actual Values\", fontsize=20)\n",
    "plt.ylabel(stockname, fontsize=18)\n",
    "#plt.plot(xt, yt, color=\"#039dfc\", linewidth=2.0)\n",
    "#plt.plot(xv, yv[\"Prediction\"], color=\"#E91D9E\", linewidth=2.0)\n",
    "#plt.plot(xv, yv[Predict_variable], color=\"black\", linewidth=2.0)\n",
    "plt.legend([\"Train\", \"Test Predictions\", \"Actual Values\"], loc=\"upper left\")\n",
    "# # Create the bar plot with the differences\n",
    "x = valid['Date']\n",
    "y = valid[\"Difference\"]\n",
    "\n",
    "# Create custom color range for positive and negative differences\n",
    "valid.loc[y >= 0, 'diff_color'] = \"#2BC97A\"\n",
    "valid.loc[y < 0, 'diff_color'] = \"#C92B2B\"\n",
    "\n",
    "#Plotting the results\n",
    "plt.bar(x, y, width=0.8, color=valid['diff_color'])\n",
    "plt.grid()\n",
    "plt.show()"
   ]
  },
  {
   "cell_type": "markdown",
   "metadata": {
    "cell_id": "00041-44f5ac20-f827-4fb7-a0ca-b70259ea0039",
    "deepnote_cell_type": "text-cell-h1",
    "is_collapsed": false,
    "tags": []
   },
   "source": [
    "# Step 7 Predict Next Day’s Price"
   ]
  },
  {
   "cell_type": "code",
   "execution_count": 161,
   "metadata": {
    "cell_id": "00042-9101ab99-af42-4f2d-94b3-c03f94bb9924",
    "deepnote_cell_type": "code",
    "deepnote_to_be_reexecuted": false,
    "execution_millis": 148,
    "execution_start": 1640011161208,
    "source_hash": "6dfdeea1",
    "tags": []
   },
   "outputs": [
    {
     "name": "stdout",
     "output_type": "stream",
     "text": [
      "The close price for Pfizer at 2022-01-03 08:47:12.122842 was 0.01%\n",
      "The predicted close price is 0.0%\n"
     ]
    },
    {
     "name": "stderr",
     "output_type": "stream",
     "text": [
      "C:\\Users\\nixo_\\AppData\\Local\\Temp/ipykernel_6772/2754855120.py:22: RuntimeWarning: divide by zero encountered in double_scalars\n",
      "  change_percent = np.round(100 - (price_today * 100)/predicted_price, 2)\n"
     ]
    }
   ],
   "source": [
    "df_temp = LSTM_df[-sequence_length:]\n",
    "new_df = df_temp.filter(FEATURES)\n",
    "stockname = 'Pfizer'\n",
    "today = dt.datetime.today() - timedelta(days=1)\n",
    "N = sequence_length\n",
    "\n",
    "# Get the last N day closing price values and scale the data to be values between 0 and 1\n",
    "last_N_days = new_df[-sequence_length:].values\n",
    "last_N_days_scaled = scaler.transform(last_N_days)\n",
    "\n",
    "# Create an empty list and Append past N days\n",
    "X_test_new = []\n",
    "X_test_new.append(last_N_days_scaled)\n",
    "\n",
    "# Convert the X_test data set to a numpy array and reshape the data\n",
    "pred_price_scaled = model.predict(np.array(X_test_new))\n",
    "pred_price_unscaled = scaler_pred.inverse_transform(pred_price_scaled.reshape(-1, 1))\n",
    "\n",
    "# Print last price and predicted price for the next day\n",
    "price_today = np.round(new_df[Predict_variable][-1], 2)\n",
    "predicted_price = np.round(pred_price_unscaled.ravel()[0], 2)\n",
    "change_percent = np.round(100 - (price_today * 100)/predicted_price, 2)\n",
    "\n",
    "plus = '+'; minus = ''\n",
    "print(f'The close price for {stockname} at {today} was {price_today}%')\n",
    "print(f'The predicted close price is {str(np.round(predicted_price, 3))}%')"
   ]
  },
  {
   "cell_type": "markdown",
   "metadata": {
    "cell_id": "00043-b9dd787a-a4a2-408e-989b-92e3ee3ee003",
    "deepnote_cell_type": "text-cell-h1",
    "is_collapsed": false,
    "tags": []
   },
   "source": [
    "# Backtesting"
   ]
  },
  {
   "cell_type": "code",
   "execution_count": 162,
   "metadata": {
    "cell_id": "00044-48bb0ac5-f446-4c92-8230-0bf289548260",
    "deepnote_cell_type": "code",
    "deepnote_output_heights": [
     21.171875
    ]
   },
   "outputs": [
    {
     "data": {
      "text/plain": [
       "137"
      ]
     },
     "execution_count": 162,
     "metadata": {},
     "output_type": "execute_result"
    }
   ],
   "source": [
    "len(y_pred)"
   ]
  },
  {
   "cell_type": "code",
   "execution_count": 163,
   "metadata": {
    "cell_id": "00045-f937d3b6-9bba-4f99-9fd9-71d802c7bc3c",
    "deepnote_cell_type": "code",
    "deepnote_to_be_reexecuted": false,
    "execution_millis": 10,
    "execution_start": 1640011186654,
    "source_hash": "43e8938",
    "tags": []
   },
   "outputs": [
    {
     "name": "stdout",
     "output_type": "stream",
     "text": [
      "-0.0026765710208564997\n",
      "0.0068721529096364975\n"
     ]
    }
   ],
   "source": [
    "#y_pred_unscaled = scaler_pred.inverse_transform(y_pred)\n",
    "#x_test_unscaled = data_filtered.tail(len(y_pred_unscaled))\n",
    "x_test_unscaled = LSTM_df.tail(len(y_pred)).copy()\n",
    "#x_test_unscaled['Predict_close'] = x_test_unscaled.append(pd.DataFrame(y_pred))\n",
    "x_test_unscaled['Predict_close'] = y_pred\n",
    "print(x_test_unscaled.Predict_close.min())\n",
    "print(x_test_unscaled.Predict_close.max())\n",
    "x_test_unscaled.to_csv(\"I:\\python_file\\save\\M4 (1)\\LSTM Multi\\LSTM_label.csv\")"
   ]
  },
  {
   "cell_type": "markdown",
   "metadata": {
    "created_in_deepnote_cell": true,
    "deepnote_cell_type": "markdown",
    "tags": []
   },
   "source": [
    "<a style='text-decoration:none;line-height:16px;display:flex;color:#5B5B62;padding:10px;justify-content:end;' href='https://deepnote.com?utm_source=created-in-deepnote-cell&projectId=520f7743-fdb5-41d4-ba65-deb67c6338e8' target=\"_blank\">\n",
    "<img alt='Created in deepnote.com' style='display:inline;max-height:16px;margin:0px;margin-right:7.5px;' src='data:image/svg+xml;base64,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' > </img>\n",
    "Created in <span style='font-weight:600;margin-left:4px;'>Deepnote</span></a>"
   ]
  }
 ],
 "metadata": {
  "deepnote": {
   "is_reactive": false
  },
  "deepnote_execution_queue": [],
  "deepnote_notebook_id": "ee4076bd-2982-47bb-add2-febc4b98509b",
  "interpreter": {
   "hash": "5fcd9ef9a7fd07ed341f4b7d39229d44b8d65ab67020beddf48d9c8903096275"
  },
  "kernelspec": {
   "display_name": "Python 3.9.7 64-bit ('base': conda)",
   "language": "python",
   "name": "python3"
  },
  "language_info": {
   "codemirror_mode": {
    "name": "ipython",
    "version": 3
   },
   "file_extension": ".py",
   "mimetype": "text/x-python",
   "name": "python",
   "nbconvert_exporter": "python",
   "pygments_lexer": "ipython3",
   "version": "3.9.7"
  },
  "orig_nbformat": 2
 },
 "nbformat": 4,
 "nbformat_minor": 2
}
