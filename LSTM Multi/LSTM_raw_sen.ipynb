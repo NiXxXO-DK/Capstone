{
 "cells": [
  {
   "cell_type": "markdown",
   "metadata": {
    "cell_id": "00000-6993513c-24dc-40ea-8ac5-3ed57a0ad6bb",
    "deepnote_cell_type": "text-cell-h1",
    "is_collapsed": false,
    "tags": []
   },
   "source": [
    "# Multivariate LSTM"
   ]
  },
  {
   "cell_type": "markdown",
   "metadata": {
    "cell_id": "00001-eedd91e6-2de5-498d-be1f-3301bba7e914",
    "deepnote_cell_type": "markdown",
    "tags": []
   },
   "source": [
    "A multivariate LSTM is used to predict the price of the stock in this section. In general stocks are highly affected by external factors and therefore this complexity is ignored when a regular LSTM model, that only takes previously stock-price, into account.\n",
    "Eventhough multivariate doesn't fully grasps the compleksity of this, it does a better job."
   ]
  },
  {
   "cell_type": "markdown",
   "metadata": {
    "cell_id": "00002-27f9b8c2-db88-406e-8267-5150b52f7144",
    "deepnote_cell_type": "text-cell-h1",
    "is_collapsed": false,
    "tags": []
   },
   "source": [
    "# Step1 loading and merging the timeseries data"
   ]
  },
  {
   "cell_type": "markdown",
   "metadata": {
    "cell_id": "00003-d7d48f83-553f-4f81-bdeb-6a07b474a2a3",
    "deepnote_cell_type": "markdown",
    "tags": []
   },
   "source": [
    "https://www.relataly.com/stock-market-prediction-using-multivariate-time-series-in-python/1815/#h-implementing-a-multivariate-time-series-prediction-model-in-python \n",
    "\n"
   ]
  },
  {
   "cell_type": "code",
   "execution_count": 2,
   "metadata": {
    "cell_id": "00004-2d2a6258-1e7b-41df-8349-ae7c6ada8946",
    "deepnote_cell_type": "code",
    "deepnote_to_be_reexecuted": false,
    "execution_millis": 3,
    "execution_start": 1640074215789,
    "source_hash": "f8803caa",
    "tags": []
   },
   "outputs": [],
   "source": [
    "#Import stuff\n",
    "import pandas as pd\n",
    "import numpy as np"
   ]
  },
  {
   "cell_type": "code",
   "execution_count": 6,
   "metadata": {
    "cell_id": "00006-4425f3c9-7cb4-4cba-a07c-5e219f331864",
    "deepnote_cell_type": "code",
    "deepnote_to_be_reexecuted": false,
    "execution_millis": 203,
    "execution_start": 1640074217865,
    "source_hash": "367ec1ef",
    "tags": []
   },
   "outputs": [],
   "source": [
    "#import input data\n",
    "news = pd.read_csv(r\"I:\\python_file\\save\\M4 (1)\\Sentiment Analysis\\news_raw_sent.csv\", index_col=0)\n",
    "stock = pd.read_csv(r\"I:\\python_file\\save\\M4 (1)\\Stock data\\Phizer.csv\", index_col=0)\n",
    "#news = news.set_index('Date')\n",
    "#merge the data and drop na rows\n",
    "df_input = stock.merge(news, left_index=True, right_index=True).dropna()\n",
    "\n",
    "df_input = df_input[(df_input.index > '2019-06-01')]"
   ]
  },
  {
   "cell_type": "code",
   "execution_count": 7,
   "metadata": {
    "cell_id": "00007-f25564bd-16c7-4e46-b995-40a3e0d1d2b0",
    "deepnote_cell_type": "code",
    "deepnote_to_be_reexecuted": false,
    "execution_millis": 30,
    "execution_start": 1640075062220,
    "source_hash": "111666a6",
    "tags": []
   },
   "outputs": [
    {
     "data": {
      "text/html": [
       "<div>\n",
       "<style scoped>\n",
       "    .dataframe tbody tr th:only-of-type {\n",
       "        vertical-align: middle;\n",
       "    }\n",
       "\n",
       "    .dataframe tbody tr th {\n",
       "        vertical-align: top;\n",
       "    }\n",
       "\n",
       "    .dataframe thead th {\n",
       "        text-align: right;\n",
       "    }\n",
       "</style>\n",
       "<table border=\"1\" class=\"dataframe\">\n",
       "  <thead>\n",
       "    <tr style=\"text-align: right;\">\n",
       "      <th></th>\n",
       "      <th>Open</th>\n",
       "      <th>High</th>\n",
       "      <th>Low</th>\n",
       "      <th>Close</th>\n",
       "      <th>Adj Close</th>\n",
       "      <th>Volume</th>\n",
       "      <th>Daily Return</th>\n",
       "      <th>neg</th>\n",
       "      <th>neu</th>\n",
       "      <th>pos</th>\n",
       "      <th>compound</th>\n",
       "    </tr>\n",
       "    <tr>\n",
       "      <th>Date</th>\n",
       "      <th></th>\n",
       "      <th></th>\n",
       "      <th></th>\n",
       "      <th></th>\n",
       "      <th></th>\n",
       "      <th></th>\n",
       "      <th></th>\n",
       "      <th></th>\n",
       "      <th></th>\n",
       "      <th></th>\n",
       "      <th></th>\n",
       "    </tr>\n",
       "  </thead>\n",
       "  <tbody>\n",
       "    <tr>\n",
       "      <th>2019-06-03</th>\n",
       "      <td>39.497154</td>\n",
       "      <td>40.028461</td>\n",
       "      <td>39.440228</td>\n",
       "      <td>39.772297</td>\n",
       "      <td>36.083004</td>\n",
       "      <td>22643082</td>\n",
       "      <td>0.009634</td>\n",
       "      <td>0.000</td>\n",
       "      <td>0.8530</td>\n",
       "      <td>0.1470</td>\n",
       "      <td>0.84560</td>\n",
       "    </tr>\n",
       "    <tr>\n",
       "      <th>2019-06-04</th>\n",
       "      <td>40.303604</td>\n",
       "      <td>40.559772</td>\n",
       "      <td>39.886147</td>\n",
       "      <td>40.066414</td>\n",
       "      <td>36.349834</td>\n",
       "      <td>18453537</td>\n",
       "      <td>0.007395</td>\n",
       "      <td>0.123</td>\n",
       "      <td>0.8290</td>\n",
       "      <td>0.0480</td>\n",
       "      <td>-0.62400</td>\n",
       "    </tr>\n",
       "    <tr>\n",
       "      <th>2019-06-05</th>\n",
       "      <td>40.417458</td>\n",
       "      <td>40.645161</td>\n",
       "      <td>40.237190</td>\n",
       "      <td>40.303604</td>\n",
       "      <td>36.565018</td>\n",
       "      <td>21418861</td>\n",
       "      <td>0.005920</td>\n",
       "      <td>0.000</td>\n",
       "      <td>0.9430</td>\n",
       "      <td>0.0570</td>\n",
       "      <td>0.49390</td>\n",
       "    </tr>\n",
       "    <tr>\n",
       "      <th>2019-06-06</th>\n",
       "      <td>40.607212</td>\n",
       "      <td>40.882355</td>\n",
       "      <td>40.303604</td>\n",
       "      <td>40.521824</td>\n",
       "      <td>36.762997</td>\n",
       "      <td>24494222</td>\n",
       "      <td>0.005414</td>\n",
       "      <td>0.000</td>\n",
       "      <td>0.8525</td>\n",
       "      <td>0.1475</td>\n",
       "      <td>0.68125</td>\n",
       "    </tr>\n",
       "    <tr>\n",
       "      <th>2019-06-07</th>\n",
       "      <td>40.777988</td>\n",
       "      <td>41.034157</td>\n",
       "      <td>40.664139</td>\n",
       "      <td>40.721062</td>\n",
       "      <td>36.943760</td>\n",
       "      <td>20023470</td>\n",
       "      <td>0.004917</td>\n",
       "      <td>0.051</td>\n",
       "      <td>0.8230</td>\n",
       "      <td>0.1260</td>\n",
       "      <td>0.22630</td>\n",
       "    </tr>\n",
       "  </tbody>\n",
       "</table>\n",
       "</div>"
      ],
      "text/plain": [
       "                 Open       High        Low      Close  Adj Close    Volume  \\\n",
       "Date                                                                          \n",
       "2019-06-03  39.497154  40.028461  39.440228  39.772297  36.083004  22643082   \n",
       "2019-06-04  40.303604  40.559772  39.886147  40.066414  36.349834  18453537   \n",
       "2019-06-05  40.417458  40.645161  40.237190  40.303604  36.565018  21418861   \n",
       "2019-06-06  40.607212  40.882355  40.303604  40.521824  36.762997  24494222   \n",
       "2019-06-07  40.777988  41.034157  40.664139  40.721062  36.943760  20023470   \n",
       "\n",
       "            Daily Return    neg     neu     pos  compound  \n",
       "Date                                                       \n",
       "2019-06-03      0.009634  0.000  0.8530  0.1470   0.84560  \n",
       "2019-06-04      0.007395  0.123  0.8290  0.0480  -0.62400  \n",
       "2019-06-05      0.005920  0.000  0.9430  0.0570   0.49390  \n",
       "2019-06-06      0.005414  0.000  0.8525  0.1475   0.68125  \n",
       "2019-06-07      0.004917  0.051  0.8230  0.1260   0.22630  "
      ]
     },
     "execution_count": 7,
     "metadata": {},
     "output_type": "execute_result"
    }
   ],
   "source": [
    "df_input.head(5)"
   ]
  },
  {
   "cell_type": "markdown",
   "metadata": {
    "cell_id": "00008-b95994dd-42ed-4d5b-bf93-bd2a74c872d0",
    "deepnote_cell_type": "markdown",
    "tags": []
   },
   "source": [
    "Here the news data and the stock data are merged, together in the same dataframe based on the dates."
   ]
  },
  {
   "cell_type": "markdown",
   "metadata": {
    "cell_id": "00009-d67d4e36-d5b7-4c91-9eb0-c3d4cd27c435",
    "deepnote_cell_type": "text-cell-h1",
    "is_collapsed": false,
    "tags": []
   },
   "source": [
    "# Step 2 explore the data (kan slettes??)"
   ]
  },
  {
   "cell_type": "markdown",
   "metadata": {
    "cell_id": "00010-7e387eac-cc97-48e4-9223-5f7e6a753f85",
    "deepnote_cell_type": "text-cell-h1",
    "is_collapsed": false,
    "tags": []
   },
   "source": [
    "# Step 3 Scaling and Feature Selection"
   ]
  },
  {
   "cell_type": "markdown",
   "metadata": {
    "cell_id": "00011-7e0da975-a16d-45df-8c92-e4997530ecda",
    "deepnote_cell_type": "markdown",
    "tags": []
   },
   "source": [
    "Next the data is transformed into wht is needed for the model.\n",
    "\n",
    "* The predict variable is the daily return and looks on the pct change from day to day.\n",
    "* the timeseries is 50, which means that it looks on the previous 50 days to predict the price on the next.\n",
    "* the feature list are those variables that are used to predict the stock price in the multivariate model."
   ]
  },
  {
   "cell_type": "code",
   "execution_count": 66,
   "metadata": {
    "cell_id": "00012-cedcde9b-c033-441c-873b-02f2c70d17f9",
    "deepnote_cell_type": "code",
    "deepnote_to_be_reexecuted": false,
    "execution_millis": 4807695,
    "execution_start": 1640010997649,
    "source_hash": "ebb7b47c",
    "tags": []
   },
   "outputs": [],
   "source": [
    "Predict_variable = 'Daily Return'\n",
    "LSTM_df = df_input.drop(['Open','High','Low','Close','Volume'], axis=1)\n",
    "timeseries = 30\n",
    "Feature = LSTM_df.columns\n",
    "#Feature = ['Adj Close','Daily Return','positiv','neutral', 'negativ']\n",
    "stockname = \"Pfizer\"\n",
    "#LSTM_df = LSTM_df.filter(Feature)"
   ]
  },
  {
   "cell_type": "code",
   "execution_count": 67,
   "metadata": {
    "cell_id": "00013-8881507f-384c-4518-9a1d-5e7a77d3563e",
    "deepnote_cell_type": "code",
    "deepnote_to_be_reexecuted": false,
    "execution_millis": 13,
    "execution_start": 1640010997655,
    "source_hash": "ef9e22c5",
    "tags": []
   },
   "outputs": [],
   "source": [
    "#Importing relevant tenserflow libaries and packages\n",
    "import matplotlib.pyplot as plt\n",
    "import datetime as dt\n",
    "from tensorflow import keras\n",
    "from tensorflow.keras.models import Sequential\n",
    "from tensorflow.keras.layers import Dense\n",
    "from tensorflow.keras.layers import SimpleRNN\n",
    "from tensorflow.keras.layers import Dropout\n",
    "from tensorflow.keras.layers import Dense, LSTM\n",
    "from tensorflow.keras.callbacks import EarlyStopping\n",
    "from sklearn.metrics import mean_squared_error, r2_score, mean_absolute_error\n",
    "import math\n",
    "from math import sqrt\n",
    "plt.style.use('ggplot')\n",
    "from datetime import date, timedelta\n",
    "from sklearn.preprocessing import MinMaxScaler"
   ]
  },
  {
   "cell_type": "code",
   "execution_count": 68,
   "metadata": {
    "cell_id": "00014-02098661-db28-432b-bde5-6329588e6126",
    "deepnote_cell_type": "code",
    "deepnote_to_be_reexecuted": false,
    "execution_millis": 5,
    "execution_start": 1640010997678,
    "source_hash": "6b0676b7",
    "tags": []
   },
   "outputs": [],
   "source": [
    "#LSTM_df['Date'] = LSTM_df.index"
   ]
  },
  {
   "cell_type": "code",
   "execution_count": 69,
   "metadata": {
    "cell_id": "00015-82ce4b9e-ccc0-4f07-af83-bdeffaefc33d",
    "deepnote_cell_type": "code"
   },
   "outputs": [
    {
     "data": {
      "text/html": [
       "<div>\n",
       "<style scoped>\n",
       "    .dataframe tbody tr th:only-of-type {\n",
       "        vertical-align: middle;\n",
       "    }\n",
       "\n",
       "    .dataframe tbody tr th {\n",
       "        vertical-align: top;\n",
       "    }\n",
       "\n",
       "    .dataframe thead th {\n",
       "        text-align: right;\n",
       "    }\n",
       "</style>\n",
       "<table border=\"1\" class=\"dataframe\">\n",
       "  <thead>\n",
       "    <tr style=\"text-align: right;\">\n",
       "      <th></th>\n",
       "      <th>Adj Close</th>\n",
       "      <th>Daily Return</th>\n",
       "      <th>neg</th>\n",
       "      <th>neu</th>\n",
       "      <th>pos</th>\n",
       "      <th>compound</th>\n",
       "    </tr>\n",
       "    <tr>\n",
       "      <th>Date</th>\n",
       "      <th></th>\n",
       "      <th></th>\n",
       "      <th></th>\n",
       "      <th></th>\n",
       "      <th></th>\n",
       "      <th></th>\n",
       "    </tr>\n",
       "  </thead>\n",
       "  <tbody>\n",
       "    <tr>\n",
       "      <th>2019-06-03</th>\n",
       "      <td>36.083004</td>\n",
       "      <td>0.009634</td>\n",
       "      <td>0.000000</td>\n",
       "      <td>0.853000</td>\n",
       "      <td>0.147000</td>\n",
       "      <td>0.845600</td>\n",
       "    </tr>\n",
       "    <tr>\n",
       "      <th>2019-06-04</th>\n",
       "      <td>36.349834</td>\n",
       "      <td>0.007395</td>\n",
       "      <td>0.123000</td>\n",
       "      <td>0.829000</td>\n",
       "      <td>0.048000</td>\n",
       "      <td>-0.624000</td>\n",
       "    </tr>\n",
       "    <tr>\n",
       "      <th>2019-06-05</th>\n",
       "      <td>36.565018</td>\n",
       "      <td>0.005920</td>\n",
       "      <td>0.000000</td>\n",
       "      <td>0.943000</td>\n",
       "      <td>0.057000</td>\n",
       "      <td>0.493900</td>\n",
       "    </tr>\n",
       "    <tr>\n",
       "      <th>2019-06-06</th>\n",
       "      <td>36.762997</td>\n",
       "      <td>0.005414</td>\n",
       "      <td>0.000000</td>\n",
       "      <td>0.852500</td>\n",
       "      <td>0.147500</td>\n",
       "      <td>0.681250</td>\n",
       "    </tr>\n",
       "    <tr>\n",
       "      <th>2019-06-07</th>\n",
       "      <td>36.943760</td>\n",
       "      <td>0.004917</td>\n",
       "      <td>0.051000</td>\n",
       "      <td>0.823000</td>\n",
       "      <td>0.126000</td>\n",
       "      <td>0.226300</td>\n",
       "    </tr>\n",
       "    <tr>\n",
       "      <th>...</th>\n",
       "      <td>...</td>\n",
       "      <td>...</td>\n",
       "      <td>...</td>\n",
       "      <td>...</td>\n",
       "      <td>...</td>\n",
       "      <td>...</td>\n",
       "    </tr>\n",
       "    <tr>\n",
       "      <th>2021-12-08</th>\n",
       "      <td>51.400002</td>\n",
       "      <td>-0.006187</td>\n",
       "      <td>0.057240</td>\n",
       "      <td>0.871200</td>\n",
       "      <td>0.071560</td>\n",
       "      <td>0.055484</td>\n",
       "    </tr>\n",
       "    <tr>\n",
       "      <th>2021-12-09</th>\n",
       "      <td>52.080002</td>\n",
       "      <td>0.013230</td>\n",
       "      <td>0.010294</td>\n",
       "      <td>0.931176</td>\n",
       "      <td>0.058529</td>\n",
       "      <td>0.113129</td>\n",
       "    </tr>\n",
       "    <tr>\n",
       "      <th>2021-12-10</th>\n",
       "      <td>52.779999</td>\n",
       "      <td>0.013441</td>\n",
       "      <td>0.049933</td>\n",
       "      <td>0.785667</td>\n",
       "      <td>0.164333</td>\n",
       "      <td>0.286420</td>\n",
       "    </tr>\n",
       "    <tr>\n",
       "      <th>2021-12-13</th>\n",
       "      <td>55.200001</td>\n",
       "      <td>0.045851</td>\n",
       "      <td>0.095000</td>\n",
       "      <td>0.818400</td>\n",
       "      <td>0.087000</td>\n",
       "      <td>0.048780</td>\n",
       "    </tr>\n",
       "    <tr>\n",
       "      <th>2021-12-14</th>\n",
       "      <td>55.540001</td>\n",
       "      <td>0.006159</td>\n",
       "      <td>0.010375</td>\n",
       "      <td>0.887125</td>\n",
       "      <td>0.102500</td>\n",
       "      <td>0.151312</td>\n",
       "    </tr>\n",
       "  </tbody>\n",
       "</table>\n",
       "<p>547 rows × 6 columns</p>\n",
       "</div>"
      ],
      "text/plain": [
       "            Adj Close  Daily Return       neg       neu       pos  compound\n",
       "Date                                                                       \n",
       "2019-06-03  36.083004      0.009634  0.000000  0.853000  0.147000  0.845600\n",
       "2019-06-04  36.349834      0.007395  0.123000  0.829000  0.048000 -0.624000\n",
       "2019-06-05  36.565018      0.005920  0.000000  0.943000  0.057000  0.493900\n",
       "2019-06-06  36.762997      0.005414  0.000000  0.852500  0.147500  0.681250\n",
       "2019-06-07  36.943760      0.004917  0.051000  0.823000  0.126000  0.226300\n",
       "...               ...           ...       ...       ...       ...       ...\n",
       "2021-12-08  51.400002     -0.006187  0.057240  0.871200  0.071560  0.055484\n",
       "2021-12-09  52.080002      0.013230  0.010294  0.931176  0.058529  0.113129\n",
       "2021-12-10  52.779999      0.013441  0.049933  0.785667  0.164333  0.286420\n",
       "2021-12-13  55.200001      0.045851  0.095000  0.818400  0.087000  0.048780\n",
       "2021-12-14  55.540001      0.006159  0.010375  0.887125  0.102500  0.151312\n",
       "\n",
       "[547 rows x 6 columns]"
      ]
     },
     "execution_count": 69,
     "metadata": {},
     "output_type": "execute_result"
    }
   ],
   "source": [
    "LSTM_df"
   ]
  },
  {
   "cell_type": "code",
   "execution_count": 70,
   "metadata": {
    "cell_id": "00016-1ea46616-c564-42e7-b010-e6b12da6ea84",
    "deepnote_cell_type": "code",
    "deepnote_to_be_reexecuted": false,
    "execution_millis": 4,
    "execution_start": 1640010997696,
    "source_hash": "542d4372",
    "tags": []
   },
   "outputs": [],
   "source": [
    "# Indexing Batches\n",
    "train_df = LSTM_df.sort_values(by=['Date']).copy()\n",
    "\n",
    "# We safe a copy of the dates index, before we need to reset it to numbers\n",
    "date_index = train_df.index\n",
    "\n",
    "# We reset the index, so we can convert the date-index to a number-index\n",
    "train_df = train_df.reset_index(drop=True).copy()"
   ]
  },
  {
   "cell_type": "markdown",
   "metadata": {
    "cell_id": "00017-1e0fe123-5c83-4345-9db0-660fb0283642",
    "deepnote_cell_type": "markdown",
    "tags": []
   },
   "source": [
    "In the following the features are selected, that are used in the model."
   ]
  },
  {
   "cell_type": "code",
   "execution_count": 71,
   "metadata": {
    "cell_id": "00018-f1a44006-1fcc-4e0a-8b3e-524b46a9ad81",
    "deepnote_cell_type": "code"
   },
   "outputs": [
    {
     "data": {
      "text/html": [
       "<div>\n",
       "<style scoped>\n",
       "    .dataframe tbody tr th:only-of-type {\n",
       "        vertical-align: middle;\n",
       "    }\n",
       "\n",
       "    .dataframe tbody tr th {\n",
       "        vertical-align: top;\n",
       "    }\n",
       "\n",
       "    .dataframe thead th {\n",
       "        text-align: right;\n",
       "    }\n",
       "</style>\n",
       "<table border=\"1\" class=\"dataframe\">\n",
       "  <thead>\n",
       "    <tr style=\"text-align: right;\">\n",
       "      <th></th>\n",
       "      <th>Adj Close</th>\n",
       "      <th>Daily Return</th>\n",
       "      <th>neg</th>\n",
       "      <th>neu</th>\n",
       "      <th>pos</th>\n",
       "      <th>compound</th>\n",
       "    </tr>\n",
       "  </thead>\n",
       "  <tbody>\n",
       "    <tr>\n",
       "      <th>0</th>\n",
       "      <td>36.083004</td>\n",
       "      <td>0.009634</td>\n",
       "      <td>0.000000</td>\n",
       "      <td>0.853000</td>\n",
       "      <td>0.147000</td>\n",
       "      <td>0.845600</td>\n",
       "    </tr>\n",
       "    <tr>\n",
       "      <th>1</th>\n",
       "      <td>36.349834</td>\n",
       "      <td>0.007395</td>\n",
       "      <td>0.123000</td>\n",
       "      <td>0.829000</td>\n",
       "      <td>0.048000</td>\n",
       "      <td>-0.624000</td>\n",
       "    </tr>\n",
       "    <tr>\n",
       "      <th>2</th>\n",
       "      <td>36.565018</td>\n",
       "      <td>0.005920</td>\n",
       "      <td>0.000000</td>\n",
       "      <td>0.943000</td>\n",
       "      <td>0.057000</td>\n",
       "      <td>0.493900</td>\n",
       "    </tr>\n",
       "    <tr>\n",
       "      <th>3</th>\n",
       "      <td>36.762997</td>\n",
       "      <td>0.005414</td>\n",
       "      <td>0.000000</td>\n",
       "      <td>0.852500</td>\n",
       "      <td>0.147500</td>\n",
       "      <td>0.681250</td>\n",
       "    </tr>\n",
       "    <tr>\n",
       "      <th>4</th>\n",
       "      <td>36.943760</td>\n",
       "      <td>0.004917</td>\n",
       "      <td>0.051000</td>\n",
       "      <td>0.823000</td>\n",
       "      <td>0.126000</td>\n",
       "      <td>0.226300</td>\n",
       "    </tr>\n",
       "    <tr>\n",
       "      <th>...</th>\n",
       "      <td>...</td>\n",
       "      <td>...</td>\n",
       "      <td>...</td>\n",
       "      <td>...</td>\n",
       "      <td>...</td>\n",
       "      <td>...</td>\n",
       "    </tr>\n",
       "    <tr>\n",
       "      <th>542</th>\n",
       "      <td>51.400002</td>\n",
       "      <td>-0.006187</td>\n",
       "      <td>0.057240</td>\n",
       "      <td>0.871200</td>\n",
       "      <td>0.071560</td>\n",
       "      <td>0.055484</td>\n",
       "    </tr>\n",
       "    <tr>\n",
       "      <th>543</th>\n",
       "      <td>52.080002</td>\n",
       "      <td>0.013230</td>\n",
       "      <td>0.010294</td>\n",
       "      <td>0.931176</td>\n",
       "      <td>0.058529</td>\n",
       "      <td>0.113129</td>\n",
       "    </tr>\n",
       "    <tr>\n",
       "      <th>544</th>\n",
       "      <td>52.779999</td>\n",
       "      <td>0.013441</td>\n",
       "      <td>0.049933</td>\n",
       "      <td>0.785667</td>\n",
       "      <td>0.164333</td>\n",
       "      <td>0.286420</td>\n",
       "    </tr>\n",
       "    <tr>\n",
       "      <th>545</th>\n",
       "      <td>55.200001</td>\n",
       "      <td>0.045851</td>\n",
       "      <td>0.095000</td>\n",
       "      <td>0.818400</td>\n",
       "      <td>0.087000</td>\n",
       "      <td>0.048780</td>\n",
       "    </tr>\n",
       "    <tr>\n",
       "      <th>546</th>\n",
       "      <td>55.540001</td>\n",
       "      <td>0.006159</td>\n",
       "      <td>0.010375</td>\n",
       "      <td>0.887125</td>\n",
       "      <td>0.102500</td>\n",
       "      <td>0.151312</td>\n",
       "    </tr>\n",
       "  </tbody>\n",
       "</table>\n",
       "<p>547 rows × 6 columns</p>\n",
       "</div>"
      ],
      "text/plain": [
       "     Adj Close  Daily Return       neg       neu       pos  compound\n",
       "0    36.083004      0.009634  0.000000  0.853000  0.147000  0.845600\n",
       "1    36.349834      0.007395  0.123000  0.829000  0.048000 -0.624000\n",
       "2    36.565018      0.005920  0.000000  0.943000  0.057000  0.493900\n",
       "3    36.762997      0.005414  0.000000  0.852500  0.147500  0.681250\n",
       "4    36.943760      0.004917  0.051000  0.823000  0.126000  0.226300\n",
       "..         ...           ...       ...       ...       ...       ...\n",
       "542  51.400002     -0.006187  0.057240  0.871200  0.071560  0.055484\n",
       "543  52.080002      0.013230  0.010294  0.931176  0.058529  0.113129\n",
       "544  52.779999      0.013441  0.049933  0.785667  0.164333  0.286420\n",
       "545  55.200001      0.045851  0.095000  0.818400  0.087000  0.048780\n",
       "546  55.540001      0.006159  0.010375  0.887125  0.102500  0.151312\n",
       "\n",
       "[547 rows x 6 columns]"
      ]
     },
     "execution_count": 71,
     "metadata": {},
     "output_type": "execute_result"
    }
   ],
   "source": [
    "train_df"
   ]
  },
  {
   "cell_type": "code",
   "execution_count": 72,
   "metadata": {
    "cell_id": "00019-36fa5a3d-7367-4f99-9073-8ce4d1a434fb",
    "deepnote_cell_type": "code",
    "deepnote_to_be_reexecuted": false,
    "execution_millis": 17,
    "execution_start": 1640010997709,
    "source_hash": "4dcfbc94",
    "tags": []
   },
   "outputs": [
    {
     "name": "stdout",
     "output_type": "stream",
     "text": [
      "FEATURE LIST\n",
      "['Adj Close', 'Daily Return', 'neg', 'neu', 'pos', 'compound']\n"
     ]
    }
   ],
   "source": [
    "# List of considered Features\n",
    "FEATURES = Feature\n",
    "print('FEATURE LIST')\n",
    "print([f for f in FEATURES])\n",
    "\n",
    "# Create the dataset with features and filter the data to the list of FEATURES\n",
    "data = pd.DataFrame(train_df)\n",
    "data_filtered = data[FEATURES]\n",
    "\n",
    "# We add a prediction column and set dummy values to prepare the data for scaling\n",
    "data_filtered_ext = data_filtered.copy()\n",
    "data_filtered_ext['Prediction'] = data_filtered_ext[Predict_variable]"
   ]
  },
  {
   "cell_type": "markdown",
   "metadata": {
    "cell_id": "00020-e99d890f-0624-4d4b-8500-b798a3588699",
    "deepnote_cell_type": "markdown",
    "tags": []
   },
   "source": [
    "next the data is scaled meaning variables on different scales are transformed into the same - making it easier for the model. MinMaxScaler is used to scale between 0 and 1."
   ]
  },
  {
   "cell_type": "code",
   "execution_count": 73,
   "metadata": {
    "cell_id": "00021-58ea92a9-d65f-4ffc-8f1a-ebf95b3b00b5",
    "deepnote_cell_type": "code",
    "deepnote_to_be_reexecuted": false,
    "execution_millis": 47,
    "execution_start": 1640010997758,
    "source_hash": "ed833b77",
    "tags": []
   },
   "outputs": [
    {
     "name": "stdout",
     "output_type": "stream",
     "text": [
      "(547, 6)\n"
     ]
    }
   ],
   "source": [
    "# Get the number of rows in the data\n",
    "nrows = data_filtered.shape[0]\n",
    "\n",
    "# Convert the data to numpy values\n",
    "np_data_unscaled = np.array(data_filtered)\n",
    "np_data = np.reshape(np_data_unscaled, (nrows, -1))\n",
    "print(np_data.shape)\n",
    "\n",
    "# Transform the data by scaling each feature to a range between 0 and 1\n",
    "scaler = MinMaxScaler()\n",
    "np_data_scaled = scaler.fit_transform(np_data_unscaled)\n",
    "\n",
    "# Creating a separate scaler that works on a single column for scaling predictions\n",
    "scaler_pred = MinMaxScaler()\n",
    "df_Close = pd.DataFrame(data_filtered_ext[Predict_variable])\n",
    "np_Close_scaled = scaler_pred.fit_transform(df_Close)"
   ]
  },
  {
   "cell_type": "markdown",
   "metadata": {
    "cell_id": "00022-8f84e8de-e7cb-4544-a85e-155d31483d1b",
    "deepnote_cell_type": "text-cell-h1",
    "is_collapsed": false,
    "tags": []
   },
   "source": [
    "# Step 4 Transforming the Data"
   ]
  },
  {
   "cell_type": "markdown",
   "metadata": {
    "cell_id": "00023-ba64b4e1-27cb-4a58-b508-fcbcbab8d603",
    "deepnote_cell_type": "markdown",
    "tags": []
   },
   "source": [
    "The data needs to be transformed because the model ues three-dimensional datastructure: sequences, time steps and number of features. \n",
    "The data has also been split into a 80% train-set and 20%-test-set. "
   ]
  },
  {
   "cell_type": "code",
   "execution_count": 74,
   "metadata": {
    "cell_id": "00024-6700eae0-078f-42f2-9517-f239ed3d959e",
    "deepnote_cell_type": "code",
    "deepnote_output_heights": [
     328.328125
    ],
    "deepnote_to_be_reexecuted": false,
    "execution_millis": 53,
    "execution_start": 1640010997803,
    "source_hash": "fd17a703",
    "tags": []
   },
   "outputs": [
    {
     "name": "stdout",
     "output_type": "stream",
     "text": [
      "(408, 30, 6) (408,)\n",
      "(109, 30, 6) (109,)\n",
      "0.4495637503842101\n",
      "0.4495637503842101\n"
     ]
    }
   ],
   "source": [
    "# Set the sequence length - this is the timeframe used to make a single prediction\n",
    "sequence_length = timeseries\n",
    "\n",
    "# Prediction Index\n",
    "index_Close = data.columns.get_loc(Predict_variable)\n",
    "\n",
    "# Split the training data into train and train data sets\n",
    "# As a first step, we get the number of rows to train the model on 80% of the data \n",
    "train_data_len = math.ceil(np_data_scaled.shape[0] * 0.8)\n",
    "\n",
    "# Create the training and test data\n",
    "train_data = np_data_scaled[0:train_data_len, :]\n",
    "test_data = np_data_scaled[train_data_len - sequence_length:, :]\n",
    "\n",
    "# The RNN needs data with the format of [samples, time steps, features]\n",
    "# Here, we create N samples, sequence_length time steps per sample, and 6 features\n",
    "def partition_dataset(sequence_length, data):\n",
    "    x, y = [], []\n",
    "    data_len = data.shape[0]\n",
    "    for i in range(sequence_length, data_len):\n",
    "        x.append(data[i-sequence_length:i,:]) #contains sequence_length values 0-sequence_length * columsn\n",
    "        y.append(data[i, index_Close]) #contains the prediction values for validation,  for single-step prediction\n",
    "    \n",
    "    # Convert the x and y to numpy arrays\n",
    "    x = np.array(x)\n",
    "    y = np.array(y)\n",
    "    return x, y\n",
    "# Generate training data and test data\n",
    "x_train, y_train = partition_dataset(sequence_length, train_data)\n",
    "x_test, y_test = partition_dataset(sequence_length, test_data)\n",
    "\n",
    "# Print the shapes: the result is: (rows, training_sequence, features) (prediction value, )\n",
    "print(x_train.shape, y_train.shape)\n",
    "print(x_test.shape, y_test.shape)\n",
    "\n",
    "# Validate that the prediction value and the input match up\n",
    "# The last close price of the second input sample should equal the first prediction value\n",
    "print(x_train[1][sequence_length-1][index_Close])\n",
    "print(y_train[0])"
   ]
  },
  {
   "cell_type": "markdown",
   "metadata": {
    "cell_id": "00025-c772edea-9589-4fc3-a462-6db2ae3a4f2f",
    "deepnote_cell_type": "text-cell-h1",
    "is_collapsed": false,
    "tags": []
   },
   "source": [
    "# Step 5 Train the Multivariate Prediction Model"
   ]
  },
  {
   "cell_type": "markdown",
   "metadata": {
    "cell_id": "00026-d25a2252-be47-4937-8a48-bf955cf32ecd",
    "deepnote_cell_type": "markdown",
    "tags": []
   },
   "source": [
    "Next step is to prepare and train the model. \n",
    "first we initialize a sequential model, which is a stack of layers model, that uses 50 observations to predict the 51th observation.\n"
   ]
  },
  {
   "cell_type": "markdown",
   "metadata": {
    "cell_id": "00027-99c87811-3a73-4c3d-9a22-4b348969fd3e",
    "deepnote_cell_type": "markdown",
    "tags": []
   },
   "source": [
    "Next "
   ]
  },
  {
   "cell_type": "code",
   "execution_count": 75,
   "metadata": {
    "cell_id": "00028-72613f7c-f1ea-4c24-8c58-b4e18d9cee0d",
    "deepnote_cell_type": "code",
    "deepnote_to_be_reexecuted": false,
    "execution_millis": 1281,
    "execution_start": 1640010997881,
    "source_hash": "c5972b97",
    "tags": []
   },
   "outputs": [
    {
     "name": "stdout",
     "output_type": "stream",
     "text": [
      "180 30 6\n"
     ]
    }
   ],
   "source": [
    "# Configure the neural network model\n",
    "model = Sequential()\n",
    "\n",
    "# Model with n_neurons = inputshape Timestamps, each with x_train.shape[2] variables\n",
    "n_neurons = x_train.shape[1] * x_train.shape[2]\n",
    "print(n_neurons, x_train.shape[1], x_train.shape[2])\n",
    "model.add(LSTM(n_neurons, return_sequences=True, input_shape=(x_train.shape[1], x_train.shape[2]))) \n",
    "model.add(Dropout(0.2))\n",
    "model.add(LSTM(n_neurons, return_sequences=False))\n",
    "model.add(Dense(50))\n",
    "model.add(Dropout(0.2))\n",
    "model.add(Dense(1))\n",
    "\n",
    "# Compile the model\n",
    "model.compile(optimizer='adam', loss='mse')"
   ]
  },
  {
   "cell_type": "code",
   "execution_count": 76,
   "metadata": {
    "cell_id": "00029-4ef2a546-0d89-43a6-88b0-ead6739dc6ae",
    "deepnote_cell_type": "code",
    "deepnote_to_be_reexecuted": false,
    "execution_millis": 11,
    "execution_start": 1640010999178,
    "source_hash": "4e6a3b95",
    "tags": []
   },
   "outputs": [
    {
     "name": "stdout",
     "output_type": "stream",
     "text": [
      "Model: \"sequential_4\"\n",
      "_________________________________________________________________\n",
      " Layer (type)                Output Shape              Param #   \n",
      "=================================================================\n",
      " lstm_8 (LSTM)               (None, 30, 180)           134640    \n",
      "                                                                 \n",
      " dropout_8 (Dropout)         (None, 30, 180)           0         \n",
      "                                                                 \n",
      " lstm_9 (LSTM)               (None, 180)               259920    \n",
      "                                                                 \n",
      " dense_8 (Dense)             (None, 50)                9050      \n",
      "                                                                 \n",
      " dropout_9 (Dropout)         (None, 50)                0         \n",
      "                                                                 \n",
      " dense_9 (Dense)             (None, 1)                 51        \n",
      "                                                                 \n",
      "=================================================================\n",
      "Total params: 403,661\n",
      "Trainable params: 403,661\n",
      "Non-trainable params: 0\n",
      "_________________________________________________________________\n"
     ]
    }
   ],
   "source": [
    "model.summary()"
   ]
  },
  {
   "cell_type": "markdown",
   "metadata": {
    "cell_id": "00030-d1592ade-248f-4630-a287-3e51b024dd01",
    "deepnote_cell_type": "markdown",
    "tags": []
   },
   "source": [
    "Next the model is trained, by running a number of epochs:"
   ]
  },
  {
   "cell_type": "code",
   "execution_count": 77,
   "metadata": {
    "cell_id": "00031-53bf2026-117a-4786-bffc-a8800570b96a",
    "deepnote_cell_type": "code",
    "deepnote_to_be_reexecuted": false,
    "execution_millis": 156831,
    "execution_start": 1640010999200,
    "source_hash": "d2034093",
    "tags": []
   },
   "outputs": [
    {
     "name": "stdout",
     "output_type": "stream",
     "text": [
      "Epoch 1/1000\n",
      "4/4 [==============================] - 3s 192ms/step - loss: 0.0820 - val_loss: 0.0127\n",
      "Epoch 2/1000\n",
      "4/4 [==============================] - 0s 18ms/step - loss: 0.0236 - val_loss: 0.0130\n",
      "Epoch 3/1000\n",
      "4/4 [==============================] - 0s 18ms/step - loss: 0.0132 - val_loss: 0.0218\n",
      "Epoch 4/1000\n",
      "4/4 [==============================] - 0s 18ms/step - loss: 0.0130 - val_loss: 0.0127\n",
      "Epoch 5/1000\n",
      "4/4 [==============================] - 0s 17ms/step - loss: 0.0130 - val_loss: 0.0130\n",
      "Epoch 6/1000\n",
      "4/4 [==============================] - 0s 16ms/step - loss: 0.0113 - val_loss: 0.0145\n",
      "Epoch 7/1000\n",
      "4/4 [==============================] - 0s 18ms/step - loss: 0.0126 - val_loss: 0.0124\n",
      "Epoch 8/1000\n",
      "4/4 [==============================] - 0s 18ms/step - loss: 0.0107 - val_loss: 0.0129\n",
      "Epoch 9/1000\n",
      "4/4 [==============================] - 0s 18ms/step - loss: 0.0105 - val_loss: 0.0121\n",
      "Epoch 10/1000\n",
      "4/4 [==============================] - 0s 16ms/step - loss: 0.0111 - val_loss: 0.0122\n",
      "Epoch 11/1000\n",
      "4/4 [==============================] - 0s 19ms/step - loss: 0.0103 - val_loss: 0.0128\n",
      "Epoch 12/1000\n",
      "4/4 [==============================] - 0s 18ms/step - loss: 0.0106 - val_loss: 0.0131\n",
      "Epoch 13/1000\n",
      "4/4 [==============================] - 0s 18ms/step - loss: 0.0096 - val_loss: 0.0120\n",
      "Epoch 14/1000\n",
      "4/4 [==============================] - 0s 17ms/step - loss: 0.0105 - val_loss: 0.0136\n",
      "Epoch 15/1000\n",
      "4/4 [==============================] - 0s 16ms/step - loss: 0.0104 - val_loss: 0.0132\n",
      "Epoch 16/1000\n",
      "4/4 [==============================] - 0s 16ms/step - loss: 0.0107 - val_loss: 0.0131\n",
      "Epoch 17/1000\n",
      "4/4 [==============================] - 0s 15ms/step - loss: 0.0104 - val_loss: 0.0140\n",
      "Epoch 18/1000\n",
      "4/4 [==============================] - 0s 17ms/step - loss: 0.0107 - val_loss: 0.0131\n",
      "Epoch 19/1000\n",
      "4/4 [==============================] - 0s 17ms/step - loss: 0.0103 - val_loss: 0.0151\n",
      "Epoch 20/1000\n",
      "4/4 [==============================] - 0s 16ms/step - loss: 0.0106 - val_loss: 0.0140\n",
      "Epoch 21/1000\n",
      "4/4 [==============================] - 0s 17ms/step - loss: 0.0105 - val_loss: 0.0132\n",
      "Epoch 22/1000\n",
      "4/4 [==============================] - 0s 18ms/step - loss: 0.0108 - val_loss: 0.0160\n",
      "Epoch 23/1000\n",
      "4/4 [==============================] - 0s 14ms/step - loss: 0.0102 - val_loss: 0.0140\n",
      "Epoch 24/1000\n",
      "4/4 [==============================] - 0s 16ms/step - loss: 0.0100 - val_loss: 0.0144\n",
      "Epoch 25/1000\n",
      "4/4 [==============================] - 0s 15ms/step - loss: 0.0094 - val_loss: 0.0150\n",
      "Epoch 26/1000\n",
      "4/4 [==============================] - 0s 17ms/step - loss: 0.0101 - val_loss: 0.0131\n",
      "Epoch 27/1000\n",
      "4/4 [==============================] - 0s 17ms/step - loss: 0.0101 - val_loss: 0.0140\n",
      "Epoch 28/1000\n",
      "4/4 [==============================] - 0s 16ms/step - loss: 0.0101 - val_loss: 0.0141\n",
      "Epoch 29/1000\n",
      "4/4 [==============================] - 0s 15ms/step - loss: 0.0102 - val_loss: 0.0134\n",
      "Epoch 30/1000\n",
      "4/4 [==============================] - 0s 21ms/step - loss: 0.0104 - val_loss: 0.0170\n",
      "Epoch 31/1000\n",
      "4/4 [==============================] - 0s 15ms/step - loss: 0.0113 - val_loss: 0.0136\n",
      "Epoch 32/1000\n",
      "4/4 [==============================] - 0s 15ms/step - loss: 0.0105 - val_loss: 0.0124\n",
      "Epoch 33/1000\n",
      "4/4 [==============================] - 0s 15ms/step - loss: 0.0103 - val_loss: 0.0164\n",
      "Epoch 34/1000\n",
      "4/4 [==============================] - 0s 15ms/step - loss: 0.0107 - val_loss: 0.0132\n",
      "Epoch 35/1000\n",
      "4/4 [==============================] - 0s 17ms/step - loss: 0.0101 - val_loss: 0.0123\n",
      "Epoch 36/1000\n",
      "4/4 [==============================] - 0s 15ms/step - loss: 0.0103 - val_loss: 0.0148\n",
      "Epoch 37/1000\n",
      "4/4 [==============================] - 0s 15ms/step - loss: 0.0107 - val_loss: 0.0130\n",
      "Epoch 38/1000\n",
      "4/4 [==============================] - 0s 16ms/step - loss: 0.0099 - val_loss: 0.0122\n",
      "Epoch 39/1000\n",
      "4/4 [==============================] - 0s 15ms/step - loss: 0.0100 - val_loss: 0.0137\n",
      "Epoch 40/1000\n",
      "4/4 [==============================] - 0s 17ms/step - loss: 0.0106 - val_loss: 0.0125\n",
      "Epoch 41/1000\n",
      "4/4 [==============================] - 0s 14ms/step - loss: 0.0111 - val_loss: 0.0120\n",
      "Epoch 42/1000\n",
      "4/4 [==============================] - 0s 17ms/step - loss: 0.0105 - val_loss: 0.0146\n",
      "Epoch 43/1000\n",
      "4/4 [==============================] - 0s 16ms/step - loss: 0.0109 - val_loss: 0.0128\n",
      "Epoch 44/1000\n",
      "4/4 [==============================] - 0s 17ms/step - loss: 0.0105 - val_loss: 0.0122\n",
      "Epoch 45/1000\n",
      "4/4 [==============================] - 0s 16ms/step - loss: 0.0105 - val_loss: 0.0135\n",
      "Epoch 46/1000\n",
      "4/4 [==============================] - 0s 16ms/step - loss: 0.0102 - val_loss: 0.0130\n",
      "Epoch 47/1000\n",
      "4/4 [==============================] - 0s 15ms/step - loss: 0.0100 - val_loss: 0.0122\n",
      "Epoch 48/1000\n",
      "4/4 [==============================] - 0s 17ms/step - loss: 0.0109 - val_loss: 0.0145\n",
      "Epoch 49/1000\n",
      "4/4 [==============================] - 0s 14ms/step - loss: 0.0112 - val_loss: 0.0165\n",
      "Epoch 50/1000\n",
      "4/4 [==============================] - 0s 16ms/step - loss: 0.0108 - val_loss: 0.0125\n",
      "Epoch 51/1000\n",
      "4/4 [==============================] - 0s 16ms/step - loss: 0.0104 - val_loss: 0.0159\n",
      "Epoch 52/1000\n",
      "4/4 [==============================] - 0s 23ms/step - loss: 0.0095 - val_loss: 0.0135\n",
      "Epoch 53/1000\n",
      "4/4 [==============================] - 0s 17ms/step - loss: 0.0106 - val_loss: 0.0144\n",
      "Epoch 54/1000\n",
      "4/4 [==============================] - 0s 17ms/step - loss: 0.0098 - val_loss: 0.0152\n",
      "Epoch 55/1000\n",
      "4/4 [==============================] - 0s 16ms/step - loss: 0.0108 - val_loss: 0.0146\n",
      "Epoch 56/1000\n",
      "4/4 [==============================] - 0s 16ms/step - loss: 0.0109 - val_loss: 0.0147\n",
      "Epoch 57/1000\n",
      "4/4 [==============================] - 0s 17ms/step - loss: 0.0107 - val_loss: 0.0129\n",
      "Epoch 58/1000\n",
      "4/4 [==============================] - 0s 16ms/step - loss: 0.0107 - val_loss: 0.0158\n",
      "Epoch 59/1000\n",
      "4/4 [==============================] - 0s 19ms/step - loss: 0.0105 - val_loss: 0.0131\n",
      "Epoch 60/1000\n",
      "4/4 [==============================] - 0s 17ms/step - loss: 0.0099 - val_loss: 0.0156\n",
      "Epoch 61/1000\n",
      "4/4 [==============================] - 0s 18ms/step - loss: 0.0106 - val_loss: 0.0135\n",
      "Epoch 62/1000\n",
      "4/4 [==============================] - 0s 19ms/step - loss: 0.0107 - val_loss: 0.0139\n",
      "Epoch 63/1000\n",
      "4/4 [==============================] - 0s 20ms/step - loss: 0.0107 - val_loss: 0.0151\n",
      "Epoch 64/1000\n",
      "4/4 [==============================] - 0s 18ms/step - loss: 0.0098 - val_loss: 0.0124\n",
      "Epoch 65/1000\n",
      "4/4 [==============================] - 0s 16ms/step - loss: 0.0111 - val_loss: 0.0162\n",
      "Epoch 66/1000\n",
      "4/4 [==============================] - 0s 19ms/step - loss: 0.0103 - val_loss: 0.0130\n",
      "Epoch 67/1000\n",
      "4/4 [==============================] - 0s 16ms/step - loss: 0.0102 - val_loss: 0.0128\n",
      "Epoch 68/1000\n",
      "4/4 [==============================] - 0s 17ms/step - loss: 0.0103 - val_loss: 0.0146\n",
      "Epoch 69/1000\n",
      "4/4 [==============================] - 0s 16ms/step - loss: 0.0099 - val_loss: 0.0136\n",
      "Epoch 70/1000\n",
      "4/4 [==============================] - 0s 17ms/step - loss: 0.0104 - val_loss: 0.0139\n",
      "Epoch 71/1000\n",
      "4/4 [==============================] - 0s 16ms/step - loss: 0.0101 - val_loss: 0.0124\n",
      "Epoch 72/1000\n",
      "4/4 [==============================] - 0s 16ms/step - loss: 0.0104 - val_loss: 0.0134\n",
      "Epoch 73/1000\n",
      "4/4 [==============================] - 0s 23ms/step - loss: 0.0098 - val_loss: 0.0140\n",
      "Epoch 74/1000\n",
      "4/4 [==============================] - 0s 19ms/step - loss: 0.0105 - val_loss: 0.0130\n",
      "Epoch 75/1000\n",
      "4/4 [==============================] - 0s 17ms/step - loss: 0.0106 - val_loss: 0.0161\n",
      "Epoch 76/1000\n",
      "4/4 [==============================] - 0s 19ms/step - loss: 0.0099 - val_loss: 0.0132\n",
      "Epoch 77/1000\n",
      "4/4 [==============================] - 0s 17ms/step - loss: 0.0104 - val_loss: 0.0147\n",
      "Epoch 78/1000\n",
      "4/4 [==============================] - 0s 18ms/step - loss: 0.0101 - val_loss: 0.0145\n",
      "Epoch 79/1000\n",
      "4/4 [==============================] - 0s 17ms/step - loss: 0.0100 - val_loss: 0.0137\n",
      "Epoch 80/1000\n",
      "4/4 [==============================] - 0s 17ms/step - loss: 0.0103 - val_loss: 0.0156\n",
      "Epoch 81/1000\n",
      "4/4 [==============================] - 0s 24ms/step - loss: 0.0102 - val_loss: 0.0132\n",
      "Epoch 82/1000\n",
      "4/4 [==============================] - 0s 25ms/step - loss: 0.0099 - val_loss: 0.0148\n",
      "Epoch 83/1000\n",
      "4/4 [==============================] - 0s 17ms/step - loss: 0.0106 - val_loss: 0.0134\n",
      "Epoch 84/1000\n",
      "4/4 [==============================] - 0s 15ms/step - loss: 0.0101 - val_loss: 0.0136\n",
      "Epoch 85/1000\n",
      "4/4 [==============================] - 0s 16ms/step - loss: 0.0096 - val_loss: 0.0160\n",
      "Epoch 86/1000\n",
      "4/4 [==============================] - 0s 15ms/step - loss: 0.0102 - val_loss: 0.0148\n",
      "Epoch 87/1000\n",
      "4/4 [==============================] - 0s 16ms/step - loss: 0.0100 - val_loss: 0.0135\n",
      "Epoch 88/1000\n",
      "4/4 [==============================] - 0s 15ms/step - loss: 0.0103 - val_loss: 0.0152\n",
      "Epoch 89/1000\n",
      "4/4 [==============================] - 0s 15ms/step - loss: 0.0105 - val_loss: 0.0146\n",
      "Epoch 90/1000\n",
      "4/4 [==============================] - 0s 16ms/step - loss: 0.0096 - val_loss: 0.0149\n",
      "Epoch 91/1000\n",
      "4/4 [==============================] - 0s 17ms/step - loss: 0.0104 - val_loss: 0.0158\n",
      "Epoch 92/1000\n",
      "4/4 [==============================] - 0s 18ms/step - loss: 0.0108 - val_loss: 0.0138\n",
      "Epoch 93/1000\n",
      "4/4 [==============================] - 0s 21ms/step - loss: 0.0105 - val_loss: 0.0171\n",
      "Epoch 94/1000\n",
      "4/4 [==============================] - 0s 19ms/step - loss: 0.0105 - val_loss: 0.0126\n",
      "Epoch 95/1000\n",
      "4/4 [==============================] - 0s 19ms/step - loss: 0.0099 - val_loss: 0.0155\n",
      "Epoch 96/1000\n",
      "4/4 [==============================] - 0s 16ms/step - loss: 0.0105 - val_loss: 0.0151\n",
      "Epoch 97/1000\n",
      "4/4 [==============================] - 0s 16ms/step - loss: 0.0097 - val_loss: 0.0128\n",
      "Epoch 98/1000\n",
      "4/4 [==============================] - 0s 16ms/step - loss: 0.0095 - val_loss: 0.0136\n",
      "Epoch 99/1000\n",
      "4/4 [==============================] - 0s 15ms/step - loss: 0.0098 - val_loss: 0.0138\n",
      "Epoch 100/1000\n",
      "4/4 [==============================] - 0s 16ms/step - loss: 0.0101 - val_loss: 0.0138\n",
      "Epoch 101/1000\n",
      "4/4 [==============================] - 0s 14ms/step - loss: 0.0093 - val_loss: 0.0147\n",
      "Epoch 102/1000\n",
      "4/4 [==============================] - 0s 16ms/step - loss: 0.0101 - val_loss: 0.0134\n",
      "Epoch 103/1000\n",
      "4/4 [==============================] - 0s 16ms/step - loss: 0.0093 - val_loss: 0.0129\n",
      "Epoch 104/1000\n",
      "4/4 [==============================] - 0s 16ms/step - loss: 0.0107 - val_loss: 0.0167\n",
      "Epoch 105/1000\n",
      "4/4 [==============================] - 0s 18ms/step - loss: 0.0106 - val_loss: 0.0127\n",
      "Epoch 106/1000\n",
      "4/4 [==============================] - 0s 16ms/step - loss: 0.0099 - val_loss: 0.0135\n",
      "Epoch 107/1000\n",
      "4/4 [==============================] - 0s 16ms/step - loss: 0.0093 - val_loss: 0.0141\n",
      "Epoch 108/1000\n",
      "4/4 [==============================] - 0s 16ms/step - loss: 0.0099 - val_loss: 0.0141\n",
      "Epoch 109/1000\n",
      "4/4 [==============================] - 0s 15ms/step - loss: 0.0097 - val_loss: 0.0132\n",
      "Epoch 110/1000\n",
      "4/4 [==============================] - 0s 14ms/step - loss: 0.0101 - val_loss: 0.0143\n",
      "Epoch 111/1000\n",
      "4/4 [==============================] - 0s 15ms/step - loss: 0.0104 - val_loss: 0.0132\n",
      "Epoch 112/1000\n",
      "4/4 [==============================] - 0s 17ms/step - loss: 0.0099 - val_loss: 0.0138\n",
      "Epoch 113/1000\n",
      "1/4 [======>.......................] - ETA: 0s - loss: 0.0073Restoring model weights from the end of the best epoch: 13.\n",
      "4/4 [==============================] - 0s 18ms/step - loss: 0.0100 - val_loss: 0.0136\n",
      "Epoch 00113: early stopping\n"
     ]
    }
   ],
   "source": [
    "# Training the model\n",
    "epochs = 1000\n",
    "batch_size = 128\n",
    "early_stop = EarlyStopping(monitor='val_loss', min_delta=1e-6, patience=100, \n",
    "        verbose=1, mode='auto', restore_best_weights=True)\n",
    "history = model.fit(x_train, y_train, \n",
    "                    batch_size=batch_size, \n",
    "                    epochs=epochs,\n",
    "                    validation_data=(x_test, y_test), \n",
    "                    callbacks=[early_stop])"
   ]
  },
  {
   "cell_type": "code",
   "execution_count": 78,
   "metadata": {
    "cell_id": "00032-ba952b67-981b-45f3-bf06-3340c3b2819b",
    "deepnote_cell_type": "code",
    "deepnote_output_heights": [
     446.96875
    ],
    "deepnote_to_be_reexecuted": false,
    "execution_millis": 523,
    "execution_start": 1640011156065,
    "source_hash": "39ad2392",
    "tags": []
   },
   "outputs": [
    {
     "data": {
      "image/png": "[encoded data removed]",
      "text/plain": [
       "<Figure size 720x504 with 1 Axes>"
      ]
     },
     "metadata": {},
     "output_type": "display_data"
    }
   ],
   "source": [
    "epoch = len(history.history['loss'])\n",
    "#Plotting the results\n",
    "loss_train = history.history['loss']\n",
    "loss_val = history.history['val_loss']\n",
    "epochs = range(0,epoch)\n",
    "plt.figure(figsize = (10,7))\n",
    "plt.plot(epochs, loss_train, color=\"black\", label='Training loss')\n",
    "plt.plot(epochs, loss_val, color=\"red\", label='validation loss')\n",
    "plt.title('Training and Validation loss')\n",
    "plt.xlabel('Epochs')\n",
    "plt.ylabel('Loss')\n",
    "plt.legend()\n",
    "plt.show()"
   ]
  },
  {
   "cell_type": "markdown",
   "metadata": {
    "cell_id": "00033-1c837332-c044-4234-b63c-63174c80eb3b",
    "deepnote_cell_type": "markdown",
    "tags": []
   },
   "source": [
    "We see that the loss curves drop and keep on dropping which means the model improves the more it is trained. "
   ]
  },
  {
   "cell_type": "markdown",
   "metadata": {
    "cell_id": "00034-96509a2a-8afe-495e-9a9b-a5cf5cbd5fca",
    "deepnote_cell_type": "text-cell-h1",
    "is_collapsed": false,
    "tags": []
   },
   "source": [
    "# Step 6 Evaluate Model Performance"
   ]
  },
  {
   "cell_type": "markdown",
   "metadata": {
    "cell_id": "00035-82775279-3553-435d-8fee-31e0499bfb34",
    "deepnote_cell_type": "markdown",
    "tags": []
   },
   "source": [
    "Next the model performance can be assesed after the predictions have been reversed-scaled to get it back to the original scale. "
   ]
  },
  {
   "cell_type": "code",
   "execution_count": 79,
   "metadata": {
    "cell_id": "00036-2cf11b80-de4e-48b5-bc56-715914a9420c",
    "deepnote_cell_type": "code",
    "deepnote_to_be_reexecuted": false,
    "execution_millis": 2705,
    "execution_start": 1640011156591,
    "source_hash": "9b48224e",
    "tags": []
   },
   "outputs": [
    {
     "name": "stdout",
     "output_type": "stream",
     "text": [
      "Mean Squared Error (MSE): 0.0\n",
      "Root Mean Absolute Error (RMSE): 0.11\n",
      "Mean Absolute Error (MAE): 0.01\n",
      "Mean Absolute Percentage Error (MAPE): inf %\n",
      "Median Absolute Percentage Error (MDAPE): 109.48 %\n",
      "R Squared (R2): 0.01\n"
     ]
    },
    {
     "name": "stderr",
     "output_type": "stream",
     "text": [
      "C:\\Users\\nixo_\\AppData\\Local\\Temp/ipykernel_6940/2825798527.py:22: RuntimeWarning: divide by zero encountered in true_divide\n",
      "  MAPE = np.mean((np.abs(np.subtract(y_test_unscaled, y_pred)/ y_test_unscaled))) * 100\n",
      "C:\\Users\\nixo_\\AppData\\Local\\Temp/ipykernel_6940/2825798527.py:26: RuntimeWarning: divide by zero encountered in true_divide\n",
      "  MDAPE = np.median((np.abs(np.subtract(y_test_unscaled, y_pred)/ y_test_unscaled)) ) * 100\n"
     ]
    }
   ],
   "source": [
    "# Get the predicted values\n",
    "y_pred_scaled = model.predict(x_test)\n",
    "\n",
    "# Unscale the predicted values\n",
    "y_pred = scaler_pred.inverse_transform(y_pred_scaled)\n",
    "y_test_unscaled = scaler_pred.inverse_transform(y_test.reshape(-1, 1))\n",
    "\n",
    "\n",
    "# Mean Squared Error (MSE)\n",
    "MSE = mean_squared_error(y_test_unscaled, y_pred)\n",
    "print(f'Mean Squared Error (MSE): {np.round(MSE, 2)}')\n",
    "\n",
    "#Root Mean Squared Error (RMSE)\n",
    "rmse = np.sqrt(np.mean(((y_pred_scaled - y_test)**2)))\n",
    "print(f'Root Mean Absolute Error (RMSE): {np.round(rmse, 2)}')\n",
    "\n",
    "# Mean Absolute Error (MAE)\n",
    "MAE = mean_absolute_error(y_test_unscaled, y_pred)\n",
    "print(f'Mean Absolute Error (MAE): {np.round(MAE, 2)}')\n",
    "\n",
    "# Mean Absolute Percentage Error (MAPE)\n",
    "MAPE = np.mean((np.abs(np.subtract(y_test_unscaled, y_pred)/ y_test_unscaled))) * 100\n",
    "print(f'Mean Absolute Percentage Error (MAPE): {np.round(MAPE, 2)} %')\n",
    "\n",
    "# Median Absolute Percentage Error (MDAPE)\n",
    "MDAPE = np.median((np.abs(np.subtract(y_test_unscaled, y_pred)/ y_test_unscaled)) ) * 100\n",
    "print(f'Median Absolute Percentage Error (MDAPE): {np.round(MDAPE, 2)} %')\n",
    "\n",
    "# R Squared (R2)\n",
    "R2 = r2_score(y_test_unscaled, y_pred)\n",
    "print(f'R Squared (R2): {np.round(R2, 2)}')"
   ]
  },
  {
   "cell_type": "markdown",
   "metadata": {
    "cell_id": "00037-c4b90182-4f38-4104-b08e-117b966f8543",
    "deepnote_cell_type": "markdown",
    "tags": []
   },
   "source": [
    "Mean absolute error shows how much our prediction on avarage differ from the actual values.\n",
    "\n",
    "* theese dont give much sense when working with %:\n",
    ">* MAPE is how much the mean of our predictions deviate from the actual value. \n",
    ">* MDAPE is how much the medium of our predictions eviate from the actural value. thereby 50% of the predictions deviate more than 49% from the actual and 50% deviate less than 49% from the acutals"
   ]
  },
  {
   "cell_type": "markdown",
   "metadata": {
    "cell_id": "00038-7284a445-af0b-4817-b1ac-b2c5251a3c43",
    "deepnote_cell_type": "markdown",
    "tags": []
   },
   "source": [
    "Next we plot the predicted vs. actual values and also the test values:"
   ]
  },
  {
   "cell_type": "code",
   "execution_count": 80,
   "metadata": {
    "cell_id": "00039-a06b28ab-9ebd-4cc2-a94d-4c929a0ac3fe",
    "deepnote_cell_type": "code",
    "deepnote_output_heights": [
     null,
     596.96875
    ],
    "deepnote_to_be_reexecuted": false,
    "execution_millis": 901,
    "execution_start": 1640011159321,
    "source_hash": "e5c6544f",
    "tags": []
   },
   "outputs": [
    {
     "name": "stderr",
     "output_type": "stream",
     "text": [
      "C:\\Users\\nixo_\\AppData\\Local\\Temp/ipykernel_6940/211775460.py:15: SettingWithCopyWarning: \n",
      "A value is trying to be set on a copy of a slice from a DataFrame.\n",
      "Try using .loc[row_indexer,col_indexer] = value instead\n",
      "\n",
      "See the caveats in the documentation: https://pandas.pydata.org/pandas-docs/stable/user_guide/indexing.html#returning-a-view-versus-a-copy\n",
      "  valid['Date'] = pd.to_datetime(valid['Date'])\n",
      "C:\\Users\\nixo_\\AppData\\Local\\Temp/ipykernel_6940/211775460.py:16: SettingWithCopyWarning: \n",
      "A value is trying to be set on a copy of a slice from a DataFrame.\n",
      "Try using .loc[row_indexer,col_indexer] = value instead\n",
      "\n",
      "See the caveats in the documentation: https://pandas.pydata.org/pandas-docs/stable/user_guide/indexing.html#returning-a-view-versus-a-copy\n",
      "  train['Date'] = pd.to_datetime(train['Date'])\n"
     ]
    },
    {
     "data": {
      "image/png": "[encoded data removed]",
      "text/plain": [
       "<Figure size 1584x720 with 1 Axes>"
      ]
     },
     "metadata": {},
     "output_type": "display_data"
    }
   ],
   "source": [
    "# The date from which on the date is displayed\n",
    "display_start_date = pd.Timestamp('today') - timedelta(days=400)\n",
    "\n",
    "# Add the date column\n",
    "data_filtered_sub = data_filtered.copy()\n",
    "data_filtered_sub['Date'] = date_index\n",
    "\n",
    "# Add the difference between the valid and predicted prices\n",
    "train = data_filtered_sub[:train_data_len + 1]\n",
    "valid = data_filtered_sub[train_data_len:]\n",
    "valid.insert(1, \"Prediction\", y_pred.ravel(), True)\n",
    "valid.insert(1, \"Difference\", valid[\"Prediction\"] - valid[Predict_variable], True)\n",
    "\n",
    "#Remove timezone\n",
    "valid['Date'] = pd.to_datetime(valid['Date'])\n",
    "train['Date'] = pd.to_datetime(train['Date'])\n",
    "\n",
    "\n",
    "# Zoom in to a closer timeframe\n",
    "valid = valid[valid['Date'] > display_start_date]\n",
    "train = train[train['Date'] > display_start_date]\n",
    "\n",
    "# Visualize the data\n",
    "fig, ax1 = plt.subplots(figsize=(22, 10), sharex=True)\n",
    "xt = train['Date']; yt = train[[Predict_variable]]\n",
    "xv = valid['Date']; yv = valid[[Predict_variable, \"Prediction\"]]\n",
    "plt.title(\"Predictions vs Actual Values\", fontsize=20)\n",
    "plt.ylabel(stockname, fontsize=18)\n",
    "plt.plot(xt, yt, color=\"#039dfc\", linewidth=2.0)\n",
    "plt.plot(xv, yv[\"Prediction\"], color=\"#E91D9E\", linewidth=2.0)\n",
    "plt.plot(xv, yv[Predict_variable], color=\"black\", linewidth=2.0)\n",
    "plt.legend([\"Train\", \"Test Predictions\", \"Actual Values\"], loc=\"upper left\")\n",
    "\n",
    "# # Create the bar plot with the differences\n",
    "x = valid['Date']\n",
    "y = valid[\"Difference\"]\n",
    "\n",
    "# Create custom color range for positive and negative differences\n",
    "valid.loc[y >= 0, 'diff_color'] = \"#2BC97A\"\n",
    "valid.loc[y < 0, 'diff_color'] = \"#C92B2B\"\n",
    "\n",
    "#Plotting the results\n",
    "#plt.bar(x, y, width=0.8, color=valid['diff_color'])\n",
    "plt.grid()\n",
    "plt.show()"
   ]
  },
  {
   "cell_type": "markdown",
   "metadata": {
    "cell_id": "00040-b435b572-2c8a-4c9c-bedd-def0183e56f4",
    "deepnote_cell_type": "markdown",
    "tags": []
   },
   "source": [
    "We see that the test prediction and the actual values follow eachother quite nice, indicating that the model does a ok job at predicting the stock price. \n",
    "In the next section a barplot is made, that shows the difference between predicted and actual stock prices."
   ]
  },
  {
   "cell_type": "code",
   "execution_count": 81,
   "metadata": {
    "cell_id": "00041-b5b47a18-f44e-497b-9683-a21172de2499",
    "deepnote_cell_type": "code",
    "deepnote_output_heights": [
     596.96875
    ],
    "deepnote_to_be_reexecuted": false,
    "execution_millis": 1140,
    "execution_start": 1640011160057,
    "source_hash": "13a52dc6",
    "tags": []
   },
   "outputs": [
    {
     "data": {
      "image/png": "[encoded data removed]",
      "text/plain": [
       "<Figure size 1584x720 with 1 Axes>"
      ]
     },
     "metadata": {},
     "output_type": "display_data"
    }
   ],
   "source": [
    "# Visualize the data\n",
    "fig, ax1 = plt.subplots(figsize=(22, 10), sharex=True)\n",
    "#xt = train['Date']; yt = train[[Predict_variable]]\n",
    "#xv = valid['Date']; yv = valid[[Predict_variable, \"Prediction\"]]\n",
    "plt.title(\"Predictions vs Actual Values\", fontsize=20)\n",
    "plt.ylabel(stockname, fontsize=18)\n",
    "#plt.plot(xt, yt, color=\"#039dfc\", linewidth=2.0)\n",
    "#plt.plot(xv, yv[\"Prediction\"], color=\"#E91D9E\", linewidth=2.0)\n",
    "#plt.plot(xv, yv[Predict_variable], color=\"black\", linewidth=2.0)\n",
    "plt.legend([\"Train\", \"Test Predictions\", \"Actual Values\"], loc=\"upper left\")\n",
    "# # Create the bar plot with the differences\n",
    "x = valid['Date']\n",
    "y = valid[\"Difference\"]\n",
    "\n",
    "# Create custom color range for positive and negative differences\n",
    "valid.loc[y >= 0, 'diff_color'] = \"#2BC97A\"\n",
    "valid.loc[y < 0, 'diff_color'] = \"#C92B2B\"\n",
    "\n",
    "#Plotting the results\n",
    "plt.bar(x, y, width=0.8, color=valid['diff_color'])\n",
    "plt.grid()\n",
    "plt.show()"
   ]
  },
  {
   "cell_type": "markdown",
   "metadata": {
    "cell_id": "00042-b6771dff-4ff7-4dff-9c78-907c2ba051bd",
    "deepnote_cell_type": "text-cell-h1",
    "is_collapsed": false,
    "tags": []
   },
   "source": [
    "# Step 7 Predict Next Day’s Price"
   ]
  },
  {
   "cell_type": "code",
   "execution_count": 82,
   "metadata": {
    "cell_id": "00043-e190453c-be4b-41b3-96bc-678a6cd5dba4",
    "deepnote_cell_type": "code",
    "deepnote_to_be_reexecuted": false,
    "execution_millis": 148,
    "execution_start": 1640011161208,
    "source_hash": "6dfdeea1",
    "tags": []
   },
   "outputs": [
    {
     "name": "stdout",
     "output_type": "stream",
     "text": [
      "The close price for Pfizer at 2022-01-03 08:25:24.612922 was 0.01%\n",
      "The predicted close price is 0.0%\n"
     ]
    },
    {
     "name": "stderr",
     "output_type": "stream",
     "text": [
      "C:\\Users\\nixo_\\AppData\\Local\\Temp/ipykernel_6940/2754855120.py:22: RuntimeWarning: divide by zero encountered in double_scalars\n",
      "  change_percent = np.round(100 - (price_today * 100)/predicted_price, 2)\n"
     ]
    }
   ],
   "source": [
    "df_temp = LSTM_df[-sequence_length:]\n",
    "new_df = df_temp.filter(FEATURES)\n",
    "stockname = 'Pfizer'\n",
    "today = dt.datetime.today() - timedelta(days=1)\n",
    "N = sequence_length\n",
    "\n",
    "# Get the last N day closing price values and scale the data to be values between 0 and 1\n",
    "last_N_days = new_df[-sequence_length:].values\n",
    "last_N_days_scaled = scaler.transform(last_N_days)\n",
    "\n",
    "# Create an empty list and Append past N days\n",
    "X_test_new = []\n",
    "X_test_new.append(last_N_days_scaled)\n",
    "\n",
    "# Convert the X_test data set to a numpy array and reshape the data\n",
    "pred_price_scaled = model.predict(np.array(X_test_new))\n",
    "pred_price_unscaled = scaler_pred.inverse_transform(pred_price_scaled.reshape(-1, 1))\n",
    "\n",
    "# Print last price and predicted price for the next day\n",
    "price_today = np.round(new_df[Predict_variable][-1], 2)\n",
    "predicted_price = np.round(pred_price_unscaled.ravel()[0], 2)\n",
    "change_percent = np.round(100 - (price_today * 100)/predicted_price, 2)\n",
    "\n",
    "plus = '+'; minus = ''\n",
    "print(f'The close price for {stockname} at {today} was {price_today}%')\n",
    "print(f'The predicted close price is {str(np.round(predicted_price, 3))}%')"
   ]
  },
  {
   "cell_type": "markdown",
   "metadata": {
    "cell_id": "00044-fd1c7944-dc44-4b5d-a8d3-21b06c319d90",
    "deepnote_cell_type": "text-cell-h1",
    "is_collapsed": false,
    "tags": []
   },
   "source": [
    "# Backtesting"
   ]
  },
  {
   "cell_type": "code",
   "execution_count": 83,
   "metadata": {
    "cell_id": "00045-21a23300-696c-428c-b34b-f9af90e09cd3",
    "deepnote_cell_type": "code",
    "deepnote_output_heights": [
     21.171875
    ]
   },
   "outputs": [
    {
     "data": {
      "text/plain": [
       "109"
      ]
     },
     "execution_count": 83,
     "metadata": {},
     "output_type": "execute_result"
    }
   ],
   "source": [
    "len(y_pred)"
   ]
  },
  {
   "cell_type": "code",
   "execution_count": 84,
   "metadata": {
    "cell_id": "00046-b0280455-5635-4977-8527-7a5542fba7d3",
    "deepnote_cell_type": "code",
    "deepnote_to_be_reexecuted": false,
    "execution_millis": 10,
    "execution_start": 1640011186654,
    "source_hash": "43e8938",
    "tags": []
   },
   "outputs": [
    {
     "name": "stdout",
     "output_type": "stream",
     "text": [
      "0.0007346579805016518\n",
      "0.004932135809212923\n"
     ]
    }
   ],
   "source": [
    "#y_pred_unscaled = scaler_pred.inverse_transform(y_pred)\n",
    "#x_test_unscaled = data_filtered.tail(len(y_pred_unscaled))\n",
    "x_test_unscaled = LSTM_df.tail(len(y_pred)).copy()\n",
    "#x_test_unscaled['Predict_close'] = x_test_unscaled.append(pd.DataFrame(y_pred))\n",
    "x_test_unscaled['Predict_close'] = y_pred\n",
    "print(x_test_unscaled.Predict_close.min())\n",
    "print(x_test_unscaled.Predict_close.max())\n",
    "x_test_unscaled.to_csv(\"I:\\python_file\\save\\M4 (1)\\LSTM Multi\\LSTM_raw_sent.csv\")"
   ]
  },
  {
   "cell_type": "markdown",
   "metadata": {
    "created_in_deepnote_cell": true,
    "deepnote_cell_type": "markdown",
    "tags": []
   },
   "source": [
    "<a style='text-decoration:none;line-height:16px;display:flex;color:#5B5B62;padding:10px;justify-content:end;' href='https://deepnote.com?utm_source=created-in-deepnote-cell&projectId=520f7743-fdb5-41d4-ba65-deb67c6338e8' target=\"_blank\">\n",
    "<img alt='Created in deepnote.com' style='display:inline;max-height:16px;margin:0px;margin-right:7.5px;' src='data:image/svg+xml;base64,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' > </img>\n",
    "Created in <span style='font-weight:600;margin-left:4px;'>Deepnote</span></a>"
   ]
  }
 ],
 "metadata": {
  "deepnote": {
   "is_reactive": false
  },
  "deepnote_execution_queue": [],
  "deepnote_notebook_id": "358ca05b-ce4a-484d-acdc-5d80c4b70f1d",
  "interpreter": {
   "hash": "5fcd9ef9a7fd07ed341f4b7d39229d44b8d65ab67020beddf48d9c8903096275"
  },
  "kernelspec": {
   "display_name": "Python 3.9.7 64-bit ('base': conda)",
   "language": "python",
   "name": "python3"
  },
  "language_info": {
   "codemirror_mode": {
    "name": "ipython",
    "version": 3
   },
   "file_extension": ".py",
   "mimetype": "text/x-python",
   "name": "python",
   "nbconvert_exporter": "python",
   "pygments_lexer": "ipython3",
   "version": "3.9.7"
  },
  "orig_nbformat": 2
 },
 "nbformat": 4,
 "nbformat_minor": 2
}
