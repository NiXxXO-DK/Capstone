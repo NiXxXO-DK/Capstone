{
 "cells": [
  {
   "cell_type": "markdown",
   "metadata": {
    "cell_id": "00000-6993513c-24dc-40ea-8ac5-3ed57a0ad6bb",
    "deepnote_cell_type": "text-cell-h1",
    "is_collapsed": false,
    "tags": []
   },
   "source": [
    "# Multivariate LSTM"
   ]
  },
  {
   "cell_type": "markdown",
   "metadata": {
    "cell_id": "00001-eedd91e6-2de5-498d-be1f-3301bba7e914",
    "deepnote_cell_type": "markdown",
    "tags": []
   },
   "source": [
    "A multivariate LSTM is used to predict the price of the stock in this section. In general stocks are highly affected by external factors and therefore this complexity is ignored when a regular LSTM model, that only takes previously stock-price, into account.\n",
    "Eventhough multivariate doesn't fully grasps the compleksity of this, it does a better job."
   ]
  },
  {
   "cell_type": "markdown",
   "metadata": {
    "cell_id": "00002-27f9b8c2-db88-406e-8267-5150b52f7144",
    "deepnote_cell_type": "text-cell-h1",
    "is_collapsed": false,
    "tags": []
   },
   "source": [
    "# Step1 loading and merging the timeseries data"
   ]
  },
  {
   "cell_type": "markdown",
   "metadata": {
    "cell_id": "00003-d7d48f83-553f-4f81-bdeb-6a07b474a2a3",
    "deepnote_cell_type": "markdown",
    "tags": []
   },
   "source": [
    "https://www.relataly.com/stock-market-prediction-using-multivariate-time-series-in-python/1815/#h-implementing-a-multivariate-time-series-prediction-model-in-python \n",
    "\n"
   ]
  },
  {
   "cell_type": "code",
   "execution_count": 2,
   "metadata": {
    "cell_id": "00004-2d2a6258-1e7b-41df-8349-ae7c6ada8946",
    "deepnote_cell_type": "code",
    "deepnote_to_be_reexecuted": false,
    "execution_millis": 3,
    "execution_start": 1640074215789,
    "source_hash": "f8803caa",
    "tags": []
   },
   "outputs": [],
   "source": [
    "#Import stuff\n",
    "import pandas as pd\n",
    "import numpy as np"
   ]
  },
  {
   "cell_type": "code",
   "execution_count": 3,
   "metadata": {
    "cell_id": "00006-4425f3c9-7cb4-4cba-a07c-5e219f331864",
    "deepnote_cell_type": "code",
    "deepnote_to_be_reexecuted": false,
    "execution_millis": 203,
    "execution_start": 1640074217865,
    "source_hash": "367ec1ef",
    "tags": []
   },
   "outputs": [],
   "source": [
    "#import input data\n",
    "stock = pd.read_csv(r\"I:\\python_file\\save\\M4 (1)\\Stock data\\Phizer.csv\", index_col=0)\n",
    "df_input = stock\n",
    "df_input = df_input[(df_input.index > '2019-06-01')]"
   ]
  },
  {
   "cell_type": "code",
   "execution_count": 4,
   "metadata": {},
   "outputs": [],
   "source": [
    "stock = stock.dropna()"
   ]
  },
  {
   "cell_type": "code",
   "execution_count": 5,
   "metadata": {},
   "outputs": [
    {
     "data": {
      "text/html": [
       "<div>\n",
       "<style scoped>\n",
       "    .dataframe tbody tr th:only-of-type {\n",
       "        vertical-align: middle;\n",
       "    }\n",
       "\n",
       "    .dataframe tbody tr th {\n",
       "        vertical-align: top;\n",
       "    }\n",
       "\n",
       "    .dataframe thead th {\n",
       "        text-align: right;\n",
       "    }\n",
       "</style>\n",
       "<table border=\"1\" class=\"dataframe\">\n",
       "  <thead>\n",
       "    <tr style=\"text-align: right;\">\n",
       "      <th></th>\n",
       "      <th>Open</th>\n",
       "      <th>High</th>\n",
       "      <th>Low</th>\n",
       "      <th>Close</th>\n",
       "      <th>Adj Close</th>\n",
       "      <th>Volume</th>\n",
       "      <th>Daily Return</th>\n",
       "    </tr>\n",
       "    <tr>\n",
       "      <th>Date</th>\n",
       "      <th></th>\n",
       "      <th></th>\n",
       "      <th></th>\n",
       "      <th></th>\n",
       "      <th></th>\n",
       "      <th></th>\n",
       "      <th></th>\n",
       "    </tr>\n",
       "  </thead>\n",
       "  <tbody>\n",
       "    <tr>\n",
       "      <th>2017-01-04</th>\n",
       "      <td>31.432638</td>\n",
       "      <td>31.641365</td>\n",
       "      <td>31.337761</td>\n",
       "      <td>31.584440</td>\n",
       "      <td>26.156612</td>\n",
       "      <td>22753963</td>\n",
       "      <td>0.008788</td>\n",
       "    </tr>\n",
       "    <tr>\n",
       "      <th>2017-01-05</th>\n",
       "      <td>31.660341</td>\n",
       "      <td>31.963947</td>\n",
       "      <td>31.423149</td>\n",
       "      <td>31.888046</td>\n",
       "      <td>26.408043</td>\n",
       "      <td>21083584</td>\n",
       "      <td>0.009613</td>\n",
       "    </tr>\n",
       "    <tr>\n",
       "      <th>2017-01-06</th>\n",
       "      <td>31.935484</td>\n",
       "      <td>31.973434</td>\n",
       "      <td>31.631880</td>\n",
       "      <td>31.764706</td>\n",
       "      <td>26.305902</td>\n",
       "      <td>18418228</td>\n",
       "      <td>-0.003868</td>\n",
       "    </tr>\n",
       "    <tr>\n",
       "      <th>2017-01-09</th>\n",
       "      <td>31.717268</td>\n",
       "      <td>31.944971</td>\n",
       "      <td>31.669828</td>\n",
       "      <td>31.755219</td>\n",
       "      <td>26.298046</td>\n",
       "      <td>21559886</td>\n",
       "      <td>-0.000299</td>\n",
       "    </tr>\n",
       "    <tr>\n",
       "      <th>2017-01-10</th>\n",
       "      <td>31.869070</td>\n",
       "      <td>31.935484</td>\n",
       "      <td>31.612904</td>\n",
       "      <td>31.726755</td>\n",
       "      <td>26.274475</td>\n",
       "      <td>20444754</td>\n",
       "      <td>-0.000896</td>\n",
       "    </tr>\n",
       "    <tr>\n",
       "      <th>...</th>\n",
       "      <td>...</td>\n",
       "      <td>...</td>\n",
       "      <td>...</td>\n",
       "      <td>...</td>\n",
       "      <td>...</td>\n",
       "      <td>...</td>\n",
       "      <td>...</td>\n",
       "    </tr>\n",
       "    <tr>\n",
       "      <th>2021-12-28</th>\n",
       "      <td>59.049999</td>\n",
       "      <td>59.450001</td>\n",
       "      <td>57.080002</td>\n",
       "      <td>58.009998</td>\n",
       "      <td>58.009998</td>\n",
       "      <td>36901700</td>\n",
       "      <td>-0.020101</td>\n",
       "    </tr>\n",
       "    <tr>\n",
       "      <th>2021-12-29</th>\n",
       "      <td>57.310001</td>\n",
       "      <td>58.029999</td>\n",
       "      <td>57.070000</td>\n",
       "      <td>57.580002</td>\n",
       "      <td>57.580002</td>\n",
       "      <td>26170200</td>\n",
       "      <td>-0.007412</td>\n",
       "    </tr>\n",
       "    <tr>\n",
       "      <th>2021-12-30</th>\n",
       "      <td>57.750000</td>\n",
       "      <td>58.740002</td>\n",
       "      <td>57.529999</td>\n",
       "      <td>58.400002</td>\n",
       "      <td>58.400002</td>\n",
       "      <td>24559000</td>\n",
       "      <td>0.014241</td>\n",
       "    </tr>\n",
       "    <tr>\n",
       "      <th>2021-12-31</th>\n",
       "      <td>58.529999</td>\n",
       "      <td>59.799999</td>\n",
       "      <td>58.439999</td>\n",
       "      <td>59.049999</td>\n",
       "      <td>59.049999</td>\n",
       "      <td>28535400</td>\n",
       "      <td>0.011130</td>\n",
       "    </tr>\n",
       "    <tr>\n",
       "      <th>2022-01-03</th>\n",
       "      <td>58.500000</td>\n",
       "      <td>58.549999</td>\n",
       "      <td>56.340000</td>\n",
       "      <td>56.650002</td>\n",
       "      <td>56.650002</td>\n",
       "      <td>57219200</td>\n",
       "      <td>-0.040643</td>\n",
       "    </tr>\n",
       "  </tbody>\n",
       "</table>\n",
       "<p>1259 rows × 7 columns</p>\n",
       "</div>"
      ],
      "text/plain": [
       "                 Open       High        Low      Close  Adj Close    Volume  \\\n",
       "Date                                                                          \n",
       "2017-01-04  31.432638  31.641365  31.337761  31.584440  26.156612  22753963   \n",
       "2017-01-05  31.660341  31.963947  31.423149  31.888046  26.408043  21083584   \n",
       "2017-01-06  31.935484  31.973434  31.631880  31.764706  26.305902  18418228   \n",
       "2017-01-09  31.717268  31.944971  31.669828  31.755219  26.298046  21559886   \n",
       "2017-01-10  31.869070  31.935484  31.612904  31.726755  26.274475  20444754   \n",
       "...               ...        ...        ...        ...        ...       ...   \n",
       "2021-12-28  59.049999  59.450001  57.080002  58.009998  58.009998  36901700   \n",
       "2021-12-29  57.310001  58.029999  57.070000  57.580002  57.580002  26170200   \n",
       "2021-12-30  57.750000  58.740002  57.529999  58.400002  58.400002  24559000   \n",
       "2021-12-31  58.529999  59.799999  58.439999  59.049999  59.049999  28535400   \n",
       "2022-01-03  58.500000  58.549999  56.340000  56.650002  56.650002  57219200   \n",
       "\n",
       "            Daily Return  \n",
       "Date                      \n",
       "2017-01-04      0.008788  \n",
       "2017-01-05      0.009613  \n",
       "2017-01-06     -0.003868  \n",
       "2017-01-09     -0.000299  \n",
       "2017-01-10     -0.000896  \n",
       "...                  ...  \n",
       "2021-12-28     -0.020101  \n",
       "2021-12-29     -0.007412  \n",
       "2021-12-30      0.014241  \n",
       "2021-12-31      0.011130  \n",
       "2022-01-03     -0.040643  \n",
       "\n",
       "[1259 rows x 7 columns]"
      ]
     },
     "execution_count": 5,
     "metadata": {},
     "output_type": "execute_result"
    }
   ],
   "source": [
    "stock"
   ]
  },
  {
   "cell_type": "markdown",
   "metadata": {
    "cell_id": "00008-b95994dd-42ed-4d5b-bf93-bd2a74c872d0",
    "deepnote_cell_type": "markdown",
    "tags": []
   },
   "source": [
    "Here the news data and the stock data are merged, together in the same dataframe based on the dates."
   ]
  },
  {
   "cell_type": "markdown",
   "metadata": {
    "cell_id": "00009-d67d4e36-d5b7-4c91-9eb0-c3d4cd27c435",
    "deepnote_cell_type": "text-cell-h1",
    "is_collapsed": false,
    "tags": []
   },
   "source": [
    "# Step 2 explore the data (kan slettes??)"
   ]
  },
  {
   "cell_type": "markdown",
   "metadata": {
    "cell_id": "00010-7e387eac-cc97-48e4-9223-5f7e6a753f85",
    "deepnote_cell_type": "text-cell-h1",
    "is_collapsed": false,
    "tags": []
   },
   "source": [
    "# Step 3 Scaling and Feature Selection"
   ]
  },
  {
   "cell_type": "markdown",
   "metadata": {
    "cell_id": "00011-7e0da975-a16d-45df-8c92-e4997530ecda",
    "deepnote_cell_type": "markdown",
    "tags": []
   },
   "source": [
    "Next the data is transformed into wht is needed for the model.\n",
    "\n",
    "* The predict variable is the daily return and looks on the pct change from day to day.\n",
    "* the timeseries is 50, which means that it looks on the previous 50 days to predict the price on the next.\n",
    "* the feature list are those variables that are used to predict the stock price in the multivariate model."
   ]
  },
  {
   "cell_type": "code",
   "execution_count": 6,
   "metadata": {
    "cell_id": "00012-cedcde9b-c033-441c-873b-02f2c70d17f9",
    "deepnote_cell_type": "code",
    "deepnote_to_be_reexecuted": false,
    "execution_millis": 4807695,
    "execution_start": 1640010997649,
    "source_hash": "ebb7b47c",
    "tags": []
   },
   "outputs": [],
   "source": [
    "Predict_variable = 'Daily Return'\n",
    "#LSTM_df = df_input.drop(['Close','Volume'], axis=1)\n",
    "LSTM_df = stock.drop(['Open','Close','Volume'], axis=1)\n",
    "timeseries = 30\n",
    "Feature = LSTM_df.columns\n",
    "#Feature = ['Adj Close','Daily Return','positiv','neutral', 'negativ']\n",
    "stockname = \"Pfizer\"\n",
    "#LSTM_df = LSTM_df.filter(Feature)"
   ]
  },
  {
   "cell_type": "code",
   "execution_count": 7,
   "metadata": {
    "cell_id": "00013-8881507f-384c-4518-9a1d-5e7a77d3563e",
    "deepnote_cell_type": "code",
    "deepnote_to_be_reexecuted": false,
    "execution_millis": 13,
    "execution_start": 1640010997655,
    "source_hash": "ef9e22c5",
    "tags": []
   },
   "outputs": [],
   "source": [
    "#Importing relevant tenserflow libaries and packages\n",
    "import matplotlib.pyplot as plt\n",
    "import datetime as dt\n",
    "from tensorflow import keras\n",
    "from tensorflow.keras.models import Sequential\n",
    "from tensorflow.keras.layers import Dense\n",
    "from tensorflow.keras.layers import SimpleRNN\n",
    "from tensorflow.keras.layers import Dropout\n",
    "from tensorflow.keras.layers import Dense, LSTM\n",
    "from tensorflow.keras.callbacks import EarlyStopping\n",
    "from sklearn.metrics import mean_squared_error, r2_score, mean_absolute_error\n",
    "import math\n",
    "from math import sqrt\n",
    "plt.style.use('ggplot')\n",
    "from datetime import date, timedelta\n",
    "from sklearn.preprocessing import MinMaxScaler"
   ]
  },
  {
   "cell_type": "code",
   "execution_count": 8,
   "metadata": {
    "cell_id": "00014-02098661-db28-432b-bde5-6329588e6126",
    "deepnote_cell_type": "code",
    "deepnote_to_be_reexecuted": false,
    "execution_millis": 5,
    "execution_start": 1640010997678,
    "source_hash": "6b0676b7",
    "tags": []
   },
   "outputs": [],
   "source": [
    "#LSTM_df['Date'] = LSTM_df.index"
   ]
  },
  {
   "cell_type": "code",
   "execution_count": 9,
   "metadata": {
    "cell_id": "00015-82ce4b9e-ccc0-4f07-af83-bdeffaefc33d",
    "deepnote_cell_type": "code"
   },
   "outputs": [
    {
     "data": {
      "text/html": [
       "<div>\n",
       "<style scoped>\n",
       "    .dataframe tbody tr th:only-of-type {\n",
       "        vertical-align: middle;\n",
       "    }\n",
       "\n",
       "    .dataframe tbody tr th {\n",
       "        vertical-align: top;\n",
       "    }\n",
       "\n",
       "    .dataframe thead th {\n",
       "        text-align: right;\n",
       "    }\n",
       "</style>\n",
       "<table border=\"1\" class=\"dataframe\">\n",
       "  <thead>\n",
       "    <tr style=\"text-align: right;\">\n",
       "      <th></th>\n",
       "      <th>High</th>\n",
       "      <th>Low</th>\n",
       "      <th>Adj Close</th>\n",
       "      <th>Daily Return</th>\n",
       "    </tr>\n",
       "    <tr>\n",
       "      <th>Date</th>\n",
       "      <th></th>\n",
       "      <th></th>\n",
       "      <th></th>\n",
       "      <th></th>\n",
       "    </tr>\n",
       "  </thead>\n",
       "  <tbody>\n",
       "    <tr>\n",
       "      <th>2017-01-04</th>\n",
       "      <td>31.641365</td>\n",
       "      <td>31.337761</td>\n",
       "      <td>26.156612</td>\n",
       "      <td>0.008788</td>\n",
       "    </tr>\n",
       "    <tr>\n",
       "      <th>2017-01-05</th>\n",
       "      <td>31.963947</td>\n",
       "      <td>31.423149</td>\n",
       "      <td>26.408043</td>\n",
       "      <td>0.009613</td>\n",
       "    </tr>\n",
       "    <tr>\n",
       "      <th>2017-01-06</th>\n",
       "      <td>31.973434</td>\n",
       "      <td>31.631880</td>\n",
       "      <td>26.305902</td>\n",
       "      <td>-0.003868</td>\n",
       "    </tr>\n",
       "    <tr>\n",
       "      <th>2017-01-09</th>\n",
       "      <td>31.944971</td>\n",
       "      <td>31.669828</td>\n",
       "      <td>26.298046</td>\n",
       "      <td>-0.000299</td>\n",
       "    </tr>\n",
       "    <tr>\n",
       "      <th>2017-01-10</th>\n",
       "      <td>31.935484</td>\n",
       "      <td>31.612904</td>\n",
       "      <td>26.274475</td>\n",
       "      <td>-0.000896</td>\n",
       "    </tr>\n",
       "    <tr>\n",
       "      <th>...</th>\n",
       "      <td>...</td>\n",
       "      <td>...</td>\n",
       "      <td>...</td>\n",
       "      <td>...</td>\n",
       "    </tr>\n",
       "    <tr>\n",
       "      <th>2021-12-28</th>\n",
       "      <td>59.450001</td>\n",
       "      <td>57.080002</td>\n",
       "      <td>58.009998</td>\n",
       "      <td>-0.020101</td>\n",
       "    </tr>\n",
       "    <tr>\n",
       "      <th>2021-12-29</th>\n",
       "      <td>58.029999</td>\n",
       "      <td>57.070000</td>\n",
       "      <td>57.580002</td>\n",
       "      <td>-0.007412</td>\n",
       "    </tr>\n",
       "    <tr>\n",
       "      <th>2021-12-30</th>\n",
       "      <td>58.740002</td>\n",
       "      <td>57.529999</td>\n",
       "      <td>58.400002</td>\n",
       "      <td>0.014241</td>\n",
       "    </tr>\n",
       "    <tr>\n",
       "      <th>2021-12-31</th>\n",
       "      <td>59.799999</td>\n",
       "      <td>58.439999</td>\n",
       "      <td>59.049999</td>\n",
       "      <td>0.011130</td>\n",
       "    </tr>\n",
       "    <tr>\n",
       "      <th>2022-01-03</th>\n",
       "      <td>58.549999</td>\n",
       "      <td>56.340000</td>\n",
       "      <td>56.650002</td>\n",
       "      <td>-0.040643</td>\n",
       "    </tr>\n",
       "  </tbody>\n",
       "</table>\n",
       "<p>1259 rows × 4 columns</p>\n",
       "</div>"
      ],
      "text/plain": [
       "                 High        Low  Adj Close  Daily Return\n",
       "Date                                                     \n",
       "2017-01-04  31.641365  31.337761  26.156612      0.008788\n",
       "2017-01-05  31.963947  31.423149  26.408043      0.009613\n",
       "2017-01-06  31.973434  31.631880  26.305902     -0.003868\n",
       "2017-01-09  31.944971  31.669828  26.298046     -0.000299\n",
       "2017-01-10  31.935484  31.612904  26.274475     -0.000896\n",
       "...               ...        ...        ...           ...\n",
       "2021-12-28  59.450001  57.080002  58.009998     -0.020101\n",
       "2021-12-29  58.029999  57.070000  57.580002     -0.007412\n",
       "2021-12-30  58.740002  57.529999  58.400002      0.014241\n",
       "2021-12-31  59.799999  58.439999  59.049999      0.011130\n",
       "2022-01-03  58.549999  56.340000  56.650002     -0.040643\n",
       "\n",
       "[1259 rows x 4 columns]"
      ]
     },
     "execution_count": 9,
     "metadata": {},
     "output_type": "execute_result"
    }
   ],
   "source": [
    "LSTM_df"
   ]
  },
  {
   "cell_type": "code",
   "execution_count": 10,
   "metadata": {
    "cell_id": "00016-1ea46616-c564-42e7-b010-e6b12da6ea84",
    "deepnote_cell_type": "code",
    "deepnote_to_be_reexecuted": false,
    "execution_millis": 4,
    "execution_start": 1640010997696,
    "source_hash": "542d4372",
    "tags": []
   },
   "outputs": [],
   "source": [
    "# Indexing Batches\n",
    "train_df = LSTM_df.sort_values(by=['Date']).copy()\n",
    "\n",
    "# We safe a copy of the dates index, before we need to reset it to numbers\n",
    "date_index = train_df.index\n",
    "\n",
    "# We reset the index, so we can convert the date-index to a number-index\n",
    "train_df = train_df.reset_index(drop=True).copy()"
   ]
  },
  {
   "cell_type": "markdown",
   "metadata": {
    "cell_id": "00017-1e0fe123-5c83-4345-9db0-660fb0283642",
    "deepnote_cell_type": "markdown",
    "tags": []
   },
   "source": [
    "In the following the features are selected, that are used in the model."
   ]
  },
  {
   "cell_type": "code",
   "execution_count": 11,
   "metadata": {
    "cell_id": "00018-f1a44006-1fcc-4e0a-8b3e-524b46a9ad81",
    "deepnote_cell_type": "code"
   },
   "outputs": [
    {
     "data": {
      "text/html": [
       "<div>\n",
       "<style scoped>\n",
       "    .dataframe tbody tr th:only-of-type {\n",
       "        vertical-align: middle;\n",
       "    }\n",
       "\n",
       "    .dataframe tbody tr th {\n",
       "        vertical-align: top;\n",
       "    }\n",
       "\n",
       "    .dataframe thead th {\n",
       "        text-align: right;\n",
       "    }\n",
       "</style>\n",
       "<table border=\"1\" class=\"dataframe\">\n",
       "  <thead>\n",
       "    <tr style=\"text-align: right;\">\n",
       "      <th></th>\n",
       "      <th>High</th>\n",
       "      <th>Low</th>\n",
       "      <th>Adj Close</th>\n",
       "      <th>Daily Return</th>\n",
       "    </tr>\n",
       "  </thead>\n",
       "  <tbody>\n",
       "    <tr>\n",
       "      <th>0</th>\n",
       "      <td>31.641365</td>\n",
       "      <td>31.337761</td>\n",
       "      <td>26.156612</td>\n",
       "      <td>0.008788</td>\n",
       "    </tr>\n",
       "    <tr>\n",
       "      <th>1</th>\n",
       "      <td>31.963947</td>\n",
       "      <td>31.423149</td>\n",
       "      <td>26.408043</td>\n",
       "      <td>0.009613</td>\n",
       "    </tr>\n",
       "    <tr>\n",
       "      <th>2</th>\n",
       "      <td>31.973434</td>\n",
       "      <td>31.631880</td>\n",
       "      <td>26.305902</td>\n",
       "      <td>-0.003868</td>\n",
       "    </tr>\n",
       "    <tr>\n",
       "      <th>3</th>\n",
       "      <td>31.944971</td>\n",
       "      <td>31.669828</td>\n",
       "      <td>26.298046</td>\n",
       "      <td>-0.000299</td>\n",
       "    </tr>\n",
       "    <tr>\n",
       "      <th>4</th>\n",
       "      <td>31.935484</td>\n",
       "      <td>31.612904</td>\n",
       "      <td>26.274475</td>\n",
       "      <td>-0.000896</td>\n",
       "    </tr>\n",
       "    <tr>\n",
       "      <th>...</th>\n",
       "      <td>...</td>\n",
       "      <td>...</td>\n",
       "      <td>...</td>\n",
       "      <td>...</td>\n",
       "    </tr>\n",
       "    <tr>\n",
       "      <th>1254</th>\n",
       "      <td>59.450001</td>\n",
       "      <td>57.080002</td>\n",
       "      <td>58.009998</td>\n",
       "      <td>-0.020101</td>\n",
       "    </tr>\n",
       "    <tr>\n",
       "      <th>1255</th>\n",
       "      <td>58.029999</td>\n",
       "      <td>57.070000</td>\n",
       "      <td>57.580002</td>\n",
       "      <td>-0.007412</td>\n",
       "    </tr>\n",
       "    <tr>\n",
       "      <th>1256</th>\n",
       "      <td>58.740002</td>\n",
       "      <td>57.529999</td>\n",
       "      <td>58.400002</td>\n",
       "      <td>0.014241</td>\n",
       "    </tr>\n",
       "    <tr>\n",
       "      <th>1257</th>\n",
       "      <td>59.799999</td>\n",
       "      <td>58.439999</td>\n",
       "      <td>59.049999</td>\n",
       "      <td>0.011130</td>\n",
       "    </tr>\n",
       "    <tr>\n",
       "      <th>1258</th>\n",
       "      <td>58.549999</td>\n",
       "      <td>56.340000</td>\n",
       "      <td>56.650002</td>\n",
       "      <td>-0.040643</td>\n",
       "    </tr>\n",
       "  </tbody>\n",
       "</table>\n",
       "<p>1259 rows × 4 columns</p>\n",
       "</div>"
      ],
      "text/plain": [
       "           High        Low  Adj Close  Daily Return\n",
       "0     31.641365  31.337761  26.156612      0.008788\n",
       "1     31.963947  31.423149  26.408043      0.009613\n",
       "2     31.973434  31.631880  26.305902     -0.003868\n",
       "3     31.944971  31.669828  26.298046     -0.000299\n",
       "4     31.935484  31.612904  26.274475     -0.000896\n",
       "...         ...        ...        ...           ...\n",
       "1254  59.450001  57.080002  58.009998     -0.020101\n",
       "1255  58.029999  57.070000  57.580002     -0.007412\n",
       "1256  58.740002  57.529999  58.400002      0.014241\n",
       "1257  59.799999  58.439999  59.049999      0.011130\n",
       "1258  58.549999  56.340000  56.650002     -0.040643\n",
       "\n",
       "[1259 rows x 4 columns]"
      ]
     },
     "execution_count": 11,
     "metadata": {},
     "output_type": "execute_result"
    }
   ],
   "source": [
    "train_df"
   ]
  },
  {
   "cell_type": "code",
   "execution_count": 12,
   "metadata": {
    "cell_id": "00019-36fa5a3d-7367-4f99-9073-8ce4d1a434fb",
    "deepnote_cell_type": "code",
    "deepnote_to_be_reexecuted": false,
    "execution_millis": 17,
    "execution_start": 1640010997709,
    "source_hash": "4dcfbc94",
    "tags": []
   },
   "outputs": [
    {
     "name": "stdout",
     "output_type": "stream",
     "text": [
      "FEATURE LIST\n",
      "['High', 'Low', 'Adj Close', 'Daily Return']\n"
     ]
    }
   ],
   "source": [
    "# List of considered Features\n",
    "FEATURES = Feature\n",
    "print('FEATURE LIST')\n",
    "print([f for f in FEATURES])\n",
    "\n",
    "# Create the dataset with features and filter the data to the list of FEATURES\n",
    "data = pd.DataFrame(train_df)\n",
    "data_filtered = data[FEATURES]\n",
    "\n",
    "# We add a prediction column and set dummy values to prepare the data for scaling\n",
    "data_filtered_ext = data_filtered.copy()\n",
    "data_filtered_ext['Prediction'] = data_filtered_ext[Predict_variable]"
   ]
  },
  {
   "cell_type": "markdown",
   "metadata": {
    "cell_id": "00020-e99d890f-0624-4d4b-8500-b798a3588699",
    "deepnote_cell_type": "markdown",
    "tags": []
   },
   "source": [
    "next the data is scaled meaning variables on different scales are transformed into the same - making it easier for the model. MinMaxScaler is used to scale between 0 and 1."
   ]
  },
  {
   "cell_type": "code",
   "execution_count": 13,
   "metadata": {
    "cell_id": "00021-58ea92a9-d65f-4ffc-8f1a-ebf95b3b00b5",
    "deepnote_cell_type": "code",
    "deepnote_to_be_reexecuted": false,
    "execution_millis": 47,
    "execution_start": 1640010997758,
    "source_hash": "ed833b77",
    "tags": []
   },
   "outputs": [
    {
     "name": "stdout",
     "output_type": "stream",
     "text": [
      "(1259, 4)\n"
     ]
    }
   ],
   "source": [
    "# Get the number of rows in the data\n",
    "nrows = data_filtered.shape[0]\n",
    "\n",
    "# Convert the data to numpy values\n",
    "np_data_unscaled = np.array(data_filtered)\n",
    "np_data = np.reshape(np_data_unscaled, (nrows, -1))\n",
    "print(np_data.shape)\n",
    "\n",
    "# Transform the data by scaling each feature to a range between 0 and 1\n",
    "scaler = MinMaxScaler()\n",
    "np_data_scaled = scaler.fit_transform(np_data_unscaled)\n",
    "\n",
    "# Creating a separate scaler that works on a single column for scaling predictions\n",
    "scaler_pred = MinMaxScaler()\n",
    "df_Close = pd.DataFrame(data_filtered_ext[Predict_variable])\n",
    "np_Close_scaled = scaler_pred.fit_transform(df_Close)"
   ]
  },
  {
   "cell_type": "markdown",
   "metadata": {
    "cell_id": "00022-8f84e8de-e7cb-4544-a85e-155d31483d1b",
    "deepnote_cell_type": "text-cell-h1",
    "is_collapsed": false,
    "tags": []
   },
   "source": [
    "# Step 4 Transforming the Data"
   ]
  },
  {
   "cell_type": "markdown",
   "metadata": {
    "cell_id": "00023-ba64b4e1-27cb-4a58-b508-fcbcbab8d603",
    "deepnote_cell_type": "markdown",
    "tags": []
   },
   "source": [
    "The data needs to be transformed because the model ues three-dimensional datastructure: sequences, time steps and number of features. \n",
    "The data has also been split into a 80% train-set and 20%-test-set. "
   ]
  },
  {
   "cell_type": "code",
   "execution_count": 14,
   "metadata": {
    "cell_id": "00024-6700eae0-078f-42f2-9517-f239ed3d959e",
    "deepnote_cell_type": "code",
    "deepnote_output_heights": [
     328.328125
    ],
    "deepnote_to_be_reexecuted": false,
    "execution_millis": 53,
    "execution_start": 1640010997803,
    "source_hash": "fd17a703",
    "tags": []
   },
   "outputs": [
    {
     "name": "stdout",
     "output_type": "stream",
     "text": [
      "(978, 30, 4) (978,)\n",
      "(251, 30, 4) (251,)\n",
      "0.4337260260033925\n",
      "0.4337260260033925\n"
     ]
    }
   ],
   "source": [
    "# Set the sequence length - this is the timeframe used to make a single prediction\n",
    "sequence_length = timeseries\n",
    "\n",
    "# Prediction Index\n",
    "index_Close = data.columns.get_loc(Predict_variable)\n",
    "\n",
    "# Split the training data into train and train data sets\n",
    "# As a first step, we get the number of rows to train the model on 80% of the data \n",
    "train_data_len = math.ceil(np_data_scaled.shape[0] * 0.8)\n",
    "\n",
    "# Create the training and test data\n",
    "train_data = np_data_scaled[0:train_data_len, :]\n",
    "test_data = np_data_scaled[train_data_len - sequence_length:, :]\n",
    "\n",
    "# The RNN needs data with the format of [samples, time steps, features]\n",
    "# Here, we create N samples, sequence_length time steps per sample, and 6 features\n",
    "def partition_dataset(sequence_length, data):\n",
    "    x, y = [], []\n",
    "    data_len = data.shape[0]\n",
    "    for i in range(sequence_length, data_len):\n",
    "        x.append(data[i-sequence_length:i,:]) #contains sequence_length values 0-sequence_length * columsn\n",
    "        y.append(data[i, index_Close]) #contains the prediction values for validation,  for single-step prediction\n",
    "    \n",
    "    # Convert the x and y to numpy arrays\n",
    "    x = np.array(x)\n",
    "    y = np.array(y)\n",
    "    return x, y\n",
    "# Generate training data and test data\n",
    "x_train, y_train = partition_dataset(sequence_length, train_data)\n",
    "x_test, y_test = partition_dataset(sequence_length, test_data)\n",
    "\n",
    "# Print the shapes: the result is: (rows, training_sequence, features) (prediction value, )\n",
    "print(x_train.shape, y_train.shape)\n",
    "print(x_test.shape, y_test.shape)\n",
    "\n",
    "# Validate that the prediction value and the input match up\n",
    "# The last close price of the second input sample should equal the first prediction value\n",
    "print(x_train[1][sequence_length-1][index_Close])\n",
    "print(y_train[0])"
   ]
  },
  {
   "cell_type": "markdown",
   "metadata": {
    "cell_id": "00025-c772edea-9589-4fc3-a462-6db2ae3a4f2f",
    "deepnote_cell_type": "text-cell-h1",
    "is_collapsed": false,
    "tags": []
   },
   "source": [
    "# Step 5 Train the Multivariate Prediction Model"
   ]
  },
  {
   "cell_type": "markdown",
   "metadata": {
    "cell_id": "00026-d25a2252-be47-4937-8a48-bf955cf32ecd",
    "deepnote_cell_type": "markdown",
    "tags": []
   },
   "source": [
    "Next step is to prepare and train the model. \n",
    "first we initialize a sequential model, which is a stack of layers model, that uses 50 observations to predict the 51th observation.\n"
   ]
  },
  {
   "cell_type": "markdown",
   "metadata": {
    "cell_id": "00027-99c87811-3a73-4c3d-9a22-4b348969fd3e",
    "deepnote_cell_type": "markdown",
    "tags": []
   },
   "source": [
    "Next "
   ]
  },
  {
   "cell_type": "code",
   "execution_count": 25,
   "metadata": {
    "cell_id": "00028-72613f7c-f1ea-4c24-8c58-b4e18d9cee0d",
    "deepnote_cell_type": "code",
    "deepnote_to_be_reexecuted": false,
    "execution_millis": 1281,
    "execution_start": 1640010997881,
    "source_hash": "c5972b97",
    "tags": []
   },
   "outputs": [
    {
     "name": "stdout",
     "output_type": "stream",
     "text": [
      "120 30 4\n"
     ]
    }
   ],
   "source": [
    "# Configure the neural network model\n",
    "model = Sequential()\n",
    "\n",
    "# Model with n_neurons = inputshape Timestamps, each with x_train.shape[2] variables\n",
    "n_neurons = x_train.shape[1] * x_train.shape[2]\n",
    "print(n_neurons, x_train.shape[1], x_train.shape[2])\n",
    "model.add(LSTM(n_neurons, return_sequences=True, input_shape=(x_train.shape[1], x_train.shape[2]))) \n",
    "model.add(Dropout(0.2))\n",
    "model.add(LSTM(n_neurons, return_sequences=False))\n",
    "model.add(Dense(50))\n",
    "model.add(Dropout(0.2))\n",
    "model.add(Dense(1))\n",
    "\n",
    "# Compile the model\n",
    "model.compile(optimizer='adam', loss='mse')"
   ]
  },
  {
   "cell_type": "code",
   "execution_count": 26,
   "metadata": {
    "cell_id": "00029-4ef2a546-0d89-43a6-88b0-ead6739dc6ae",
    "deepnote_cell_type": "code",
    "deepnote_to_be_reexecuted": false,
    "execution_millis": 11,
    "execution_start": 1640010999178,
    "source_hash": "4e6a3b95",
    "tags": []
   },
   "outputs": [
    {
     "name": "stdout",
     "output_type": "stream",
     "text": [
      "Model: \"sequential_1\"\n",
      "_________________________________________________________________\n",
      " Layer (type)                Output Shape              Param #   \n",
      "=================================================================\n",
      " lstm_2 (LSTM)               (None, 30, 120)           60000     \n",
      "                                                                 \n",
      " dropout_2 (Dropout)         (None, 30, 120)           0         \n",
      "                                                                 \n",
      " lstm_3 (LSTM)               (None, 120)               115680    \n",
      "                                                                 \n",
      " dense_2 (Dense)             (None, 50)                6050      \n",
      "                                                                 \n",
      " dropout_3 (Dropout)         (None, 50)                0         \n",
      "                                                                 \n",
      " dense_3 (Dense)             (None, 1)                 51        \n",
      "                                                                 \n",
      "=================================================================\n",
      "Total params: 181,781\n",
      "Trainable params: 181,781\n",
      "Non-trainable params: 0\n",
      "_________________________________________________________________\n"
     ]
    }
   ],
   "source": [
    "model.summary()"
   ]
  },
  {
   "cell_type": "markdown",
   "metadata": {
    "cell_id": "00030-d1592ade-248f-4630-a287-3e51b024dd01",
    "deepnote_cell_type": "markdown",
    "tags": []
   },
   "source": [
    "Next the model is trained, by running a number of epochs:"
   ]
  },
  {
   "cell_type": "code",
   "execution_count": 27,
   "metadata": {
    "cell_id": "00031-53bf2026-117a-4786-bffc-a8800570b96a",
    "deepnote_cell_type": "code",
    "deepnote_to_be_reexecuted": false,
    "execution_millis": 156831,
    "execution_start": 1640010999200,
    "source_hash": "d2034093",
    "tags": []
   },
   "outputs": [
    {
     "name": "stdout",
     "output_type": "stream",
     "text": [
      "Epoch 1/1000\n",
      "8/8 [==============================] - 3s 90ms/step - loss: 0.0517 - val_loss: 0.0133\n",
      "Epoch 2/1000\n",
      "8/8 [==============================] - 0s 13ms/step - loss: 0.0152 - val_loss: 0.0167\n",
      "Epoch 3/1000\n",
      "8/8 [==============================] - 0s 13ms/step - loss: 0.0096 - val_loss: 0.0113\n",
      "Epoch 4/1000\n",
      "8/8 [==============================] - 0s 13ms/step - loss: 0.0090 - val_loss: 0.0083\n",
      "Epoch 5/1000\n",
      "8/8 [==============================] - 0s 12ms/step - loss: 0.0082 - val_loss: 0.0089\n",
      "Epoch 6/1000\n",
      "8/8 [==============================] - 0s 12ms/step - loss: 0.0079 - val_loss: 0.0081\n",
      "Epoch 7/1000\n",
      "8/8 [==============================] - 0s 13ms/step - loss: 0.0079 - val_loss: 0.0083\n",
      "Epoch 8/1000\n",
      "8/8 [==============================] - 0s 13ms/step - loss: 0.0079 - val_loss: 0.0089\n",
      "Epoch 9/1000\n",
      "8/8 [==============================] - 0s 13ms/step - loss: 0.0082 - val_loss: 0.0080\n",
      "Epoch 10/1000\n",
      "8/8 [==============================] - 0s 13ms/step - loss: 0.0078 - val_loss: 0.0086\n",
      "Epoch 11/1000\n",
      "8/8 [==============================] - 0s 14ms/step - loss: 0.0082 - val_loss: 0.0085\n",
      "Epoch 12/1000\n",
      "8/8 [==============================] - 0s 14ms/step - loss: 0.0077 - val_loss: 0.0080\n",
      "Epoch 13/1000\n",
      "8/8 [==============================] - 0s 13ms/step - loss: 0.0077 - val_loss: 0.0084\n",
      "Epoch 14/1000\n",
      "8/8 [==============================] - 0s 12ms/step - loss: 0.0076 - val_loss: 0.0080\n",
      "Epoch 15/1000\n",
      "8/8 [==============================] - 0s 11ms/step - loss: 0.0078 - val_loss: 0.0084\n",
      "Epoch 16/1000\n",
      "8/8 [==============================] - 0s 12ms/step - loss: 0.0072 - val_loss: 0.0087\n",
      "Epoch 17/1000\n",
      "8/8 [==============================] - 0s 12ms/step - loss: 0.0074 - val_loss: 0.0081\n",
      "Epoch 18/1000\n",
      "8/8 [==============================] - 0s 12ms/step - loss: 0.0075 - val_loss: 0.0082\n",
      "Epoch 19/1000\n",
      "8/8 [==============================] - 0s 11ms/step - loss: 0.0077 - val_loss: 0.0082\n",
      "Epoch 20/1000\n",
      "8/8 [==============================] - 0s 13ms/step - loss: 0.0077 - val_loss: 0.0086\n",
      "Epoch 21/1000\n",
      "8/8 [==============================] - 0s 13ms/step - loss: 0.0075 - val_loss: 0.0083\n",
      "Epoch 22/1000\n",
      "8/8 [==============================] - 0s 13ms/step - loss: 0.0079 - val_loss: 0.0085\n",
      "Epoch 23/1000\n",
      "8/8 [==============================] - 0s 13ms/step - loss: 0.0071 - val_loss: 0.0080\n",
      "Epoch 24/1000\n",
      "8/8 [==============================] - 0s 12ms/step - loss: 0.0075 - val_loss: 0.0080\n",
      "Epoch 25/1000\n",
      "8/8 [==============================] - 0s 11ms/step - loss: 0.0073 - val_loss: 0.0083\n",
      "Epoch 26/1000\n",
      "8/8 [==============================] - 0s 12ms/step - loss: 0.0074 - val_loss: 0.0089\n",
      "Epoch 27/1000\n",
      "8/8 [==============================] - 0s 11ms/step - loss: 0.0073 - val_loss: 0.0082\n",
      "Epoch 28/1000\n",
      "8/8 [==============================] - 0s 13ms/step - loss: 0.0072 - val_loss: 0.0082\n",
      "Epoch 29/1000\n",
      "8/8 [==============================] - 0s 12ms/step - loss: 0.0074 - val_loss: 0.0080\n",
      "Epoch 30/1000\n",
      "8/8 [==============================] - 0s 11ms/step - loss: 0.0074 - val_loss: 0.0087\n",
      "Epoch 31/1000\n",
      "8/8 [==============================] - 0s 13ms/step - loss: 0.0074 - val_loss: 0.0081\n",
      "Epoch 32/1000\n",
      "8/8 [==============================] - 0s 12ms/step - loss: 0.0069 - val_loss: 0.0081\n",
      "Epoch 33/1000\n",
      "8/8 [==============================] - 0s 13ms/step - loss: 0.0072 - val_loss: 0.0081\n",
      "Epoch 34/1000\n",
      "8/8 [==============================] - 0s 14ms/step - loss: 0.0075 - val_loss: 0.0082\n",
      "Epoch 35/1000\n",
      "8/8 [==============================] - 0s 13ms/step - loss: 0.0073 - val_loss: 0.0085\n",
      "Epoch 36/1000\n",
      "8/8 [==============================] - 0s 12ms/step - loss: 0.0072 - val_loss: 0.0085\n",
      "Epoch 37/1000\n",
      "8/8 [==============================] - 0s 13ms/step - loss: 0.0073 - val_loss: 0.0086\n",
      "Epoch 38/1000\n",
      "8/8 [==============================] - 0s 12ms/step - loss: 0.0071 - val_loss: 0.0081\n",
      "Epoch 39/1000\n",
      "8/8 [==============================] - 0s 11ms/step - loss: 0.0075 - val_loss: 0.0080\n",
      "Epoch 40/1000\n",
      "8/8 [==============================] - 0s 12ms/step - loss: 0.0077 - val_loss: 0.0081\n",
      "Epoch 41/1000\n",
      "8/8 [==============================] - 0s 12ms/step - loss: 0.0079 - val_loss: 0.0092\n",
      "Epoch 42/1000\n",
      "8/8 [==============================] - 0s 12ms/step - loss: 0.0075 - val_loss: 0.0085\n",
      "Epoch 43/1000\n",
      "8/8 [==============================] - 0s 13ms/step - loss: 0.0072 - val_loss: 0.0080\n",
      "Epoch 44/1000\n",
      "8/8 [==============================] - 0s 13ms/step - loss: 0.0073 - val_loss: 0.0082\n",
      "Epoch 45/1000\n",
      "8/8 [==============================] - 0s 13ms/step - loss: 0.0073 - val_loss: 0.0085\n",
      "Epoch 46/1000\n",
      "8/8 [==============================] - 0s 13ms/step - loss: 0.0073 - val_loss: 0.0085\n",
      "Epoch 47/1000\n",
      "8/8 [==============================] - 0s 13ms/step - loss: 0.0073 - val_loss: 0.0083\n",
      "Epoch 48/1000\n",
      "8/8 [==============================] - 0s 11ms/step - loss: 0.0073 - val_loss: 0.0081\n",
      "Epoch 49/1000\n",
      "8/8 [==============================] - 0s 12ms/step - loss: 0.0075 - val_loss: 0.0084\n",
      "Epoch 50/1000\n",
      "8/8 [==============================] - 0s 12ms/step - loss: 0.0071 - val_loss: 0.0085\n",
      "Epoch 51/1000\n",
      "8/8 [==============================] - 0s 11ms/step - loss: 0.0070 - val_loss: 0.0090\n",
      "Epoch 52/1000\n",
      "8/8 [==============================] - 0s 15ms/step - loss: 0.0074 - val_loss: 0.0082\n",
      "Epoch 53/1000\n",
      "8/8 [==============================] - 0s 13ms/step - loss: 0.0072 - val_loss: 0.0082\n",
      "Epoch 54/1000\n",
      "8/8 [==============================] - 0s 12ms/step - loss: 0.0073 - val_loss: 0.0087\n",
      "Epoch 55/1000\n",
      "8/8 [==============================] - 0s 13ms/step - loss: 0.0076 - val_loss: 0.0080\n",
      "Epoch 56/1000\n",
      "8/8 [==============================] - 0s 12ms/step - loss: 0.0069 - val_loss: 0.0082\n",
      "Epoch 57/1000\n",
      "8/8 [==============================] - 0s 12ms/step - loss: 0.0072 - val_loss: 0.0094\n",
      "Epoch 58/1000\n",
      "8/8 [==============================] - 0s 12ms/step - loss: 0.0070 - val_loss: 0.0088\n",
      "Epoch 59/1000\n",
      "8/8 [==============================] - 0s 12ms/step - loss: 0.0074 - val_loss: 0.0080\n",
      "Epoch 60/1000\n",
      "8/8 [==============================] - 0s 12ms/step - loss: 0.0071 - val_loss: 0.0082\n",
      "Epoch 61/1000\n",
      "8/8 [==============================] - 0s 12ms/step - loss: 0.0074 - val_loss: 0.0085\n",
      "Epoch 62/1000\n",
      "8/8 [==============================] - 0s 12ms/step - loss: 0.0069 - val_loss: 0.0086\n",
      "Epoch 63/1000\n",
      "8/8 [==============================] - 0s 11ms/step - loss: 0.0075 - val_loss: 0.0084\n",
      "Epoch 64/1000\n",
      "8/8 [==============================] - 0s 13ms/step - loss: 0.0070 - val_loss: 0.0081\n",
      "Epoch 65/1000\n",
      "8/8 [==============================] - 0s 12ms/step - loss: 0.0075 - val_loss: 0.0084\n",
      "Epoch 66/1000\n",
      "8/8 [==============================] - 0s 13ms/step - loss: 0.0071 - val_loss: 0.0089\n",
      "Epoch 67/1000\n",
      "8/8 [==============================] - 0s 13ms/step - loss: 0.0075 - val_loss: 0.0090\n",
      "Epoch 68/1000\n",
      "8/8 [==============================] - 0s 12ms/step - loss: 0.0071 - val_loss: 0.0083\n",
      "Epoch 69/1000\n",
      "8/8 [==============================] - 0s 13ms/step - loss: 0.0070 - val_loss: 0.0088\n",
      "Epoch 70/1000\n",
      "8/8 [==============================] - 0s 11ms/step - loss: 0.0073 - val_loss: 0.0082\n",
      "Epoch 71/1000\n",
      "8/8 [==============================] - 0s 12ms/step - loss: 0.0069 - val_loss: 0.0080\n",
      "Epoch 72/1000\n",
      "8/8 [==============================] - 0s 12ms/step - loss: 0.0073 - val_loss: 0.0089\n",
      "Epoch 73/1000\n",
      "8/8 [==============================] - 0s 11ms/step - loss: 0.0071 - val_loss: 0.0082\n",
      "Epoch 74/1000\n",
      "8/8 [==============================] - 0s 11ms/step - loss: 0.0070 - val_loss: 0.0089\n",
      "Epoch 75/1000\n",
      "8/8 [==============================] - 0s 11ms/step - loss: 0.0069 - val_loss: 0.0080\n",
      "Epoch 76/1000\n",
      "8/8 [==============================] - 0s 11ms/step - loss: 0.0071 - val_loss: 0.0084\n",
      "Epoch 77/1000\n",
      "8/8 [==============================] - 0s 12ms/step - loss: 0.0070 - val_loss: 0.0087\n",
      "Epoch 78/1000\n",
      "8/8 [==============================] - 0s 12ms/step - loss: 0.0071 - val_loss: 0.0082\n",
      "Epoch 79/1000\n",
      "8/8 [==============================] - 0s 13ms/step - loss: 0.0072 - val_loss: 0.0081\n",
      "Epoch 80/1000\n",
      "8/8 [==============================] - 0s 12ms/step - loss: 0.0071 - val_loss: 0.0087\n",
      "Epoch 81/1000\n",
      "8/8 [==============================] - 0s 11ms/step - loss: 0.0069 - val_loss: 0.0081\n",
      "Epoch 82/1000\n",
      "8/8 [==============================] - 0s 13ms/step - loss: 0.0073 - val_loss: 0.0080\n",
      "Epoch 83/1000\n",
      "8/8 [==============================] - 0s 11ms/step - loss: 0.0073 - val_loss: 0.0087\n",
      "Epoch 84/1000\n",
      "8/8 [==============================] - 0s 11ms/step - loss: 0.0069 - val_loss: 0.0086\n",
      "Epoch 85/1000\n",
      "8/8 [==============================] - 0s 12ms/step - loss: 0.0069 - val_loss: 0.0082\n",
      "Epoch 86/1000\n",
      "8/8 [==============================] - 0s 11ms/step - loss: 0.0070 - val_loss: 0.0083\n",
      "Epoch 87/1000\n",
      "8/8 [==============================] - 0s 13ms/step - loss: 0.0071 - val_loss: 0.0089\n",
      "Epoch 88/1000\n",
      "8/8 [==============================] - 0s 14ms/step - loss: 0.0070 - val_loss: 0.0083\n",
      "Epoch 89/1000\n",
      "8/8 [==============================] - 0s 12ms/step - loss: 0.0070 - val_loss: 0.0087\n",
      "Epoch 90/1000\n",
      "8/8 [==============================] - 0s 12ms/step - loss: 0.0070 - val_loss: 0.0085\n",
      "Epoch 91/1000\n",
      "8/8 [==============================] - 0s 11ms/step - loss: 0.0070 - val_loss: 0.0081\n",
      "Epoch 92/1000\n",
      "8/8 [==============================] - 0s 12ms/step - loss: 0.0072 - val_loss: 0.0087\n",
      "Epoch 93/1000\n",
      "8/8 [==============================] - 0s 13ms/step - loss: 0.0070 - val_loss: 0.0086\n",
      "Epoch 94/1000\n",
      "8/8 [==============================] - 0s 13ms/step - loss: 0.0072 - val_loss: 0.0085\n",
      "Epoch 95/1000\n",
      "8/8 [==============================] - 0s 13ms/step - loss: 0.0068 - val_loss: 0.0082\n",
      "Epoch 96/1000\n",
      "8/8 [==============================] - 0s 12ms/step - loss: 0.0072 - val_loss: 0.0091\n",
      "Epoch 97/1000\n",
      "8/8 [==============================] - 0s 12ms/step - loss: 0.0070 - val_loss: 0.0082\n",
      "Epoch 98/1000\n",
      "8/8 [==============================] - 0s 13ms/step - loss: 0.0070 - val_loss: 0.0080\n",
      "Epoch 99/1000\n",
      "8/8 [==============================] - 0s 12ms/step - loss: 0.0070 - val_loss: 0.0088\n",
      "Epoch 100/1000\n",
      "8/8 [==============================] - 0s 12ms/step - loss: 0.0070 - val_loss: 0.0085\n",
      "Epoch 101/1000\n",
      "8/8 [==============================] - 0s 12ms/step - loss: 0.0067 - val_loss: 0.0080\n",
      "Epoch 102/1000\n",
      "8/8 [==============================] - 0s 12ms/step - loss: 0.0071 - val_loss: 0.0085\n",
      "Epoch 103/1000\n",
      "8/8 [==============================] - 0s 12ms/step - loss: 0.0067 - val_loss: 0.0085\n",
      "Epoch 104/1000\n",
      "8/8 [==============================] - 0s 12ms/step - loss: 0.0070 - val_loss: 0.0085\n",
      "Epoch 105/1000\n",
      "8/8 [==============================] - 0s 12ms/step - loss: 0.0069 - val_loss: 0.0082\n",
      "Epoch 106/1000\n",
      "8/8 [==============================] - 0s 11ms/step - loss: 0.0069 - val_loss: 0.0085\n",
      "Epoch 107/1000\n",
      "8/8 [==============================] - 0s 11ms/step - loss: 0.0068 - val_loss: 0.0084\n",
      "Epoch 108/1000\n",
      "8/8 [==============================] - 0s 12ms/step - loss: 0.0069 - val_loss: 0.0080\n",
      "Epoch 109/1000\n",
      "8/8 [==============================] - 0s 13ms/step - loss: 0.0071 - val_loss: 0.0083\n",
      "Epoch 110/1000\n",
      "8/8 [==============================] - 0s 14ms/step - loss: 0.0070 - val_loss: 0.0089\n",
      "Epoch 111/1000\n",
      "8/8 [==============================] - 0s 13ms/step - loss: 0.0069 - val_loss: 0.0081\n",
      "Epoch 112/1000\n",
      "8/8 [==============================] - 0s 14ms/step - loss: 0.0069 - val_loss: 0.0088\n",
      "Epoch 113/1000\n",
      "8/8 [==============================] - 0s 16ms/step - loss: 0.0069 - val_loss: 0.0080\n",
      "Epoch 114/1000\n",
      "8/8 [==============================] - 0s 14ms/step - loss: 0.0069 - val_loss: 0.0094\n",
      "Epoch 115/1000\n",
      "8/8 [==============================] - 0s 12ms/step - loss: 0.0067 - val_loss: 0.0083\n",
      "Epoch 116/1000\n",
      "8/8 [==============================] - 0s 14ms/step - loss: 0.0069 - val_loss: 0.0082\n",
      "Epoch 117/1000\n",
      "8/8 [==============================] - 0s 13ms/step - loss: 0.0070 - val_loss: 0.0093\n",
      "Epoch 118/1000\n",
      "8/8 [==============================] - 0s 13ms/step - loss: 0.0070 - val_loss: 0.0082\n",
      "Epoch 119/1000\n",
      "8/8 [==============================] - 0s 12ms/step - loss: 0.0070 - val_loss: 0.0084\n",
      "Epoch 120/1000\n",
      "8/8 [==============================] - 0s 12ms/step - loss: 0.0069 - val_loss: 0.0085\n",
      "Epoch 121/1000\n",
      "8/8 [==============================] - 0s 14ms/step - loss: 0.0068 - val_loss: 0.0083\n",
      "Epoch 122/1000\n",
      "8/8 [==============================] - 0s 14ms/step - loss: 0.0069 - val_loss: 0.0084\n",
      "Epoch 123/1000\n",
      "7/8 [=========================>....] - ETA: 0s - loss: 0.0067Restoring model weights from the end of the best epoch: 23.\n",
      "8/8 [==============================] - 0s 12ms/step - loss: 0.0067 - val_loss: 0.0082\n",
      "Epoch 00123: early stopping\n"
     ]
    }
   ],
   "source": [
    "# Training the model\n",
    "epochs = 1000\n",
    "batch_size = 128\n",
    "early_stop = EarlyStopping(monitor='val_loss', min_delta=1e-6, patience=100, \n",
    "        verbose=1, mode='auto', restore_best_weights=True)\n",
    "history = model.fit(x_train, y_train, \n",
    "                    batch_size=batch_size, \n",
    "                    epochs=epochs,\n",
    "                    validation_data=(x_test, y_test), \n",
    "                    callbacks=[early_stop])"
   ]
  },
  {
   "cell_type": "code",
   "execution_count": 28,
   "metadata": {
    "cell_id": "00032-ba952b67-981b-45f3-bf06-3340c3b2819b",
    "deepnote_cell_type": "code",
    "deepnote_output_heights": [
     446.96875
    ],
    "deepnote_to_be_reexecuted": false,
    "execution_millis": 523,
    "execution_start": 1640011156065,
    "source_hash": "39ad2392",
    "tags": []
   },
   "outputs": [
    {
     "data": {
      "image/png": "[encoded data removed]",
      "text/plain": [
       "<Figure size 720x504 with 1 Axes>"
      ]
     },
     "metadata": {},
     "output_type": "display_data"
    }
   ],
   "source": [
    "epoch = len(history.history['loss'])\n",
    "#Plotting the results\n",
    "loss_train = history.history['loss']\n",
    "loss_val = history.history['val_loss']\n",
    "epochs = range(0,epoch)\n",
    "plt.figure(figsize = (10,7))\n",
    "plt.plot(epochs, loss_train, color=\"black\", label='Training loss')\n",
    "plt.plot(epochs, loss_val, color=\"red\", label='validation loss')\n",
    "plt.title('Training and Validation loss')\n",
    "plt.xlabel('Epochs')\n",
    "plt.ylabel('Loss')\n",
    "plt.legend()\n",
    "plt.show()"
   ]
  },
  {
   "cell_type": "markdown",
   "metadata": {
    "cell_id": "00033-1c837332-c044-4234-b63c-63174c80eb3b",
    "deepnote_cell_type": "markdown",
    "tags": []
   },
   "source": [
    "We see that the loss curves drop and keep on dropping which means the model improves the more it is trained. "
   ]
  },
  {
   "cell_type": "markdown",
   "metadata": {
    "cell_id": "00034-96509a2a-8afe-495e-9a9b-a5cf5cbd5fca",
    "deepnote_cell_type": "text-cell-h1",
    "is_collapsed": false,
    "tags": []
   },
   "source": [
    "# Step 6 Evaluate Model Performance"
   ]
  },
  {
   "cell_type": "markdown",
   "metadata": {
    "cell_id": "00035-82775279-3553-435d-8fee-31e0499bfb34",
    "deepnote_cell_type": "markdown",
    "tags": []
   },
   "source": [
    "Next the model performance can be assesed after the predictions have been reversed-scaled to get it back to the original scale. "
   ]
  },
  {
   "cell_type": "code",
   "execution_count": 29,
   "metadata": {
    "cell_id": "00036-2cf11b80-de4e-48b5-bc56-715914a9420c",
    "deepnote_cell_type": "code",
    "deepnote_to_be_reexecuted": false,
    "execution_millis": 2705,
    "execution_start": 1640011156591,
    "source_hash": "9b48224e",
    "tags": []
   },
   "outputs": [
    {
     "name": "stdout",
     "output_type": "stream",
     "text": [
      "Mean Squared Error (MSE): 0.0\n",
      "Root Mean Absolute Error (RMSE): 0.09\n",
      "Mean Absolute Error (MAE): 0.01\n",
      "Mean Absolute Percentage Error (MAPE): inf %\n",
      "Median Absolute Percentage Error (MDAPE): 98.56 %\n",
      "R Squared (R2): 0.01\n"
     ]
    },
    {
     "name": "stderr",
     "output_type": "stream",
     "text": [
      "C:\\Users\\nixo_\\AppData\\Local\\Temp/ipykernel_17776/2825798527.py:22: RuntimeWarning: divide by zero encountered in true_divide\n",
      "  MAPE = np.mean((np.abs(np.subtract(y_test_unscaled, y_pred)/ y_test_unscaled))) * 100\n",
      "C:\\Users\\nixo_\\AppData\\Local\\Temp/ipykernel_17776/2825798527.py:26: RuntimeWarning: divide by zero encountered in true_divide\n",
      "  MDAPE = np.median((np.abs(np.subtract(y_test_unscaled, y_pred)/ y_test_unscaled)) ) * 100\n"
     ]
    }
   ],
   "source": [
    "# Get the predicted values\n",
    "y_pred_scaled = model.predict(x_test)\n",
    "\n",
    "# Unscale the predicted values\n",
    "y_pred = scaler_pred.inverse_transform(y_pred_scaled)\n",
    "y_test_unscaled = scaler_pred.inverse_transform(y_test.reshape(-1, 1))\n",
    "\n",
    "\n",
    "# Mean Squared Error (MSE)\n",
    "MSE = mean_squared_error(y_test_unscaled, y_pred)\n",
    "print(f'Mean Squared Error (MSE): {np.round(MSE, 2)}')\n",
    "\n",
    "#Root Mean Squared Error (RMSE)\n",
    "rmse = np.sqrt(np.mean(((y_pred_scaled - y_test)**2)))\n",
    "print(f'Root Mean Absolute Error (RMSE): {np.round(rmse, 2)}')\n",
    "\n",
    "# Mean Absolute Error (MAE)\n",
    "MAE = mean_absolute_error(y_test_unscaled, y_pred)\n",
    "print(f'Mean Absolute Error (MAE): {np.round(MAE, 2)}')\n",
    "\n",
    "# Mean Absolute Percentage Error (MAPE)\n",
    "MAPE = np.mean((np.abs(np.subtract(y_test_unscaled, y_pred)/ y_test_unscaled))) * 100\n",
    "print(f'Mean Absolute Percentage Error (MAPE): {np.round(MAPE, 2)} %')\n",
    "\n",
    "# Median Absolute Percentage Error (MDAPE)\n",
    "MDAPE = np.median((np.abs(np.subtract(y_test_unscaled, y_pred)/ y_test_unscaled)) ) * 100\n",
    "print(f'Median Absolute Percentage Error (MDAPE): {np.round(MDAPE, 2)} %')\n",
    "\n",
    "# R Squared (R2)\n",
    "R2 = r2_score(y_test_unscaled, y_pred)\n",
    "print(f'R Squared (R2): {np.round(R2, 2)}')"
   ]
  },
  {
   "cell_type": "markdown",
   "metadata": {
    "cell_id": "00037-c4b90182-4f38-4104-b08e-117b966f8543",
    "deepnote_cell_type": "markdown",
    "tags": []
   },
   "source": [
    "Mean absolute error shows how much our prediction on avarage differ from the actual values.\n",
    "\n",
    "* theese dont give much sense when working with %:\n",
    ">* MAPE is how much the mean of our predictions deviate from the actual value. \n",
    ">* MDAPE is how much the medium of our predictions eviate from the actural value. thereby 50% of the predictions deviate more than 49% from the actual and 50% deviate less than 49% from the acutals"
   ]
  },
  {
   "cell_type": "markdown",
   "metadata": {
    "cell_id": "00038-7284a445-af0b-4817-b1ac-b2c5251a3c43",
    "deepnote_cell_type": "markdown",
    "tags": []
   },
   "source": [
    "Next we plot the predicted vs. actual values and also the test values:"
   ]
  },
  {
   "cell_type": "code",
   "execution_count": 30,
   "metadata": {
    "cell_id": "00039-a06b28ab-9ebd-4cc2-a94d-4c929a0ac3fe",
    "deepnote_cell_type": "code",
    "deepnote_output_heights": [
     null,
     596.96875
    ],
    "deepnote_to_be_reexecuted": false,
    "execution_millis": 901,
    "execution_start": 1640011159321,
    "source_hash": "e5c6544f",
    "tags": []
   },
   "outputs": [
    {
     "name": "stderr",
     "output_type": "stream",
     "text": [
      "C:\\Users\\nixo_\\AppData\\Local\\Temp/ipykernel_17776/211775460.py:15: SettingWithCopyWarning: \n",
      "A value is trying to be set on a copy of a slice from a DataFrame.\n",
      "Try using .loc[row_indexer,col_indexer] = value instead\n",
      "\n",
      "See the caveats in the documentation: https://pandas.pydata.org/pandas-docs/stable/user_guide/indexing.html#returning-a-view-versus-a-copy\n",
      "  valid['Date'] = pd.to_datetime(valid['Date'])\n",
      "C:\\Users\\nixo_\\AppData\\Local\\Temp/ipykernel_17776/211775460.py:16: SettingWithCopyWarning: \n",
      "A value is trying to be set on a copy of a slice from a DataFrame.\n",
      "Try using .loc[row_indexer,col_indexer] = value instead\n",
      "\n",
      "See the caveats in the documentation: https://pandas.pydata.org/pandas-docs/stable/user_guide/indexing.html#returning-a-view-versus-a-copy\n",
      "  train['Date'] = pd.to_datetime(train['Date'])\n"
     ]
    },
    {
     "data": {
      "image/png": "[encoded data removed]",
      "text/plain": [
       "<Figure size 1584x720 with 1 Axes>"
      ]
     },
     "metadata": {},
     "output_type": "display_data"
    }
   ],
   "source": [
    "# The date from which on the date is displayed\n",
    "display_start_date = pd.Timestamp('today') - timedelta(days=400)\n",
    "\n",
    "# Add the date column\n",
    "data_filtered_sub = data_filtered.copy()\n",
    "data_filtered_sub['Date'] = date_index\n",
    "\n",
    "# Add the difference between the valid and predicted prices\n",
    "train = data_filtered_sub[:train_data_len + 1]\n",
    "valid = data_filtered_sub[train_data_len:]\n",
    "valid.insert(1, \"Prediction\", y_pred.ravel(), True)\n",
    "valid.insert(1, \"Difference\", valid[\"Prediction\"] - valid[Predict_variable], True)\n",
    "\n",
    "#Remove timezone\n",
    "valid['Date'] = pd.to_datetime(valid['Date'])\n",
    "train['Date'] = pd.to_datetime(train['Date'])\n",
    "\n",
    "\n",
    "# Zoom in to a closer timeframe\n",
    "valid = valid[valid['Date'] > display_start_date]\n",
    "train = train[train['Date'] > display_start_date]\n",
    "\n",
    "# Visualize the data\n",
    "fig, ax1 = plt.subplots(figsize=(22, 10), sharex=True)\n",
    "xt = train['Date']; yt = train[[Predict_variable]]\n",
    "xv = valid['Date']; yv = valid[[Predict_variable, \"Prediction\"]]\n",
    "plt.title(\"Predictions vs Actual Values\", fontsize=20)\n",
    "plt.ylabel(stockname, fontsize=18)\n",
    "plt.plot(xt, yt, color=\"#039dfc\", linewidth=2.0)\n",
    "plt.plot(xv, yv[\"Prediction\"], color=\"#E91D9E\", linewidth=2.0)\n",
    "plt.plot(xv, yv[Predict_variable], color=\"black\", linewidth=2.0)\n",
    "plt.legend([\"Train\", \"Test Predictions\", \"Actual Values\"], loc=\"upper left\")\n",
    "\n",
    "# # Create the bar plot with the differences\n",
    "x = valid['Date']\n",
    "y = valid[\"Difference\"]\n",
    "\n",
    "# Create custom color range for positive and negative differences\n",
    "valid.loc[y >= 0, 'diff_color'] = \"#2BC97A\"\n",
    "valid.loc[y < 0, 'diff_color'] = \"#C92B2B\"\n",
    "\n",
    "#Plotting the results\n",
    "#plt.bar(x, y, width=0.8, color=valid['diff_color'])\n",
    "plt.grid()\n",
    "plt.show()"
   ]
  },
  {
   "cell_type": "markdown",
   "metadata": {
    "cell_id": "00040-b435b572-2c8a-4c9c-bedd-def0183e56f4",
    "deepnote_cell_type": "markdown",
    "tags": []
   },
   "source": [
    "We see that the test prediction and the actual values follow eachother quite nice, indicating that the model does a ok job at predicting the stock price. \n",
    "In the next section a barplot is made, that shows the difference between predicted and actual stock prices."
   ]
  },
  {
   "cell_type": "code",
   "execution_count": 31,
   "metadata": {
    "cell_id": "00041-b5b47a18-f44e-497b-9683-a21172de2499",
    "deepnote_cell_type": "code",
    "deepnote_output_heights": [
     596.96875
    ],
    "deepnote_to_be_reexecuted": false,
    "execution_millis": 1140,
    "execution_start": 1640011160057,
    "source_hash": "13a52dc6",
    "tags": []
   },
   "outputs": [
    {
     "data": {
      "image/png": "[encoded data removed]",
      "text/plain": [
       "<Figure size 1584x720 with 1 Axes>"
      ]
     },
     "metadata": {},
     "output_type": "display_data"
    }
   ],
   "source": [
    "# Visualize the data\n",
    "fig, ax1 = plt.subplots(figsize=(22, 10), sharex=True)\n",
    "#xt = train['Date']; yt = train[[Predict_variable]]\n",
    "#xv = valid['Date']; yv = valid[[Predict_variable, \"Prediction\"]]\n",
    "plt.title(\"Predictions vs Actual Values\", fontsize=20)\n",
    "plt.ylabel(stockname, fontsize=18)\n",
    "#plt.plot(xt, yt, color=\"#039dfc\", linewidth=2.0)\n",
    "#plt.plot(xv, yv[\"Prediction\"], color=\"#E91D9E\", linewidth=2.0)\n",
    "#plt.plot(xv, yv[Predict_variable], color=\"black\", linewidth=2.0)\n",
    "plt.legend([\"Train\", \"Test Predictions\", \"Actual Values\"], loc=\"upper left\")\n",
    "# # Create the bar plot with the differences\n",
    "x = valid['Date']\n",
    "y = valid[\"Difference\"]\n",
    "\n",
    "# Create custom color range for positive and negative differences\n",
    "valid.loc[y >= 0, 'diff_color'] = \"#2BC97A\"\n",
    "valid.loc[y < 0, 'diff_color'] = \"#C92B2B\"\n",
    "\n",
    "#Plotting the results\n",
    "plt.bar(x, y, width=0.8, color=valid['diff_color'])\n",
    "plt.grid()\n",
    "plt.show()"
   ]
  },
  {
   "cell_type": "markdown",
   "metadata": {
    "cell_id": "00042-b6771dff-4ff7-4dff-9c78-907c2ba051bd",
    "deepnote_cell_type": "text-cell-h1",
    "is_collapsed": false,
    "tags": []
   },
   "source": [
    "# Step 7 Predict Next Day’s Price"
   ]
  },
  {
   "cell_type": "code",
   "execution_count": 32,
   "metadata": {
    "cell_id": "00043-e190453c-be4b-41b3-96bc-678a6cd5dba4",
    "deepnote_cell_type": "code",
    "deepnote_to_be_reexecuted": false,
    "execution_millis": 148,
    "execution_start": 1640011161208,
    "source_hash": "6dfdeea1",
    "tags": []
   },
   "outputs": [
    {
     "name": "stdout",
     "output_type": "stream",
     "text": [
      "The close price for Pfizer at 2022-01-03 08:26:51.514939 was -0.04%\n",
      "The predicted close price is -0.0%\n"
     ]
    },
    {
     "name": "stderr",
     "output_type": "stream",
     "text": [
      "C:\\Users\\nixo_\\AppData\\Local\\Temp/ipykernel_17776/2754855120.py:22: RuntimeWarning: divide by zero encountered in double_scalars\n",
      "  change_percent = np.round(100 - (price_today * 100)/predicted_price, 2)\n"
     ]
    }
   ],
   "source": [
    "df_temp = LSTM_df[-sequence_length:]\n",
    "new_df = df_temp.filter(FEATURES)\n",
    "stockname = 'Pfizer'\n",
    "today = dt.datetime.today() - timedelta(days=1)\n",
    "N = sequence_length\n",
    "\n",
    "# Get the last N day closing price values and scale the data to be values between 0 and 1\n",
    "last_N_days = new_df[-sequence_length:].values\n",
    "last_N_days_scaled = scaler.transform(last_N_days)\n",
    "\n",
    "# Create an empty list and Append past N days\n",
    "X_test_new = []\n",
    "X_test_new.append(last_N_days_scaled)\n",
    "\n",
    "# Convert the X_test data set to a numpy array and reshape the data\n",
    "pred_price_scaled = model.predict(np.array(X_test_new))\n",
    "pred_price_unscaled = scaler_pred.inverse_transform(pred_price_scaled.reshape(-1, 1))\n",
    "\n",
    "# Print last price and predicted price for the next day\n",
    "price_today = np.round(new_df[Predict_variable][-1], 2)\n",
    "predicted_price = np.round(pred_price_unscaled.ravel()[0], 2)\n",
    "change_percent = np.round(100 - (price_today * 100)/predicted_price, 2)\n",
    "\n",
    "plus = '+'; minus = ''\n",
    "print(f'The close price for {stockname} at {today} was {price_today}%')\n",
    "print(f'The predicted close price is {str(np.round(predicted_price, 3))}%')"
   ]
  },
  {
   "cell_type": "markdown",
   "metadata": {
    "cell_id": "00044-fd1c7944-dc44-4b5d-a8d3-21b06c319d90",
    "deepnote_cell_type": "text-cell-h1",
    "is_collapsed": false,
    "tags": []
   },
   "source": [
    "# Backtesting"
   ]
  },
  {
   "cell_type": "code",
   "execution_count": 33,
   "metadata": {
    "cell_id": "00045-21a23300-696c-428c-b34b-f9af90e09cd3",
    "deepnote_cell_type": "code",
    "deepnote_output_heights": [
     21.171875
    ]
   },
   "outputs": [
    {
     "data": {
      "text/plain": [
       "251"
      ]
     },
     "execution_count": 33,
     "metadata": {},
     "output_type": "execute_result"
    }
   ],
   "source": [
    "len(y_pred)"
   ]
  },
  {
   "cell_type": "code",
   "execution_count": 34,
   "metadata": {
    "cell_id": "00046-b0280455-5635-4977-8527-7a5542fba7d3",
    "deepnote_cell_type": "code",
    "deepnote_to_be_reexecuted": false,
    "execution_millis": 10,
    "execution_start": 1640011186654,
    "source_hash": "43e8938",
    "tags": []
   },
   "outputs": [
    {
     "name": "stdout",
     "output_type": "stream",
     "text": [
      "-0.0023815054446458817\n",
      "0.005243600346148014\n"
     ]
    }
   ],
   "source": [
    "#y_pred_unscaled = scaler_pred.inverse_transform(y_pred)\n",
    "#x_test_unscaled = data_filtered.tail(len(y_pred_unscaled))\n",
    "x_test_unscaled = LSTM_df.tail(len(y_pred)).copy()\n",
    "#x_test_unscaled['Predict_close'] = x_test_unscaled.append(pd.DataFrame(y_pred))\n",
    "x_test_unscaled['Predict_close'] = y_pred\n",
    "print(x_test_unscaled.Predict_close.min())\n",
    "print(x_test_unscaled.Predict_close.max())\n",
    "x_test_unscaled.to_csv(\"LSTM_raw_sent.csv\")"
   ]
  },
  {
   "cell_type": "markdown",
   "metadata": {
    "created_in_deepnote_cell": true,
    "deepnote_cell_type": "markdown",
    "tags": []
   },
   "source": [
    "<a style='text-decoration:none;line-height:16px;display:flex;color:#5B5B62;padding:10px;justify-content:end;' href='https://deepnote.com?utm_source=created-in-deepnote-cell&projectId=520f7743-fdb5-41d4-ba65-deb67c6338e8' target=\"_blank\">\n",
    "<img alt='Created in deepnote.com' style='display:inline;max-height:16px;margin:0px;margin-right:7.5px;' src='data:image/svg+xml;base64,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' > </img>\n",
    "Created in <span style='font-weight:600;margin-left:4px;'>Deepnote</span></a>"
   ]
  }
 ],
 "metadata": {
  "deepnote": {
   "is_reactive": false
  },
  "deepnote_execution_queue": [],
  "deepnote_notebook_id": "358ca05b-ce4a-484d-acdc-5d80c4b70f1d",
  "interpreter": {
   "hash": "5fcd9ef9a7fd07ed341f4b7d39229d44b8d65ab67020beddf48d9c8903096275"
  },
  "kernelspec": {
   "display_name": "Python 3.9.7 64-bit ('base': conda)",
   "language": "python",
   "name": "python3"
  },
  "language_info": {
   "codemirror_mode": {
    "name": "ipython",
    "version": 3
   },
   "file_extension": ".py",
   "mimetype": "text/x-python",
   "name": "python",
   "nbconvert_exporter": "python",
   "pygments_lexer": "ipython3",
   "version": "3.9.7"
  },
  "orig_nbformat": 2
 },
 "nbformat": 4,
 "nbformat_minor": 2
}
